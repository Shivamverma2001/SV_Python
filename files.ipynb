{
 "cells": [
  {
   "cell_type": "code",
   "execution_count": 1,
   "id": "cb00b13d",
   "metadata": {},
   "outputs": [
    {
     "name": "stdout",
     "output_type": "stream",
     "text": [
      "<_io.TextIOWrapper name='a.txt' mode='w' encoding='cp1252'>\n"
     ]
    }
   ],
   "source": [
    "f=open(\"a.txt\",\"w\")\n",
    "print(f)"
   ]
  },
  {
   "cell_type": "code",
   "execution_count": 2,
   "id": "e516f171",
   "metadata": {},
   "outputs": [
    {
     "ename": "FileNotFoundError",
     "evalue": "[Errno 2] No such file or directory: 'a.cat'",
     "output_type": "error",
     "traceback": [
      "\u001b[1;31m---------------------------------------------------------------------------\u001b[0m",
      "\u001b[1;31mFileNotFoundError\u001b[0m                         Traceback (most recent call last)",
      "\u001b[1;32m<ipython-input-2-2424545934bb>\u001b[0m in \u001b[0;36m<module>\u001b[1;34m\u001b[0m\n\u001b[1;32m----> 1\u001b[1;33m \u001b[0mf\u001b[0m\u001b[1;33m=\u001b[0m\u001b[0mopen\u001b[0m\u001b[1;33m(\u001b[0m\u001b[1;34m\"a.cat\"\u001b[0m\u001b[1;33m,\u001b[0m\u001b[1;34m\"r\"\u001b[0m\u001b[1;33m)\u001b[0m\u001b[1;33m\u001b[0m\u001b[1;33m\u001b[0m\u001b[0m\n\u001b[0m",
      "\u001b[1;31mFileNotFoundError\u001b[0m: [Errno 2] No such file or directory: 'a.cat'"
     ]
    }
   ],
   "source": [
    "f=open(\"a.cat\",\"r\")"
   ]
  },
  {
   "cell_type": "code",
   "execution_count": 3,
   "id": "1cf23471",
   "metadata": {},
   "outputs": [],
   "source": [
    "f=open(\"a.txt\",\"r\")"
   ]
  },
  {
   "cell_type": "code",
   "execution_count": 18,
   "id": "0fe303f6",
   "metadata": {},
   "outputs": [],
   "source": [
    "f=open(\"a.txt\",\"w\")"
   ]
  },
  {
   "cell_type": "code",
   "execution_count": 19,
   "id": "3290a11a",
   "metadata": {},
   "outputs": [],
   "source": [
    "f.write(\"Now is the time\")\n",
    "f.write(\" to close the file\")\n",
    "f.close()"
   ]
  },
  {
   "cell_type": "code",
   "execution_count": 12,
   "id": "49a77834",
   "metadata": {},
   "outputs": [],
   "source": [
    "f=open(\"a.txt\",\"r\")"
   ]
  },
  {
   "cell_type": "code",
   "execution_count": 13,
   "id": "384fcf4b",
   "metadata": {},
   "outputs": [
    {
     "data": {
      "text/plain": [
       "'Now is the timeto close the file'"
      ]
     },
     "execution_count": 13,
     "metadata": {},
     "output_type": "execute_result"
    }
   ],
   "source": [
    "f.read()"
   ]
  },
  {
   "cell_type": "code",
   "execution_count": 14,
   "id": "443a266e",
   "metadata": {},
   "outputs": [],
   "source": [
    "f.close()"
   ]
  },
  {
   "cell_type": "code",
   "execution_count": 20,
   "id": "eec91024",
   "metadata": {},
   "outputs": [
    {
     "name": "stdout",
     "output_type": "stream",
     "text": [
      "Now is the\n",
      " time to close the file\n"
     ]
    }
   ],
   "source": [
    "f=open(\"a.txt\",\"r\")\n",
    "t1=f.read(10)\n",
    "print(t1)\n",
    "t2=f.read()\n",
    "print(t2)\n",
    "f.close()"
   ]
  },
  {
   "cell_type": "code",
   "execution_count": 24,
   "id": "9630f62d",
   "metadata": {},
   "outputs": [],
   "source": [
    "f1=open(\"a1.txt\",\"w\")\n",
    "f1.write(\"Hello, How are you?\")\n",
    "f1.write(\" Welome to file handling and exception\")\n",
    "f1.close()"
   ]
  },
  {
   "cell_type": "code",
   "execution_count": 26,
   "id": "1bfcceb5",
   "metadata": {},
   "outputs": [
    {
     "name": "stdout",
     "output_type": "stream",
     "text": [
      "<_io.TextIOWrapper name='a1.txt' mode='r' encoding='cp1252'>\n"
     ]
    }
   ],
   "source": [
    "f1=open(\"a1.txt\",\"r\")\n",
    "f1.read()"
   ]
  },
  {
   "cell_type": "code",
   "execution_count": 2,
   "id": "bc9a16a2",
   "metadata": {},
   "outputs": [],
   "source": [
    "def main():\n",
    "    f=open(\"numbers.txt\",\"w\")\n",
    "    for x in range(1,21):\n",
    "        x=str(x)\n",
    "        f.write(\" \")\n",
    "        f.write(x )\n",
    "    f.close()\n",
    "main()\n",
    "f=open"
   ]
  },
  {
   "cell_type": "code",
   "execution_count": 3,
   "id": "d117b2ed",
   "metadata": {},
   "outputs": [],
   "source": [
    "from random import*\n",
    "f=open(\"number1.txt\",\"w\")\n",
    "for x in range(1,51):\n",
    "    x=random()\n",
    "    x=x*10\n",
    "    x=x//1\n",
    "x=str(x)\n",
    "f.write(\" \")\n",
    "f.write(x )\n",
    "f.close()\n",
    "main()\n",
    "f=open"
   ]
  },
  {
   "cell_type": "code",
   "execution_count": null,
   "id": "3c998dbb",
   "metadata": {},
   "outputs": [],
   "source": [
    "text file"
   ]
  },
  {
   "cell_type": "code",
   "execution_count": 10,
   "id": "036503f7",
   "metadata": {},
   "outputs": [],
   "source": [
    "x=open(\"abc1.txt\",\"w\")\n",
    "x.write(\"line one\\nline two\\nline three\\n\")\n",
    "x.close()\n"
   ]
  },
  {
   "cell_type": "code",
   "execution_count": 14,
   "id": "0d1b1b82",
   "metadata": {},
   "outputs": [
    {
     "name": "stdout",
     "output_type": "stream",
     "text": [
      "line one\n",
      "\n",
      "['line two\\n', 'line three\\n']\n"
     ]
    }
   ],
   "source": [
    "x=open(\"abc1.txt\",\"r\")\n",
    "t1=x.readline()\n",
    "print(t1)\n",
    "t2=x.readlines()\n",
    "print(t2)"
   ]
  },
  {
   "cell_type": "code",
   "execution_count": 13,
   "id": "bb42828d",
   "metadata": {},
   "outputs": [
    {
     "name": "stdout",
     "output_type": "stream",
     "text": [
      "['line one\\n', 'line two\\n', 'line three\\n']\n"
     ]
    }
   ],
   "source": [
    "x=open(\"abc1.txt\",\"r\")\n",
    "t1=x.readlines()\n",
    "print(t1)"
   ]
  },
  {
   "cell_type": "code",
   "execution_count": 15,
   "id": "bf40e873",
   "metadata": {},
   "outputs": [],
   "source": [
    "x.close()"
   ]
  },
  {
   "cell_type": "code",
   "execution_count": 16,
   "id": "269a930b",
   "metadata": {},
   "outputs": [
    {
     "data": {
      "text/plain": [
       "'52'"
      ]
     },
     "execution_count": 16,
     "metadata": {},
     "output_type": "execute_result"
    }
   ],
   "source": [
    "cars=52\n",
    "\"%d\"%cars"
   ]
  },
  {
   "cell_type": "code",
   "execution_count": 18,
   "id": "50a16d70",
   "metadata": {},
   "outputs": [
    {
     "data": {
      "text/plain": [
       "'In July we sold 52 cars'"
      ]
     },
     "execution_count": 18,
     "metadata": {},
     "output_type": "execute_result"
    }
   ],
   "source": [
    "cars=52\n",
    "\"In July we sold %d cars\" %cars"
   ]
  },
  {
   "cell_type": "code",
   "execution_count": 19,
   "id": "a9a9a1c6",
   "metadata": {},
   "outputs": [
    {
     "data": {
      "text/plain": [
       "'In 34 days we made 6.100000 million dollar.'"
      ]
     },
     "execution_count": 19,
     "metadata": {},
     "output_type": "execute_result"
    }
   ],
   "source": [
    "\"In %d days we made %f million %s.\"%(34,6.1,'dollar')"
   ]
  },
  {
   "cell_type": "code",
   "execution_count": 20,
   "id": "cb38e887",
   "metadata": {},
   "outputs": [
    {
     "ename": "TypeError",
     "evalue": "not enough arguments for format string",
     "output_type": "error",
     "traceback": [
      "\u001b[1;31m---------------------------------------------------------------------------\u001b[0m",
      "\u001b[1;31mTypeError\u001b[0m                                 Traceback (most recent call last)",
      "\u001b[1;32m<ipython-input-20-40c2528d16dd>\u001b[0m in \u001b[0;36m<module>\u001b[1;34m\u001b[0m\n\u001b[1;32m----> 1\u001b[1;33m \u001b[1;34m\"%d %d %d\"\u001b[0m\u001b[1;33m%\u001b[0m\u001b[1;33m(\u001b[0m\u001b[1;36m1\u001b[0m\u001b[1;33m,\u001b[0m\u001b[1;36m2\u001b[0m\u001b[1;33m)\u001b[0m\u001b[1;33m\u001b[0m\u001b[1;33m\u001b[0m\u001b[0m\n\u001b[0m",
      "\u001b[1;31mTypeError\u001b[0m: not enough arguments for format string"
     ]
    }
   ],
   "source": [
    "\"%d %d %d\"%(1,2)"
   ]
  },
  {
   "cell_type": "code",
   "execution_count": 21,
   "id": "45ce0d9d",
   "metadata": {},
   "outputs": [
    {
     "data": {
      "text/plain": [
       "'    62'"
      ]
     },
     "execution_count": 21,
     "metadata": {},
     "output_type": "execute_result"
    }
   ],
   "source": [
    "\"%6d\"%62"
   ]
  },
  {
   "cell_type": "code",
   "execution_count": 22,
   "id": "12b3e9cc",
   "metadata": {},
   "outputs": [
    {
     "data": {
      "text/plain": [
       "'52 34'"
      ]
     },
     "execution_count": 22,
     "metadata": {},
     "output_type": "execute_result"
    }
   ],
   "source": [
    "x=52\n",
    "y=34\n",
    "\"%d %d\"%(x,y)"
   ]
  },
  {
   "cell_type": "code",
   "execution_count": 23,
   "id": "65877e27",
   "metadata": {},
   "outputs": [
    {
     "data": {
      "text/plain": [
       "'    6.100000'"
      ]
     },
     "execution_count": 23,
     "metadata": {},
     "output_type": "execute_result"
    }
   ],
   "source": [
    "\"%12f\"%6.1"
   ]
  },
  {
   "cell_type": "code",
   "execution_count": 24,
   "id": "50df9abe",
   "metadata": {},
   "outputs": [
    {
     "data": {
      "text/plain": [
       "'62    '"
      ]
     },
     "execution_count": 24,
     "metadata": {},
     "output_type": "execute_result"
    }
   ],
   "source": [
    "\"%-6d\"%62"
   ]
  },
  {
   "cell_type": "code",
   "execution_count": 27,
   "id": "ca63e79c",
   "metadata": {},
   "outputs": [
    {
     "name": "stdout",
     "output_type": "stream",
     "text": [
      "        6.10\n"
     ]
    },
    {
     "data": {
      "text/plain": [
       "'      6.1000'"
      ]
     },
     "execution_count": 27,
     "metadata": {},
     "output_type": "execute_result"
    }
   ],
   "source": [
    "print(\"%12.2f\"%6.1)\n",
    "\"%12.4f\"%6.1"
   ]
  },
  {
   "cell_type": "code",
   "execution_count": 30,
   "id": "815e3093",
   "metadata": {},
   "outputs": [
    {
     "data": {
      "text/plain": [
       "'marry                       3.230'"
      ]
     },
     "execution_count": 30,
     "metadata": {},
     "output_type": "execute_result"
    }
   ],
   "source": [
    "\"%-20s %12.3f\"%(\"marry\",3.23)"
   ]
  },
  {
   "cell_type": "code",
   "execution_count": null,
   "id": "a22316c0",
   "metadata": {},
   "outputs": [],
   "source": []
  }
 ],
 "metadata": {
  "kernelspec": {
   "display_name": "Python 3",
   "language": "python",
   "name": "python3"
  },
  "language_info": {
   "codemirror_mode": {
    "name": "ipython",
    "version": 3
   },
   "file_extension": ".py",
   "mimetype": "text/x-python",
   "name": "python",
   "nbconvert_exporter": "python",
   "pygments_lexer": "ipython3",
   "version": "3.8.8"
  }
 },
 "nbformat": 4,
 "nbformat_minor": 5
}
