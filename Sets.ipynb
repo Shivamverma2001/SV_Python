{
 "cells": [
  {
   "cell_type": "code",
   "execution_count": 1,
   "id": "2d1f9019",
   "metadata": {},
   "outputs": [],
   "source": [
    "import re"
   ]
  },
  {
   "cell_type": "code",
   "execution_count": 2,
   "id": "a05e749e",
   "metadata": {},
   "outputs": [
    {
     "name": "stdout",
     "output_type": "stream",
     "text": [
      "['r', 'a', 'n', 'n', 'a', 'n']\n",
      "match\n"
     ]
    }
   ],
   "source": [
    "txt=\"The rain 9 in Spain\"\n",
    "x=re.findall(\"[arn]\",txt)#string has a,r,n has character\n",
    "print(x)\n",
    "if x:\n",
    "    print(\"match\")\n",
    "else:\n",
    "    print(\"no match\")"
   ]
  },
  {
   "cell_type": "code",
   "execution_count": 3,
   "id": "8c3c69c1",
   "metadata": {},
   "outputs": [
    {
     "name": "stdout",
     "output_type": "stream",
     "text": [
      "[]\n",
      "no match\n"
     ]
    }
   ],
   "source": [
    "txt=\"The rain 9 in Spain\"\n",
    "x=re.findall(\"[z]\",txt)#string has a,r,n has character\n",
    "print(x)\n",
    "if x:\n",
    "    print(\"match\")\n",
    "else:\n",
    "    print(\"no match\")"
   ]
  },
  {
   "cell_type": "code",
   "execution_count": 4,
   "id": "45f28e4a",
   "metadata": {},
   "outputs": [
    {
     "name": "stdout",
     "output_type": "stream",
     "text": [
      "['h', 'e', 'r', 'a', 'i', 'n', 'i', 'n', 'p', 'a', 'i', 'n']\n",
      "match\n"
     ]
    }
   ],
   "source": [
    "txt=\"The rain 9 in Spain\"\n",
    "x=re.findall(\"[a-r]\",txt)#string has any character between a-r has character\n",
    "print(x)\n",
    "if x:\n",
    "    print(\"match\")\n",
    "else:\n",
    "    print(\"no match\")"
   ]
  },
  {
   "cell_type": "code",
   "execution_count": 5,
   "id": "ec83bf14",
   "metadata": {},
   "outputs": [
    {
     "name": "stdout",
     "output_type": "stream",
     "text": [
      "['T', 'h', 'e', ' ', 'r', 'i', 'n', ' ', '9', ' ', 'i', 'n', ' ', 'S', 'p', 'i', 'n']\n",
      "match\n"
     ]
    }
   ],
   "source": [
    "txt=\"The rain 9 in Spain\"\n",
    "x=re.findall(\"[^a-c]\",txt)#string has character except a-c\n",
    "print(x)\n",
    "if x:\n",
    "    print(\"match\")\n",
    "else:\n",
    "    print(\"no match\")"
   ]
  },
  {
   "cell_type": "code",
   "execution_count": 6,
   "id": "f9d2bad5",
   "metadata": {},
   "outputs": [
    {
     "name": "stdout",
     "output_type": "stream",
     "text": [
      "['9']\n",
      "match\n"
     ]
    }
   ],
   "source": [
    "txt=\"The rain 9 in Spain\"\n",
    "x=re.findall(\"[0-9]\",txt)#string has 0-9 has character\n",
    "print(x)\n",
    "if x:\n",
    "    print(\"match\")\n",
    "else:\n",
    "    print(\"no match\")"
   ]
  },
  {
   "cell_type": "code",
   "execution_count": 7,
   "id": "b9c48c7c",
   "metadata": {},
   "outputs": [
    {
     "name": "stdout",
     "output_type": "stream",
     "text": [
      "['34']\n",
      "match\n"
     ]
    }
   ],
   "source": [
    "txt=\"The 34 rain 69 in Spain\"\n",
    "x=re.findall(\"[0-5][0-9]\",txt)#string has character 0-5, 0-9\n",
    "print(x)\n",
    "if x:\n",
    "    print(\"match\")\n",
    "else:\n",
    "    print(\"no match\")"
   ]
  },
  {
   "cell_type": "code",
   "execution_count": 10,
   "id": "cf897c90",
   "metadata": {},
   "outputs": [
    {
     "name": "stdout",
     "output_type": "stream",
     "text": [
      "['T', 'h', 'e', 'r', 'a', 'i', 'n', 'i', 'n', 'S', 'p', 'a', 'i', 'n']\n",
      "match\n"
     ]
    }
   ],
   "source": [
    "txt=\"The rain 9 in Spain\"\n",
    "x=re.findall(\"[a-zA-Z]\",txt)#string has any lower or upper case character\n",
    "print(x)\n",
    "if x:\n",
    "    print(\"match\")\n",
    "else:\n",
    "    print(\"no match\")"
   ]
  },
  {
   "cell_type": "code",
   "execution_count": 11,
   "id": "54b3c671",
   "metadata": {},
   "outputs": [
    {
     "name": "stdout",
     "output_type": "stream",
     "text": [
      "['+']\n",
      "match\n"
     ]
    }
   ],
   "source": [
    "txt=\"The rain 9 in +Spain\"\n",
    "x=re.findall(\"[+]\",txt)#string has a,r,n has character\n",
    "print(x)\n",
    "if x:\n",
    "    print(\"match\")\n",
    "else:\n",
    "    print(\"no match\")"
   ]
  },
  {
   "cell_type": "code",
   "execution_count": 12,
   "id": "4c820eea",
   "metadata": {},
   "outputs": [
    {
     "name": "stdout",
     "output_type": "stream",
     "text": [
      "The first white-space character is located in positiion:  3\n"
     ]
    }
   ],
   "source": [
    "txt=\"The rain in Spain\"\n",
    "x=re.search(\"\\s\",txt)\n",
    "print(\"The first white-space character is located in positiion: \",x.start())"
   ]
  },
  {
   "cell_type": "code",
   "execution_count": 13,
   "id": "f8340302",
   "metadata": {},
   "outputs": [
    {
     "name": "stdout",
     "output_type": "stream",
     "text": [
      "['The', 'rain', 'in', 'Spain']\n"
     ]
    }
   ],
   "source": [
    "txt=\"The rain in Spain\"\n",
    "x=re.split(\"\\s\",txt)\n",
    "print(x)"
   ]
  },
  {
   "cell_type": "code",
   "execution_count": 14,
   "id": "e542ef94",
   "metadata": {},
   "outputs": [
    {
     "name": "stdout",
     "output_type": "stream",
     "text": [
      "['The', 'rain in Spain']\n"
     ]
    }
   ],
   "source": [
    "txt=\"The rain in Spain\"\n",
    "x=re.split(\"\\s\",txt,1)\n",
    "print(x)"
   ]
  },
  {
   "cell_type": "code",
   "execution_count": 17,
   "id": "080717d2",
   "metadata": {},
   "outputs": [
    {
     "name": "stdout",
     "output_type": "stream",
     "text": [
      "The,rain,in,Spain\n"
     ]
    }
   ],
   "source": [
    "txt=\"The rain in Spain\"\n",
    "x=re.sub(\"\\s\",\",\",txt)\n",
    "print(x)"
   ]
  },
  {
   "cell_type": "code",
   "execution_count": 18,
   "id": "dd9a0845",
   "metadata": {},
   "outputs": [
    {
     "name": "stdout",
     "output_type": "stream",
     "text": [
      "The,rain,in Spain\n"
     ]
    }
   ],
   "source": [
    "txt=\"The rain in Spain\"\n",
    "x=re.sub(\"\\s\",\",\",txt,2)\n",
    "print(x)"
   ]
  },
  {
   "cell_type": "code",
   "execution_count": 19,
   "id": "4a6cd433",
   "metadata": {},
   "outputs": [
    {
     "name": "stdout",
     "output_type": "stream",
     "text": [
      "<re.Match object; span=(5, 7), match='ai'>\n"
     ]
    }
   ],
   "source": [
    "#The search() fnc returns a Match object\n",
    "txt=\"The rain in Spain\"\n",
    "x=re.search(\"ai\",txt)\n",
    "print(x)"
   ]
  },
  {
   "cell_type": "code",
   "execution_count": 20,
   "id": "547951df",
   "metadata": {},
   "outputs": [
    {
     "name": "stdout",
     "output_type": "stream",
     "text": [
      "(12, 17)\n"
     ]
    }
   ],
   "source": [
    "txt=\"The rain in Spain\"\n",
    "x=re.search(r\"\\bS\\w+\",txt)\n",
    "print(x.span())"
   ]
  },
  {
   "cell_type": "code",
   "execution_count": 21,
   "id": "fe86ea6c",
   "metadata": {},
   "outputs": [
    {
     "name": "stdout",
     "output_type": "stream",
     "text": [
      "The rain in Spain\n"
     ]
    }
   ],
   "source": [
    "txt=\"The rain in Spain\"\n",
    "x=re.search(r\"\\bS\\w+\",txt)\n",
    "print(x.string)"
   ]
  },
  {
   "cell_type": "code",
   "execution_count": 22,
   "id": "90f64071",
   "metadata": {},
   "outputs": [
    {
     "name": "stdout",
     "output_type": "stream",
     "text": [
      "Spain\n"
     ]
    }
   ],
   "source": [
    "txt=\"The rain in Spain\"\n",
    "x=re.search(r\"\\bS\\w+\",txt)\n",
    "print(x.group())"
   ]
  },
  {
   "cell_type": "code",
   "execution_count": 25,
   "id": "cd869bcb",
   "metadata": {},
   "outputs": [
    {
     "name": "stdout",
     "output_type": "stream",
     "text": [
      "['ain', 'ain']\n"
     ]
    }
   ],
   "source": [
    "txt=\"The rain in Spain\"\n",
    "x=re.findall(r\"ain\\b\",txt)\n",
    "print(x)"
   ]
  },
  {
   "cell_type": "code",
   "execution_count": null,
   "id": "bc596584",
   "metadata": {},
   "outputs": [],
   "source": []
  }
 ],
 "metadata": {
  "kernelspec": {
   "display_name": "Python 3",
   "language": "python",
   "name": "python3"
  },
  "language_info": {
   "codemirror_mode": {
    "name": "ipython",
    "version": 3
   },
   "file_extension": ".py",
   "mimetype": "text/x-python",
   "name": "python",
   "nbconvert_exporter": "python",
   "pygments_lexer": "ipython3",
   "version": "3.8.8"
  }
 },
 "nbformat": 4,
 "nbformat_minor": 5
}
