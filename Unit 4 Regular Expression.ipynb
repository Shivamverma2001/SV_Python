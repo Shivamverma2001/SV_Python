{
 "cells": [
  {
   "cell_type": "code",
   "execution_count": 6,
   "id": "4398b02c",
   "metadata": {},
   "outputs": [],
   "source": [
    "import re         #re means regular expression"
   ]
  },
  {
   "cell_type": "code",
   "execution_count": 10,
   "id": "db1abe5e",
   "metadata": {},
   "outputs": [
    {
     "name": "stdout",
     "output_type": "stream",
     "text": [
      "Yes! We have a match\n"
     ]
    }
   ],
   "source": [
    "txt=\"The rain in Spain\"\n",
    "x=re.search(\"^The.*Spain$\",txt)\n",
    "if x:\n",
    "    print(\"Yes! We have a match\")\n",
    "else:\n",
    "    print(\"No match\")"
   ]
  },
  {
   "cell_type": "code",
   "execution_count": 11,
   "id": "1554fca1",
   "metadata": {},
   "outputs": [
    {
     "name": "stdout",
     "output_type": "stream",
     "text": [
      "['h', 'e', 'a', 'i', 'n', 'i', 'n', 'a', 'i', 'n']\n"
     ]
    }
   ],
   "source": [
    "#RegEx Functions\n",
    "txt=\"The rain in Spain\"\n",
    "x=re.findall(\"[a-n]\",txt)\n",
    "print(x)"
   ]
  },
  {
   "cell_type": "code",
   "execution_count": 12,
   "id": "87f2b71c",
   "metadata": {},
   "outputs": [
    {
     "name": "stdout",
     "output_type": "stream",
     "text": [
      "['0', '1']\n"
     ]
    }
   ],
   "source": [
    "txt=\"The rain in Spain01\"\n",
    "x=re.findall(\"\\d\",txt)\n",
    "print(x)"
   ]
  },
  {
   "cell_type": "code",
   "execution_count": 17,
   "id": "fe6a8cd5",
   "metadata": {},
   "outputs": [
    {
     "name": "stdout",
     "output_type": "stream",
     "text": [
      "['hello p']\n"
     ]
    }
   ],
   "source": [
    "txt=\"hello panets\"\n",
    "x=re.findall(\"he....p\",txt)\n",
    "print(x)#['hello']"
   ]
  },
  {
   "cell_type": "code",
   "execution_count": 19,
   "id": "36ba4b61",
   "metadata": {},
   "outputs": [
    {
     "name": "stdout",
     "output_type": "stream",
     "text": [
      "['hello p']\n",
      "['hell']\n"
     ]
    }
   ],
   "source": [
    "txt=\"hello panets\"\n",
    "x=re.findall(\"he.*p\",txt)\n",
    "y=re.findall(\"he.*l\",txt)\n",
    "print(x)#['hello p']\n",
    "print(y)#['hell']"
   ]
  },
  {
   "cell_type": "code",
   "execution_count": 20,
   "id": "50a0be64",
   "metadata": {},
   "outputs": [
    {
     "name": "stdout",
     "output_type": "stream",
     "text": [
      "['hello p']\n",
      "['hell']\n"
     ]
    }
   ],
   "source": [
    "txt=\"hello panets\"\n",
    "x=re.findall(\"he.+p\",txt)\n",
    "y=re.findall(\"he.+l\",txt)\n",
    "print(x)#['hello p']\n",
    "print(y)#['hell']"
   ]
  },
  {
   "cell_type": "code",
   "execution_count": 28,
   "id": "1ec51314",
   "metadata": {},
   "outputs": [
    {
     "name": "stdout",
     "output_type": "stream",
     "text": [
      "['hell']\n"
     ]
    }
   ],
   "source": [
    "txt=\"hello panets\"\n",
    "x=re.findall(\"he.?l\",txt)\n",
    "print(x)#['hell']"
   ]
  },
  {
   "cell_type": "code",
   "execution_count": 30,
   "id": "0e957767",
   "metadata": {},
   "outputs": [
    {
     "name": "stdout",
     "output_type": "stream",
     "text": [
      "['hello']\n"
     ]
    }
   ],
   "source": [
    "txt=\"hello panets\"\n",
    "x=re.findall(\"he.{2}o\",txt)\n",
    "print(x)#['hello']"
   ]
  },
  {
   "cell_type": "code",
   "execution_count": 33,
   "id": "fd68e4fd",
   "metadata": {},
   "outputs": [
    {
     "name": "stdout",
     "output_type": "stream",
     "text": [
      "['hello']\n",
      "['hello', 'planets']\n"
     ]
    }
   ],
   "source": [
    "txt=\"hello planets\"\n",
    "x=re.findall(\"hello|Hello\",txt)\n",
    "print(x)#['hello']\n",
    "y=re.findall(\"hello|planets\",txt)\n",
    "print(y)#['hello', 'planets']"
   ]
  },
  {
   "cell_type": "code",
   "execution_count": 35,
   "id": "27f0eb25",
   "metadata": {},
   "outputs": [
    {
     "name": "stdout",
     "output_type": "stream",
     "text": [
      "['The']\n"
     ]
    }
   ],
   "source": [
    "#Special Sequence\n",
    "txt=\"The rain in Spain\"\n",
    "x=re.findall(\"\\AThe\",txt)\n",
    "print(x)#['The']"
   ]
  },
  {
   "cell_type": "code",
   "execution_count": 37,
   "id": "3a8afa7f",
   "metadata": {},
   "outputs": [
    {
     "name": "stdout",
     "output_type": "stream",
     "text": [
      "['ain', 'ain']\n",
      "[]\n"
     ]
    }
   ],
   "source": [
    "txt=\"The rain in Spain\"\n",
    "x=re.findall(r\"ain\\b\",txt)\n",
    "print(x)#['ain', 'ain']\n",
    "y=re.findall(r\"\\bain\",txt)\n",
    "print(y)#[]"
   ]
  },
  {
   "cell_type": "code",
   "execution_count": 38,
   "id": "708497f3",
   "metadata": {},
   "outputs": [
    {
     "name": "stdout",
     "output_type": "stream",
     "text": [
      "['5', '7']\n",
      "['T', 'h', 'e', ' ', 'r', 'a', 'i', 'n', ' ', 'i', 'n', ' ', ' ', 'S', 'p', 'a', 'i', 'n']\n"
     ]
    }
   ],
   "source": [
    "txt=\"The rain in 57 Spain\"\n",
    "x=re.findall(\"\\d\",txt)\n",
    "print(x)#['5', '7']\n",
    "y=re.findall(\"\\D\",txt)\n",
    "print(y)#['T', 'h', 'e', ' ', 'r', 'a', 'i', 'n', ' ', 'i', 'n', ' ', ' ', 'S', 'p', 'a', 'i', 'n']"
   ]
  },
  {
   "cell_type": "code",
   "execution_count": 40,
   "id": "924e77f8",
   "metadata": {},
   "outputs": [
    {
     "name": "stdout",
     "output_type": "stream",
     "text": [
      "[' ', ' ', ' ', ' ']\n",
      "['T', 'h', 'e', 'r', 'a', 'i', 'n', 'i', 'n', '5', '7', 'S', 'p', 'a', 'i', 'n']\n"
     ]
    }
   ],
   "source": [
    "txt=\"The rain in 57 Spain\"\n",
    "x=re.findall(\"\\s\",txt)\n",
    "print(x)#[' ', ' ', ' ', ' ']\n",
    "y=re.findall(\"\\S\",txt)\n",
    "print(y)#['T', 'h', 'e', 'r', 'a', 'i', 'n', 'i', 'n', '5', '7', 'S', 'p', 'a', 'i', 'n']"
   ]
  },
  {
   "cell_type": "code",
   "execution_count": 41,
   "id": "752fabbc",
   "metadata": {},
   "outputs": [
    {
     "name": "stdout",
     "output_type": "stream",
     "text": [
      "['T', 'h', 'e', 'r', 'a', 'i', 'n', 'i', 'n', '5', '7', 'S', 'p', 'a', 'i', 'n']\n",
      "[' ', ' ', ' ', ' ']\n"
     ]
    }
   ],
   "source": [
    "txt=\"The rain in 57 Spain\"\n",
    "x=re.findall(\"\\w\",txt)\n",
    "print(x)#['T', 'h', 'e', 'r', 'a', 'i', 'n', 'i', 'n', '5', '7', 'S', 'p', 'a', 'i', 'n']\n",
    "y=re.findall(\"\\W\",txt)\n",
    "print(y)#[' ', ' ', ' ', ' ']"
   ]
  },
  {
   "cell_type": "code",
   "execution_count": 44,
   "id": "c769f834",
   "metadata": {},
   "outputs": [
    {
     "name": "stdout",
     "output_type": "stream",
     "text": [
      "['Spain']\n"
     ]
    }
   ],
   "source": [
    "txt=\"The rain in 57 Spain\"\n",
    "x=re.findall(\"Spain\\Z\",txt)\n",
    "print(x)#['Spain']"
   ]
  },
  {
   "cell_type": "code",
   "execution_count": 45,
   "id": "95d07177",
   "metadata": {},
   "outputs": [
    {
     "name": "stdout",
     "output_type": "stream",
     "text": [
      "['r', 'a', 'n', 'n', 'a', 'n']\n"
     ]
    }
   ],
   "source": [
    "#Sets\n",
    "txt=\"The rain in 57 Spain\"\n",
    "x=re.findall(\"[arn]\",txt)\n",
    "print(x)#['r', 'a', 'n', 'n', 'a', 'n']"
   ]
  },
  {
   "cell_type": "code",
   "execution_count": 46,
   "id": "8be8da0c",
   "metadata": {},
   "outputs": [
    {
     "name": "stdout",
     "output_type": "stream",
     "text": [
      "['h', 'e', 'a', 'i', 'n', 'i', 'n', 'a', 'i', 'n']\n"
     ]
    }
   ],
   "source": [
    "txt=\"The rain in 57 Spain\"\n",
    "x=re.findall(\"[a-n]\",txt)\n",
    "print(x)#['h', 'e', 'a', 'i', 'n', 'i', 'n', 'a', 'i', 'n']"
   ]
  },
  {
   "cell_type": "code",
   "execution_count": 47,
   "id": "7aa87d88",
   "metadata": {},
   "outputs": [
    {
     "name": "stdout",
     "output_type": "stream",
     "text": [
      "['T', 'h', 'e', ' ', 'i', ' ', 'i', ' ', '5', '7', ' ', 'S', 'p', 'i']\n"
     ]
    }
   ],
   "source": [
    "txt=\"The rain in 57 Spain\"\n",
    "x=re.findall(\"[^arn]\",txt)\n",
    "print(x)#['T', 'h', 'e', ' ', 'i', ' ', 'i', ' ', '5', '7', ' ', 'S', 'p', 'i']"
   ]
  },
  {
   "cell_type": "code",
   "execution_count": 49,
   "id": "9a08b304",
   "metadata": {},
   "outputs": [
    {
     "name": "stdout",
     "output_type": "stream",
     "text": [
      "['1']\n"
     ]
    }
   ],
   "source": [
    "txt=\"The rain in 517 Spain\"\n",
    "x=re.findall(\"[0123]\",txt)\n",
    "print(x)#['1']"
   ]
  },
  {
   "cell_type": "code",
   "execution_count": 50,
   "id": "e6937379",
   "metadata": {},
   "outputs": [
    {
     "name": "stdout",
     "output_type": "stream",
     "text": [
      "['5', '1', '7']\n"
     ]
    }
   ],
   "source": [
    "txt=\"The rain in 517 Spain\"\n",
    "x=re.findall(\"[0-9]\",txt)\n",
    "print(x)#['5', '1', '7']"
   ]
  },
  {
   "cell_type": "code",
   "execution_count": 51,
   "id": "61b81539",
   "metadata": {},
   "outputs": [
    {
     "name": "stdout",
     "output_type": "stream",
     "text": [
      "['51']\n"
     ]
    }
   ],
   "source": [
    "txt=\"The rain in 517 Spain\"\n",
    "x=re.findall(\"[0-5][0-9]\",txt)\n",
    "print(x)#['51']"
   ]
  },
  {
   "cell_type": "code",
   "execution_count": 53,
   "id": "4b668afe",
   "metadata": {},
   "outputs": [
    {
     "name": "stdout",
     "output_type": "stream",
     "text": [
      "['T', 'h', 'e', 'r', 'a', 'i', 'n', 'i', 'n', 'S', 'p', 'a', 'i', 'n']\n"
     ]
    }
   ],
   "source": [
    "txt=\"The rain in 517 Spain\"\n",
    "x=re.findall(\"[a-zA-Z]\",txt)\n",
    "print(x)#['T', 'h', 'e', 'r', 'a', 'i', 'n', 'i', 'n', 'S', 'p', 'a', 'i', 'n']"
   ]
  },
  {
   "cell_type": "code",
   "execution_count": 58,
   "id": "a447043c",
   "metadata": {},
   "outputs": [
    {
     "name": "stdout",
     "output_type": "stream",
     "text": [
      "['+']\n"
     ]
    }
   ],
   "source": [
    "txt=\"The rain in+ *.|{}$() 517 Spain\"\n",
    "x=re.findall(\"[+]\",txt)\n",
    "print(x)#['+']"
   ]
  },
  {
   "cell_type": "code",
   "execution_count": 59,
   "id": "63dd5d23",
   "metadata": {},
   "outputs": [
    {
     "name": "stdout",
     "output_type": "stream",
     "text": [
      "['ai', 'ai']\n"
     ]
    }
   ],
   "source": [
    "#Findall function\n",
    "txt=\"The rain in Spain\"\n",
    "x=re.findall(\"ai\",txt)\n",
    "print(x)['ai', 'ai']"
   ]
  },
  {
   "cell_type": "code",
   "execution_count": 60,
   "id": "eea0ce62",
   "metadata": {},
   "outputs": [
    {
     "name": "stdout",
     "output_type": "stream",
     "text": [
      "3\n"
     ]
    }
   ],
   "source": [
    "#search function\n",
    "txt=\"The rain in Spain\"\n",
    "x=re.search(\"\\s\",txt)\n",
    "print(x.start())#3"
   ]
  },
  {
   "cell_type": "code",
   "execution_count": 62,
   "id": "7a63f27d",
   "metadata": {},
   "outputs": [
    {
     "name": "stdout",
     "output_type": "stream",
     "text": [
      "['The', 'rain', 'in', 'Spain']\n"
     ]
    }
   ],
   "source": [
    "#Split Function\n",
    "txt=\"The rain in Spain\"\n",
    "x=re.split(\"\\s\",txt)\n",
    "print(x)#['The', 'rain', 'in', 'Spain']"
   ]
  },
  {
   "cell_type": "code",
   "execution_count": 63,
   "id": "f95fef3d",
   "metadata": {},
   "outputs": [
    {
     "name": "stdout",
     "output_type": "stream",
     "text": [
      "['The', 'rain in Spain']\n"
     ]
    }
   ],
   "source": [
    "#Split at only 1st occurence\n",
    "txt=\"The rain in Spain\"\n",
    "x=re.split(\"\\s\",txt,1)\n",
    "print(x)#['The', 'rain in Spain']"
   ]
  },
  {
   "cell_type": "code",
   "execution_count": 65,
   "id": "98554daf",
   "metadata": {},
   "outputs": [
    {
     "name": "stdout",
     "output_type": "stream",
     "text": [
      "The9rain9in9Spain\n"
     ]
    }
   ],
   "source": [
    "#Sub function\n",
    "txt=\"The rain in Spain\"\n",
    "x=re.sub(\"\\s\",\"9\",txt)\n",
    "print(x)#The9rain9in9Spain"
   ]
  },
  {
   "cell_type": "code",
   "execution_count": 66,
   "id": "f967f68d",
   "metadata": {},
   "outputs": [
    {
     "name": "stdout",
     "output_type": "stream",
     "text": [
      "The9rain9in Spain\n"
     ]
    }
   ],
   "source": [
    "#Sub function\n",
    "txt=\"The rain in Spain\"\n",
    "x=re.sub(\"\\s\",\"9\",txt,2)\n",
    "print(x)#The9rain9in9Spain"
   ]
  },
  {
   "cell_type": "code",
   "execution_count": 67,
   "id": "5b4afb03",
   "metadata": {},
   "outputs": [
    {
     "name": "stdout",
     "output_type": "stream",
     "text": [
      "<re.Match object; span=(3, 4), match=' '>\n"
     ]
    }
   ],
   "source": [
    "#match object\n",
    "txt=\"The rain in Spain\"\n",
    "x=re.search(\"\\s\",txt)\n",
    "print(x)#<re.Match object; span=(3, 4), match=' '>"
   ]
  },
  {
   "cell_type": "code",
   "execution_count": 71,
   "id": "fed3492b",
   "metadata": {},
   "outputs": [
    {
     "name": "stdout",
     "output_type": "stream",
     "text": [
      "(12, 17)\n",
      "The rain in Spain\n",
      "Spain\n"
     ]
    }
   ],
   "source": [
    "#match has 3 objects\n",
    "txt=\"The rain in Spain\"\n",
    "x=re.search(r\"\\bS\\w+\",txt)\n",
    "print(x.span())#(12, 17)\n",
    "print(x.string)#The rain in Spain\n",
    "print(x.group())#Spain"
   ]
  },
  {
   "cell_type": "code",
   "execution_count": null,
   "id": "2d0627f3",
   "metadata": {},
   "outputs": [],
   "source": []
  }
 ],
 "metadata": {
  "kernelspec": {
   "display_name": "Python 3",
   "language": "python",
   "name": "python3"
  },
  "language_info": {
   "codemirror_mode": {
    "name": "ipython",
    "version": 3
   },
   "file_extension": ".py",
   "mimetype": "text/x-python",
   "name": "python",
   "nbconvert_exporter": "python",
   "pygments_lexer": "ipython3",
   "version": "3.8.8"
  }
 },
 "nbformat": 4,
 "nbformat_minor": 5
}
