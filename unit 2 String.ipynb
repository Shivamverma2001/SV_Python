{
 "cells": [
  {
   "cell_type": "code",
   "execution_count": 7,
   "id": "e44e6ab0",
   "metadata": {},
   "outputs": [
    {
     "name": "stdout",
     "output_type": "stream",
     "text": [
      "e\n"
     ]
    }
   ],
   "source": [
    "fruit=\"apple\"\n",
    "letter=fruit[4]\n",
    "print(letter)"
   ]
  },
  {
   "cell_type": "code",
   "execution_count": 3,
   "id": "b00d4726",
   "metadata": {},
   "outputs": [
    {
     "data": {
      "text/plain": [
       "str"
      ]
     },
     "execution_count": 3,
     "metadata": {},
     "output_type": "execute_result"
    }
   ],
   "source": [
    "type(letter)"
   ]
  },
  {
   "cell_type": "code",
   "execution_count": 9,
   "id": "b184e5c8",
   "metadata": {},
   "outputs": [
    {
     "name": "stdout",
     "output_type": "stream",
     "text": [
      "5\n",
      "e\n",
      "e\n"
     ]
    }
   ],
   "source": [
    "#length of string\n",
    "l=len(fruit)\n",
    "last=fruit[l-1]\n",
    "ln=fruit[-1]\n",
    "print(l)\n",
    "print(last)\n",
    "print(ln)"
   ]
  },
  {
   "cell_type": "code",
   "execution_count": 12,
   "id": "e157591f",
   "metadata": {},
   "outputs": [
    {
     "name": "stdout",
     "output_type": "stream",
     "text": [
      "w\n",
      "a\n",
      "t\n",
      "e\n",
      "r\n",
      "-\n",
      "m\n",
      "e\n",
      "l\n",
      "o\n",
      "n\n"
     ]
    }
   ],
   "source": [
    "#traversal through while loop\n",
    "fruit=\"water-melon\"\n",
    "i=0\n",
    "while i<len(fruit):\n",
    "    letter=fruit[i]\n",
    "    print(letter)\n",
    "    i+=1"
   ]
  },
  {
   "cell_type": "code",
   "execution_count": 16,
   "id": "c9595764",
   "metadata": {},
   "outputs": [
    {
     "name": "stdout",
     "output_type": "stream",
     "text": [
      "w\n",
      "w a\n",
      "a t\n",
      "t e\n",
      "e r\n",
      "r -\n",
      "- m\n",
      "m e\n",
      "e l\n",
      "l o\n",
      "o n\n",
      "n "
     ]
    }
   ],
   "source": [
    "#traversal using for loop\n",
    "fruit=\"water-melon\"\n",
    "for i in fruit:\n",
    "    print(i)"
   ]
  },
  {
   "cell_type": "code",
   "execution_count": 20,
   "id": "fcf11462",
   "metadata": {},
   "outputs": [
    {
     "name": "stdout",
     "output_type": "stream",
     "text": [
      "S\n",
      "i\n",
      "a\n",
      " \n",
      "e\n",
      "m\n"
     ]
    }
   ],
   "source": [
    "name=\"Shivam verma\"\n",
    "for i in range(0,len(name),2):\n",
    "    print(name[i])"
   ]
  },
  {
   "cell_type": "code",
   "execution_count": 22,
   "id": "cff74b52",
   "metadata": {},
   "outputs": [
    {
     "name": "stdout",
     "output_type": "stream",
     "text": [
      "Jack\n",
      "Kack\n",
      "Lack\n",
      "Mack\n",
      "Nack\n",
      "Oack\n",
      "Pack\n",
      "Qack\n"
     ]
    }
   ],
   "source": [
    "#Abecedarian Series\n",
    "prefix=\"JKLMNOPQ\"\n",
    "suffix=\"ack\"\n",
    "for i in prefix:\n",
    "    print(i+suffix)"
   ]
  },
  {
   "cell_type": "code",
   "execution_count": 28,
   "id": "bb8a87fc",
   "metadata": {},
   "outputs": [
    {
     "name": "stdout",
     "output_type": "stream",
     "text": [
      "Peter\n",
      "Paul\n",
      "Paul and Marry\n",
      "Peter, Paul and Marry\n",
      "Ptr aladMry\n"
     ]
    }
   ],
   "source": [
    "#String slices\n",
    "#include 1st index exclude last index\n",
    "s=\"Peter, Paul and Marry\"\n",
    "print(s[0:5])#Peter\n",
    "print(s[7:11])#Paul\n",
    "print(s[7:])#Paul and Marry\n",
    "print(s[:])#Peter, Paul and Marry\n",
    "print(s[::2])#Ptr aladMry 2 means increase by 2"
   ]
  },
  {
   "cell_type": "code",
   "execution_count": 34,
   "id": "bf0ec5b4",
   "metadata": {},
   "outputs": [
    {
     "name": "stdout",
     "output_type": "stream",
     "text": [
      "el\n",
      "el\n",
      "lo\n",
      "hel\n",
      "hlo\n"
     ]
    }
   ],
   "source": [
    "s=\"hello\"\n",
    "print(s[1:3])#el\n",
    "print(s[1:-2])#el\n",
    "print(s[3:])#lo\n",
    "print(s[:-2])#hel\n",
    "print(s[0:5:2])#hlo"
   ]
  },
  {
   "cell_type": "code",
   "execution_count": 35,
   "id": "4c853bb5",
   "metadata": {},
   "outputs": [
    {
     "data": {
      "text/plain": [
       "True"
      ]
     },
     "execution_count": 35,
     "metadata": {},
     "output_type": "execute_result"
    }
   ],
   "source": [
    "#String Comparison\n",
    "x1=\"abcd\"\n",
    "x2=\"ABCD\"\n",
    "x1>x2"
   ]
  },
  {
   "cell_type": "code",
   "execution_count": null,
   "id": "78f55f05",
   "metadata": {},
   "outputs": [],
   "source": [
    "word=\"apple\"\n",
    "if word==\"apple\":\n",
    "    print(\"This is apple\")\n",
    "    "
   ]
  },
  {
   "cell_type": "code",
   "execution_count": 41,
   "id": "099ed634",
   "metadata": {},
   "outputs": [
    {
     "name": "stdout",
     "output_type": "stream",
     "text": [
      "Enter word= banana\n",
      "your word banana is banana\n"
     ]
    }
   ],
   "source": [
    "#String Comparison\n",
    "word=str(input(\"Enter word= \"))\n",
    "if word==\"banana\":\n",
    "    print(\"your word \"+word+\" is banana\")\n",
    "elif word>\"banana\":\n",
    "    print(\"your word \"+word+\" comes after banana\")\n",
    "elif word<\"banana\":\n",
    "    print(\"your word \"+word+\" comes after banana\")\n",
    "else:\n",
    "    print(\"No\")"
   ]
  },
  {
   "cell_type": "code",
   "execution_count": 42,
   "id": "b6c4fcce",
   "metadata": {},
   "outputs": [
    {
     "ename": "TypeError",
     "evalue": "'str' object does not support item assignment",
     "output_type": "error",
     "traceback": [
      "\u001b[1;31m---------------------------------------------------------------------------\u001b[0m",
      "\u001b[1;31mTypeError\u001b[0m                                 Traceback (most recent call last)",
      "\u001b[1;32m<ipython-input-42-fb43495f22a9>\u001b[0m in \u001b[0;36m<module>\u001b[1;34m\u001b[0m\n\u001b[0;32m      1\u001b[0m \u001b[1;31m#Strings are Immutable\u001b[0m\u001b[1;33m\u001b[0m\u001b[1;33m\u001b[0m\u001b[1;33m\u001b[0m\u001b[0m\n\u001b[0;32m      2\u001b[0m \u001b[0mgreeting\u001b[0m\u001b[1;33m=\u001b[0m\u001b[1;34m\"Hello World\"\u001b[0m\u001b[1;33m\u001b[0m\u001b[1;33m\u001b[0m\u001b[0m\n\u001b[1;32m----> 3\u001b[1;33m \u001b[0mgreeting\u001b[0m\u001b[1;33m[\u001b[0m\u001b[1;36m0\u001b[0m\u001b[1;33m]\u001b[0m\u001b[1;33m=\u001b[0m\u001b[1;34m'J'\u001b[0m\u001b[1;33m\u001b[0m\u001b[1;33m\u001b[0m\u001b[0m\n\u001b[0m",
      "\u001b[1;31mTypeError\u001b[0m: 'str' object does not support item assignment"
     ]
    }
   ],
   "source": [
    "#Strings are Immutable\n",
    "greeting=\"Hello World\"\n",
    "#greeting[0]='J'   #TypeError\n"
   ]
  },
  {
   "cell_type": "code",
   "execution_count": 44,
   "id": "6a8594c8",
   "metadata": {},
   "outputs": [
    {
     "name": "stdout",
     "output_type": "stream",
     "text": [
      "Bat\n"
     ]
    }
   ],
   "source": [
    "#Solution is Slicing and Concatination\n",
    "str1=\"Cat\"\n",
    "str2=\"B\"+str1[1:]\n",
    "print(str2)"
   ]
  },
  {
   "cell_type": "code",
   "execution_count": null,
   "id": "b01872cb",
   "metadata": {},
   "outputs": [],
   "source": [
    "#Find Function\n",
    "def find(str,ch):\n",
    "    i=0\n",
    "    while i<len(str):\n",
    "        if str[i]==ch:\n",
    "            return i\n",
    "        i+=1\n",
    "    return -1\n",
    "a=\"Python\"\n",
    "ch=find(a,\"o\")\n",
    "print(ch)"
   ]
  },
  {
   "cell_type": "code",
   "execution_count": 60,
   "id": "1aacb542",
   "metadata": {},
   "outputs": [
    {
     "name": "stdout",
     "output_type": "stream",
     "text": [
      "3\n"
     ]
    }
   ],
   "source": [
    "#find double character function\n",
    "def dFind(str,ch):\n",
    "    count=0\n",
    "    for i in str:\n",
    "        if i==ch:\n",
    "            count+=1\n",
    "    print(count)\n",
    "ap=\"banana\"\n",
    "c=\"a\"\n",
    "dFind(ap,c)"
   ]
  },
  {
   "cell_type": "code",
   "execution_count": 61,
   "id": "9903ecc9",
   "metadata": {},
   "outputs": [],
   "source": [
    "#String Module\n",
    "from string import*"
   ]
  },
  {
   "cell_type": "code",
   "execution_count": 64,
   "id": "1378ea5f",
   "metadata": {},
   "outputs": [
    {
     "name": "stdout",
     "output_type": "stream",
     "text": [
      "2\n",
      "3\n",
      "1\n"
     ]
    }
   ],
   "source": [
    "#find function from string module\n",
    "fruit=\"guava\"\n",
    "index=fruit.find(\"a\")\n",
    "a=fruit.find(\"va\",3)#start searching from index 3\n",
    "ap=fruit.find(\"u\",1,3)#start searching from index 1 upto 2\n",
    "print(index)\n",
    "print(a)\n",
    "print(ap)"
   ]
  },
  {
   "cell_type": "code",
   "execution_count": 66,
   "id": "3b064826",
   "metadata": {},
   "outputs": [
    {
     "name": "stdout",
     "output_type": "stream",
     "text": [
      "abcdefghijklmnopqrstuvwxyz\n",
      "ABCDEFGHIJKLMNOPQRSTUVWXYZ\n",
      "0123456789\n"
     ]
    }
   ],
   "source": [
    "print(ascii_lowercase)#abcdefghijklmnopqrstuvwxyz\n",
    "print(ascii_uppercase)#ABCDEFGHIJKLMNOPQRSTUVWXYZ\n",
    "print(digits)#0123456789"
   ]
  },
  {
   "cell_type": "code",
   "execution_count": 69,
   "id": "3ed16e12",
   "metadata": {},
   "outputs": [
    {
     "data": {
      "text/plain": [
       "True"
      ]
     },
     "execution_count": 69,
     "metadata": {},
     "output_type": "execute_result"
    }
   ],
   "source": [
    "#3 way to recognize lowercase\n",
    "def isLower(ch):\n",
    "    return ascii_lowercase!=-1\n",
    "isLower(\"a\")"
   ]
  },
  {
   "cell_type": "code",
   "execution_count": 70,
   "id": "c9d00fdf",
   "metadata": {},
   "outputs": [
    {
     "data": {
      "text/plain": [
       "True"
      ]
     },
     "execution_count": 70,
     "metadata": {},
     "output_type": "execute_result"
    }
   ],
   "source": [
    "isLower(\"A\")"
   ]
  },
  {
   "cell_type": "code",
   "execution_count": 71,
   "id": "a0ebef52",
   "metadata": {},
   "outputs": [
    {
     "data": {
      "text/plain": [
       "True"
      ]
     },
     "execution_count": 71,
     "metadata": {},
     "output_type": "execute_result"
    }
   ],
   "source": [
    "def islower(ch):\n",
    "    return ch in ascii_lowercase\n",
    "islower(\"a\")"
   ]
  },
  {
   "cell_type": "code",
   "execution_count": 73,
   "id": "616270bb",
   "metadata": {},
   "outputs": [
    {
     "data": {
      "text/plain": [
       "True"
      ]
     },
     "execution_count": 73,
     "metadata": {},
     "output_type": "execute_result"
    }
   ],
   "source": [
    "def islower(ch):\n",
    "    return 'a'<=ch<'z'\n",
    "islower(\"b\")"
   ]
  },
  {
   "cell_type": "code",
   "execution_count": 76,
   "id": "d6ea6987",
   "metadata": {},
   "outputs": [
    {
     "data": {
      "text/plain": [
       "['__add__',\n",
       " '__class__',\n",
       " '__contains__',\n",
       " '__delattr__',\n",
       " '__dir__',\n",
       " '__doc__',\n",
       " '__eq__',\n",
       " '__format__',\n",
       " '__ge__',\n",
       " '__getattribute__',\n",
       " '__getitem__',\n",
       " '__getnewargs__',\n",
       " '__gt__',\n",
       " '__hash__',\n",
       " '__init__',\n",
       " '__init_subclass__',\n",
       " '__iter__',\n",
       " '__le__',\n",
       " '__len__',\n",
       " '__lt__',\n",
       " '__mod__',\n",
       " '__mul__',\n",
       " '__ne__',\n",
       " '__new__',\n",
       " '__reduce__',\n",
       " '__reduce_ex__',\n",
       " '__repr__',\n",
       " '__rmod__',\n",
       " '__rmul__',\n",
       " '__setattr__',\n",
       " '__sizeof__',\n",
       " '__str__',\n",
       " '__subclasshook__',\n",
       " 'capitalize',\n",
       " 'casefold',\n",
       " 'center',\n",
       " 'count',\n",
       " 'encode',\n",
       " 'endswith',\n",
       " 'expandtabs',\n",
       " 'find',\n",
       " 'format',\n",
       " 'format_map',\n",
       " 'index',\n",
       " 'isalnum',\n",
       " 'isalpha',\n",
       " 'isascii',\n",
       " 'isdecimal',\n",
       " 'isdigit',\n",
       " 'isidentifier',\n",
       " 'islower',\n",
       " 'isnumeric',\n",
       " 'isprintable',\n",
       " 'isspace',\n",
       " 'istitle',\n",
       " 'isupper',\n",
       " 'join',\n",
       " 'ljust',\n",
       " 'lower',\n",
       " 'lstrip',\n",
       " 'maketrans',\n",
       " 'partition',\n",
       " 'replace',\n",
       " 'rfind',\n",
       " 'rindex',\n",
       " 'rjust',\n",
       " 'rpartition',\n",
       " 'rsplit',\n",
       " 'rstrip',\n",
       " 'split',\n",
       " 'splitlines',\n",
       " 'startswith',\n",
       " 'strip',\n",
       " 'swapcase',\n",
       " 'title',\n",
       " 'translate',\n",
       " 'upper',\n",
       " 'zfill']"
      ]
     },
     "execution_count": 76,
     "metadata": {},
     "output_type": "execute_result"
    }
   ],
   "source": [
    "#String Operations\n",
    "dir(str)"
   ]
  },
  {
   "cell_type": "code",
   "execution_count": null,
   "id": "90b040aa",
   "metadata": {},
   "outputs": [],
   "source": []
  }
 ],
 "metadata": {
  "kernelspec": {
   "display_name": "Python 3",
   "language": "python",
   "name": "python3"
  },
  "language_info": {
   "codemirror_mode": {
    "name": "ipython",
    "version": 3
   },
   "file_extension": ".py",
   "mimetype": "text/x-python",
   "name": "python",
   "nbconvert_exporter": "python",
   "pygments_lexer": "ipython3",
   "version": "3.8.8"
  }
 },
 "nbformat": 4,
 "nbformat_minor": 5
}
