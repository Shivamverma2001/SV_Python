{
 "cells": [
  {
   "cell_type": "code",
   "execution_count": 1,
   "id": "f8b87679",
   "metadata": {},
   "outputs": [
    {
     "data": {
      "text/plain": [
       "2.5"
      ]
     },
     "execution_count": 1,
     "metadata": {},
     "output_type": "execute_result"
    }
   ],
   "source": [
    "5/2"
   ]
  },
  {
   "cell_type": "code",
   "execution_count": 2,
   "id": "3dcd24f0",
   "metadata": {},
   "outputs": [
    {
     "data": {
      "text/plain": [
       "2"
      ]
     },
     "execution_count": 2,
     "metadata": {},
     "output_type": "execute_result"
    }
   ],
   "source": [
    "5//2"
   ]
  },
  {
   "cell_type": "code",
   "execution_count": 4,
   "id": "f96880a1",
   "metadata": {},
   "outputs": [
    {
     "name": "stdout",
     "output_type": "stream",
     "text": [
      "Enter the mile13\n",
      "68640\n"
     ]
    }
   ],
   "source": [
    "#Q1\n",
    "mile=int(input(\"Enter the mile\"))\n",
    "feet=mile*5280\n",
    "print(feet)"
   ]
  },
  {
   "cell_type": "code",
   "execution_count": 5,
   "id": "5e7cd2ce",
   "metadata": {},
   "outputs": [
    {
     "name": "stdout",
     "output_type": "stream",
     "text": [
      "Enter how many hours7\n",
      "Enter how many min21\n",
      "Enter how many min37\n",
      "26497\n"
     ]
    }
   ],
   "source": [
    "#Q2\n",
    "h=int(input(\"Enter how many hours\"))\n",
    "m=int(input(\"Enter how many min\"))\n",
    "s=int(input(\"Enter how many min\"))\n",
    "ns=h*3600+m*60+s;\n",
    "print(ns)\n",
    "\n"
   ]
  },
  {
   "cell_type": "code",
   "execution_count": 6,
   "id": "8f7b757f",
   "metadata": {},
   "outputs": [
    {
     "name": "stdout",
     "output_type": "stream",
     "text": [
      "enter the string1My name is\n",
      "enter the string2Joe\n",
      "enter the string3Warren\n",
      "My name is Joe Warren\n"
     ]
    }
   ],
   "source": [
    "s1=input(\"enter the string1 \")\n",
    "s2=input(\"enter the string2 \")\n",
    "s3=input(\"enter the string3 \")\n",
    "s4=s1+\" \"+s2+\" \"+s3\n",
    "print(s4)"
   ]
  },
  {
   "cell_type": "code",
   "execution_count": 11,
   "id": "f77ae2f7",
   "metadata": {},
   "outputs": [
    {
     "name": "stdout",
     "output_type": "stream",
     "text": [
      "Enter the initial x-axis value2\n",
      "Enter the final x-axis value5\n",
      "Enter the initial y-axis value2\n",
      "Enter the final x-axis value6\n",
      "5.0\n"
     ]
    }
   ],
   "source": [
    "x0=int(input(\"Enter the initial x-axis value\"))\n",
    "x1=int(input(\"Enter the final x-axis value\"))\n",
    "y0=int(input(\"Enter the initial y-axis value\"))\n",
    "y1=int(input(\"Enter the final x-axis value\"))\n",
    "x=(x0-x1)**2\n",
    "y=(y0-y1)**2\n",
    "d=(x+y)**(1/2)\n",
    "print(d)\n"
   ]
  },
  {
   "cell_type": "code",
   "execution_count": 17,
   "id": "7876df7f",
   "metadata": {},
   "outputs": [],
   "source": [
    "def max(a1,a2,a3):\n",
    "    a=0\n",
    "    if(a<a1):\n",
    "        a=a1\n",
    "    if(a<a2):\n",
    "        a=a2\n",
    "    if(a<a3):\n",
    "        a=a3\n",
    "    return a"
   ]
  },
  {
   "cell_type": "code",
   "execution_count": 18,
   "id": "3745187d",
   "metadata": {},
   "outputs": [
    {
     "name": "stdout",
     "output_type": "stream",
     "text": [
      "1440\n"
     ]
    }
   ],
   "source": [
    "a11=123\n",
    "a21=211\n",
    "a31=1440\n",
    "b=max(a11,a21,a31)\n",
    "print(b)"
   ]
  },
  {
   "cell_type": "code",
   "execution_count": 19,
   "id": "1a9b562d",
   "metadata": {},
   "outputs": [
    {
     "name": "stdout",
     "output_type": "stream",
     "text": [
      "135\n"
     ]
    }
   ],
   "source": [
    "def sum(a1,a2,a3):\n",
    "    sum=a1+a2+a3\n",
    "    return sum\n",
    "s=sum(23,45,67)\n",
    "print(s)"
   ]
  },
  {
   "cell_type": "code",
   "execution_count": 23,
   "id": "bb0e9e14",
   "metadata": {},
   "outputs": [
    {
     "name": "stdout",
     "output_type": "stream",
     "text": [
      "Enter the value10\n",
      "Enter the value5\n",
      "Enter the value20\n",
      "1000\n"
     ]
    }
   ],
   "source": [
    "def mul():\n",
    "    m=1\n",
    "    for i in range(3):\n",
    "        s=int(input(\"Enter the value\"))\n",
    "        m*=s\n",
    "    print(m)\n",
    "mul()\n"
   ]
  },
  {
   "cell_type": "code",
   "execution_count": null,
   "id": "166c5206",
   "metadata": {},
   "outputs": [],
   "source": []
  }
 ],
 "metadata": {
  "kernelspec": {
   "display_name": "Python 3",
   "language": "python",
   "name": "python3"
  },
  "language_info": {
   "codemirror_mode": {
    "name": "ipython",
    "version": 3
   },
   "file_extension": ".py",
   "mimetype": "text/x-python",
   "name": "python",
   "nbconvert_exporter": "python",
   "pygments_lexer": "ipython3",
   "version": "3.8.8"
  }
 },
 "nbformat": 4,
 "nbformat_minor": 5
}
