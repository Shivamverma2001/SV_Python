{
 "cells": [
  {
   "cell_type": "code",
   "execution_count": 46,
   "id": "dc06fa93",
   "metadata": {},
   "outputs": [],
   "source": [
    "import keyword\n",
    "import numpy as np\n",
    "import math\n",
    "from string import*\n",
    "from random import*\n",
    "import pickle\n",
    "import re\n",
    "import tkinter\n",
    "from tkinter import*\n",
    "import pandas as pd\n",
    "from matplotlib import pyplot as plt"
   ]
  },
  {
   "cell_type": "code",
   "execution_count": 48,
   "id": "7e0571e2",
   "metadata": {},
   "outputs": [
    {
     "name": "stdout",
     "output_type": "stream",
     "text": [
      "(2, 3)\n"
     ]
    }
   ],
   "source": [
    "a=np.array([[1,2,3],[4,5,6]])\n",
    "print(a.shape)"
   ]
  },
  {
   "cell_type": "code",
   "execution_count": null,
   "id": "61ca2e17",
   "metadata": {},
   "outputs": [],
   "source": [
    "data=[[\"c\",\"t\"],[\"b\",\"s\"],[\"c\",\"h\"]]\n",
    "df=pd.data.DataF"
   ]
  }
 ],
 "metadata": {
  "kernelspec": {
   "display_name": "Python 3",
   "language": "python",
   "name": "python3"
  },
  "language_info": {
   "codemirror_mode": {
    "name": "ipython",
    "version": 3
   },
   "file_extension": ".py",
   "mimetype": "text/x-python",
   "name": "python",
   "nbconvert_exporter": "python",
   "pygments_lexer": "ipython3",
   "version": "3.8.8"
  }
 },
 "nbformat": 4,
 "nbformat_minor": 5
}
