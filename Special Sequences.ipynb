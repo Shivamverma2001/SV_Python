{
 "cells": [
  {
   "cell_type": "code",
   "execution_count": 1,
   "id": "d1365c5a",
   "metadata": {},
   "outputs": [],
   "source": [
    "import re"
   ]
  },
  {
   "cell_type": "code",
   "execution_count": 4,
   "id": "8c246212",
   "metadata": {},
   "outputs": [
    {
     "name": "stdout",
     "output_type": "stream",
     "text": [
      "['The']\n",
      "match\n"
     ]
    }
   ],
   "source": [
    "txt=\"The rain in Spain\"\n",
    "x=re.findall(\"\\AThe\",txt)#\\A is start from the or not like ^\n",
    "print(x)\n",
    "if x:\n",
    "    print(\"match\")\n",
    "else:\n",
    "    print(\"no match\")"
   ]
  },
  {
   "cell_type": "code",
   "execution_count": 5,
   "id": "f4a092d4",
   "metadata": {},
   "outputs": [
    {
     "name": "stdout",
     "output_type": "stream",
     "text": [
      "[]\n",
      "no match\n"
     ]
    }
   ],
   "source": [
    "txt=\"The rain in Spain\"\n",
    "x=re.findall(r\"\\bain\",txt)#\\b is start from r or for end we write ain\\b at r\n",
    "print(x)\n",
    "if x:\n",
    "    print(\"match\")\n",
    "else:\n",
    "    print(\"no match\")"
   ]
  },
  {
   "cell_type": "code",
   "execution_count": 6,
   "id": "0e55964d",
   "metadata": {},
   "outputs": [
    {
     "name": "stdout",
     "output_type": "stream",
     "text": [
      "['ain', 'ain']\n",
      "match\n"
     ]
    }
   ],
   "source": [
    "txt=\"The rain in Spain\"\n",
    "x=re.findall(r\"ain\\b\",txt)#\\b is start from r or for end we write ain\\b at r\n",
    "print(x)\n",
    "if x:\n",
    "    print(\"match\")\n",
    "else:\n",
    "    print(\"no match\")"
   ]
  },
  {
   "cell_type": "code",
   "execution_count": 8,
   "id": "9c83582c",
   "metadata": {},
   "outputs": [
    {
     "name": "stdout",
     "output_type": "stream",
     "text": [
      "[]\n",
      "no match\n"
     ]
    }
   ],
   "source": [
    "txt=\"The rain in Spain\"\n",
    "x=re.findall(r\"ain\\B\",txt)#\\B is opposite to \\b\n",
    "print(x)\n",
    "if x:\n",
    "    print(\"match\")\n",
    "else:\n",
    "    print(\"no match\")"
   ]
  },
  {
   "cell_type": "code",
   "execution_count": 9,
   "id": "4ef85db8",
   "metadata": {},
   "outputs": [
    {
     "name": "stdout",
     "output_type": "stream",
     "text": [
      "['ain', 'ain']\n",
      "match\n"
     ]
    }
   ],
   "source": [
    "txt=\"The rain in Spain\"\n",
    "x=re.findall(r\"\\Bain\",txt)#\\B is opposite to \\b\n",
    "print(x)\n",
    "if x:\n",
    "    print(\"match\")\n",
    "else:\n",
    "    print(\"no match\")"
   ]
  },
  {
   "cell_type": "code",
   "execution_count": 11,
   "id": "1ac55cd4",
   "metadata": {},
   "outputs": [
    {
     "name": "stdout",
     "output_type": "stream",
     "text": [
      "['9']\n",
      "match\n"
     ]
    }
   ],
   "source": [
    "txt=\"The rain 9 in Spain\"\n",
    "x=re.findall(\"\\d\",txt)#\\d is for either string contain digit or not\n",
    "print(x)\n",
    "if x:\n",
    "    print(\"match\")\n",
    "else:\n",
    "    print(\"no match\")"
   ]
  },
  {
   "cell_type": "code",
   "execution_count": 12,
   "id": "ab608928",
   "metadata": {},
   "outputs": [
    {
     "name": "stdout",
     "output_type": "stream",
     "text": [
      "['T', 'h', 'e', ' ', 'r', 'a', 'i', 'n', ' ', ' ', 'i', 'n', ' ', 'S', 'p', 'a', 'i', 'n']\n",
      "match\n"
     ]
    }
   ],
   "source": [
    "txt=\"The rain 9 in Spain\"\n",
    "x=re.findall(\"\\D\",txt)#\\D is opposite to \\d\n",
    "print(x)\n",
    "if x:\n",
    "    print(\"match\")\n",
    "else:\n",
    "    print(\"no match\")"
   ]
  },
  {
   "cell_type": "code",
   "execution_count": 13,
   "id": "691ba210",
   "metadata": {},
   "outputs": [
    {
     "name": "stdout",
     "output_type": "stream",
     "text": [
      "[' ', ' ', ' ', ' ']\n",
      "match\n"
     ]
    }
   ],
   "source": [
    "txt=\"The rain 9 in Spain\"\n",
    "x=re.findall(\"\\s\",txt)#\\s it show white space\n",
    "print(x)\n",
    "if x:\n",
    "    print(\"match\")\n",
    "else:\n",
    "    print(\"no match\")"
   ]
  },
  {
   "cell_type": "code",
   "execution_count": 14,
   "id": "3ffe8880",
   "metadata": {},
   "outputs": [
    {
     "name": "stdout",
     "output_type": "stream",
     "text": [
      "['T', 'h', 'e', 'r', 'a', 'i', 'n', '9', 'i', 'n', 'S', 'p', 'a', 'i', 'n']\n",
      "match\n"
     ]
    }
   ],
   "source": [
    "txt=\"The rain 9 in Spain\"\n",
    "x=re.findall(\"\\S\",txt)#\\S is opposite to \\s\n",
    "print(x)\n",
    "if x:\n",
    "    print(\"match\")\n",
    "else:\n",
    "    print(\"no match\")"
   ]
  },
  {
   "cell_type": "code",
   "execution_count": 17,
   "id": "bb0e1726",
   "metadata": {},
   "outputs": [
    {
     "name": "stdout",
     "output_type": "stream",
     "text": [
      "['T', 'h', 'e', 'r', 'a', 'i', 'n', '9', '_', 'i', 'n', 'S', 'p', 'a', 'i', 'n']\n",
      "match\n"
     ]
    }
   ],
   "source": [
    "txt=\"The rain 9 _in Spain\"\n",
    "x=re.findall(\"\\w\",txt)#\\w return from a to z, A to Z, 0-9, _\n",
    "print(x)\n",
    "if x:\n",
    "    print(\"match\")\n",
    "else:\n",
    "    print(\"no match\")"
   ]
  },
  {
   "cell_type": "code",
   "execution_count": 16,
   "id": "9ab55b91",
   "metadata": {},
   "outputs": [
    {
     "name": "stdout",
     "output_type": "stream",
     "text": [
      "[' ', ' ', ' ', ' ']\n",
      "match\n"
     ]
    }
   ],
   "source": [
    "txt=\"The rain 9 in Spain\"\n",
    "x=re.findall(\"\\W\",txt)#\\W opposite to w means white space character\n",
    "print(x)\n",
    "if x:\n",
    "    print(\"match\")\n",
    "else:\n",
    "    print(\"no match\")"
   ]
  },
  {
   "cell_type": "code",
   "execution_count": 22,
   "id": "61ea38f5",
   "metadata": {},
   "outputs": [
    {
     "name": "stdout",
     "output_type": "stream",
     "text": [
      "['Spain']\n",
      "match\n"
     ]
    }
   ],
   "source": [
    "txt=\"The rain 9 in Spain\"\n",
    "x=re.findall(\"Spain\\Z\",txt)#\\Z is this string end with \n",
    "print(x)\n",
    "if x:\n",
    "    print(\"match\")\n",
    "else:\n",
    "    print(\"no match\")"
   ]
  },
  {
   "cell_type": "code",
   "execution_count": null,
   "id": "c5db16a6",
   "metadata": {},
   "outputs": [],
   "source": []
  }
 ],
 "metadata": {
  "kernelspec": {
   "display_name": "Python 3",
   "language": "python",
   "name": "python3"
  },
  "language_info": {
   "codemirror_mode": {
    "name": "ipython",
    "version": 3
   },
   "file_extension": ".py",
   "mimetype": "text/x-python",
   "name": "python",
   "nbconvert_exporter": "python",
   "pygments_lexer": "ipython3",
   "version": "3.8.8"
  }
 },
 "nbformat": 4,
 "nbformat_minor": 5
}
