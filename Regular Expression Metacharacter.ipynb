{
 "cells": [
  {
   "cell_type": "code",
   "execution_count": 2,
   "id": "32249032",
   "metadata": {},
   "outputs": [],
   "source": [
    "import re\n",
    "#output always come in the form of list of string"
   ]
  },
  {
   "cell_type": "code",
   "execution_count": 5,
   "id": "0d2c6900",
   "metadata": {},
   "outputs": [
    {
     "name": "stdout",
     "output_type": "stream",
     "text": [
      "Yes! We have a match\n"
     ]
    }
   ],
   "source": [
    "txt=\"The rain in Spain\"\n",
    "x=re.search(\"^The.*Spain$\",txt)#^for starting, $ for ending, . for any alphabet,* for zero or more occurence, search is use to search an alphabet in string\n",
    "if x:\n",
    "    print(\"Yes! We have a match\")\n",
    "else:\n",
    "    print(\"No match\")"
   ]
  },
  {
   "cell_type": "code",
   "execution_count": 6,
   "id": "a6ec6bb9",
   "metadata": {},
   "outputs": [
    {
     "name": "stdout",
     "output_type": "stream",
     "text": [
      "['h', 'e', 'a', 'i', 'n', 'i', 'n', 'a', 'i', 'n']\n"
     ]
    }
   ],
   "source": [
    "txt=\"The rain in Spain\"\n",
    "x=re.findall(\"[a-n]\",txt)#[]is use to search in between, findall is use to search in complete string\n",
    "print(x)"
   ]
  },
  {
   "cell_type": "code",
   "execution_count": 9,
   "id": "7ace2a49",
   "metadata": {},
   "outputs": [
    {
     "name": "stdout",
     "output_type": "stream",
     "text": [
      "['1', '5']\n"
     ]
    }
   ],
   "source": [
    "txt=\"The rain in Spain15\"\n",
    "x=re.findall(\"\\d\",txt)#\\d is use to find digit number in th string\n",
    "print(x)"
   ]
  },
  {
   "cell_type": "code",
   "execution_count": 12,
   "id": "470f237d",
   "metadata": {},
   "outputs": [
    {
     "name": "stdout",
     "output_type": "stream",
     "text": [
      "['hello w']\n"
     ]
    }
   ],
   "source": [
    "txt=\"hello world\"\n",
    "x=re.findall(\"he....w\",txt)#1 dot is only for 1 alphabet except newline\n",
    "print(x)"
   ]
  },
  {
   "cell_type": "code",
   "execution_count": 15,
   "id": "a03519e6",
   "metadata": {},
   "outputs": [
    {
     "name": "stdout",
     "output_type": "stream",
     "text": [
      "['heo']\n"
     ]
    }
   ],
   "source": [
    "#txt=\"hello world\"\n",
    "txt=\"heo\"\n",
    "x=re.findall(\"he.*o\",txt)#.* zero or more character\n",
    "print(x)"
   ]
  },
  {
   "cell_type": "code",
   "execution_count": 18,
   "id": "62fb286d",
   "metadata": {},
   "outputs": [
    {
     "name": "stdout",
     "output_type": "stream",
     "text": [
      "[]\n"
     ]
    }
   ],
   "source": [
    "#txt=\"hello world\"\n",
    "txt=\"heo\"\n",
    "x=re.findall(\"he.+o\",txt)#.+ one or more character\n",
    "print(x)"
   ]
  },
  {
   "cell_type": "code",
   "execution_count": 19,
   "id": "b96d0a1d",
   "metadata": {},
   "outputs": [
    {
     "name": "stdout",
     "output_type": "stream",
     "text": [
      "['heo']\n"
     ]
    }
   ],
   "source": [
    "#txt=\"hello world\"\n",
    "txt=\"heo\"\n",
    "x=re.findall(\"he.?o\",txt)#.? zero or one character\n",
    "print(x)"
   ]
  },
  {
   "cell_type": "code",
   "execution_count": 21,
   "id": "3ca2438b",
   "metadata": {},
   "outputs": [
    {
     "name": "stdout",
     "output_type": "stream",
     "text": [
      "['hello']\n"
     ]
    }
   ],
   "source": [
    "txt=\"hello world\"\n",
    "#txt=\"helllo\"\n",
    "x=re.findall(\"he.{2}o\",txt)#.{2} is use for 2 occurence only neither less or greater\n",
    "print(x)"
   ]
  },
  {
   "cell_type": "code",
   "execution_count": 3,
   "id": "9e3a899b",
   "metadata": {},
   "outputs": [
    {
     "name": "stdout",
     "output_type": "stream",
     "text": [
      "['falls']\n"
     ]
    }
   ],
   "source": [
    "txt=\"the rain in spain falls in the plain area\"\n",
    "x=re.findall(\"falls|Stays\",txt)#| check either alphabet lie falls or stays in the txt\n",
    "#if both present then it show both of them\n",
    "print(x)\n"
   ]
  },
  {
   "cell_type": "code",
   "execution_count": 6,
   "id": "2d2dbc64",
   "metadata": {},
   "outputs": [
    {
     "name": "stdout",
     "output_type": "stream",
     "text": [
      "['11', '50']\n"
     ]
    }
   ],
   "source": [
    "txt=\"8 times before 11:50 PM\"\n",
    "x=re.findall(\"[0-5][0-9]\",txt)\n",
    "print(x)"
   ]
  },
  {
   "cell_type": "code",
   "execution_count": null,
   "id": "1eae6555",
   "metadata": {},
   "outputs": [],
   "source": []
  }
 ],
 "metadata": {
  "kernelspec": {
   "display_name": "Python 3",
   "language": "python",
   "name": "python3"
  },
  "language_info": {
   "codemirror_mode": {
    "name": "ipython",
    "version": 3
   },
   "file_extension": ".py",
   "mimetype": "text/x-python",
   "name": "python",
   "nbconvert_exporter": "python",
   "pygments_lexer": "ipython3",
   "version": "3.8.8"
  }
 },
 "nbformat": 4,
 "nbformat_minor": 5
}
