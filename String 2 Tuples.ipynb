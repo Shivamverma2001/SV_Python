{
 "cells": [
  {
   "cell_type": "code",
   "execution_count": 3,
   "id": "1065adbf",
   "metadata": {},
   "outputs": [
    {
     "data": {
      "text/plain": [
       "('b', 'c')"
      ]
     },
     "execution_count": 3,
     "metadata": {},
     "output_type": "execute_result"
    }
   ],
   "source": [
    "t1=('a','b','c','d')\n",
    "type(t1)#tuple\n",
    "t1[-1]#'d'\n",
    "t1[1:3]#('b','c')"
   ]
  },
  {
   "cell_type": "code",
   "execution_count": 4,
   "id": "5df3c180",
   "metadata": {},
   "outputs": [
    {
     "data": {
      "text/plain": [
       "tuple"
      ]
     },
     "execution_count": 4,
     "metadata": {},
     "output_type": "execute_result"
    }
   ],
   "source": [
    "t2=('b')\n",
    "type(t2)#string\n",
    "t3=('b',)\n",
    "type(t3)#tuple\n",
    "t3='a','b','c'\n",
    "type(t3)#tuple"
   ]
  },
  {
   "cell_type": "code",
   "execution_count": 8,
   "id": "883b7f45",
   "metadata": {},
   "outputs": [
    {
     "name": "stdout",
     "output_type": "stream",
     "text": [
      "('A', 'b', 'c', 'd')\n",
      "('a', 'B', 'c', 'd')\n"
     ]
    }
   ],
   "source": [
    "#tuple is immutable\n",
    "t1=('a','b','c','d')\n",
    "#t1[0]='d'#TypeError\n",
    "#Solve by slicing and concatination operator\n",
    "#t2=\"A\"+t1[1:]#error\n",
    "t2=(\"A\",)+t1[1:]\n",
    "print(t2)#('A', 'b', 'c', 'd')\n",
    "t2=('a',)+('B',)+t1[2:]\n",
    "print(t2)#('a', 'B', 'c', 'd')"
   ]
  },
  {
   "cell_type": "code",
   "execution_count": 9,
   "id": "75f385ad",
   "metadata": {},
   "outputs": [
    {
     "data": {
      "text/plain": [
       "(5, 3)"
      ]
     },
     "execution_count": 9,
     "metadata": {},
     "output_type": "execute_result"
    }
   ],
   "source": [
    "#Tuple Assignment\n",
    "def swap(x,y):\n",
    "    return y,x\n",
    "swap(3,5)#(5, 3)tuple"
   ]
  },
  {
   "cell_type": "code",
   "execution_count": 10,
   "id": "5028f2b7",
   "metadata": {},
   "outputs": [],
   "source": [
    "#Random Number\n",
    "from random import*"
   ]
  },
  {
   "cell_type": "code",
   "execution_count": 13,
   "id": "f15a0bce",
   "metadata": {},
   "outputs": [
    {
     "name": "stdout",
     "output_type": "stream",
     "text": [
      "0.39602109096954696\n",
      "0.14716148118429995\n",
      "0.9885797674245121\n",
      "0.8544839601130753\n",
      "0.9719926883728024\n",
      "0.5516053321949856\n",
      "0.4922870474306438\n",
      "0.11988567207334955\n",
      "0.6037151510551397\n",
      "0.6908706362787005\n"
     ]
    }
   ],
   "source": [
    "for i in range(10):\n",
    "    i=random()\n",
    "    print(i)\n",
    "    '''0.39602109096954696\n",
    "0.14716148118429995\n",
    "0.9885797674245121\n",
    "0.8544839601130753\n",
    "0.9719926883728024\n",
    "0.5516053321949856\n",
    "0.4922870474306438\n",
    "0.11988567207334955\n",
    "0.6037151510551397\n",
    "0.6908706362787005'''"
   ]
  },
  {
   "cell_type": "code",
   "execution_count": 14,
   "id": "e2023ff6",
   "metadata": {},
   "outputs": [
    {
     "data": {
      "text/plain": [
       "[0.017814853367367434,\n",
       " 0.06785103049909202,\n",
       " 0.15585486816037708,\n",
       " 0.24448543868473704,\n",
       " 0.6391459233456304,\n",
       " 0.1784797084884152,\n",
       " 0.478356253927557,\n",
       " 0.26232265734304394]"
      ]
     },
     "execution_count": 14,
     "metadata": {},
     "output_type": "execute_result"
    }
   ],
   "source": [
    "def randomList(n):\n",
    "    s=[0]*n#its like array or list\n",
    "    for i in range(n):\n",
    "        s[i]=random()\n",
    "    return s\n",
    "randomList(8)\n",
    "'''[0.017814853367367434,\n",
    " 0.06785103049909202,\n",
    " 0.15585486816037708,\n",
    " 0.24448543868473704,\n",
    " 0.6391459233456304,\n",
    " 0.1784797084884152,\n",
    " 0.478356253927557,\n",
    " 0.26232265734304394]'''"
   ]
  },
  {
   "cell_type": "code",
   "execution_count": 15,
   "id": "98d4fb48",
   "metadata": {},
   "outputs": [
    {
     "name": "stdout",
     "output_type": "stream",
     "text": [
      "3\n"
     ]
    }
   ],
   "source": [
    "#Counting\n",
    "t=[12,14,12,16,17,12]\n",
    "count=0\n",
    "for num in t:\n",
    "    if 10<num<13:\n",
    "        count+=1\n",
    "print(count)#3"
   ]
  },
  {
   "cell_type": "code",
   "execution_count": 17,
   "id": "afeed43e",
   "metadata": {},
   "outputs": [],
   "source": [
    "def inRange(t,low,high):\n",
    "    count=0\n",
    "    for num in t:\n",
    "        if low<num<high:\n",
    "            count+=1\n",
    "    return count"
   ]
  },
  {
   "cell_type": "code",
   "execution_count": 18,
   "id": "86483796",
   "metadata": {},
   "outputs": [
    {
     "data": {
      "text/plain": [
       "6"
      ]
     },
     "execution_count": 18,
     "metadata": {},
     "output_type": "execute_result"
    }
   ],
   "source": [
    "inRange([12,14,12,16,17,12],10,18)#6 10 is low 18 is high"
   ]
  },
  {
   "cell_type": "code",
   "execution_count": 20,
   "id": "57709462",
   "metadata": {},
   "outputs": [
    {
     "name": "stdout",
     "output_type": "stream",
     "text": [
      "4\n",
      "4\n",
      "[0.006533147094519354, 0.4541899402897889, 0.21396544725993294, 0.5380045782642761, 0.8858682605641235, 0.7002265275591182, 0.7517024385096311, 0.12898260648714288]  \n"
     ]
    }
   ],
   "source": [
    "#Many buckets\n",
    "def randomList(n):\n",
    "    s=[0]*n#its like array or list\n",
    "    for i in range(n):\n",
    "        s[i]=random()\n",
    "    return s\n",
    "s=randomList(8)\n",
    "print(inRange(s,0.0,0.5))#6\n",
    "print(inRange(s,0.5,1.0))#2\n",
    "print(s,\" \")#[0.006533147094519354, 0.4541899402897889, 0.21396544725993294, 0.5380045782642761, 0.8858682605641235, 0.7002265275591182, 0.7517024385096311, 0.12898260648714288]"
   ]
  },
  {
   "cell_type": "code",
   "execution_count": 23,
   "id": "e907a667",
   "metadata": {},
   "outputs": [
    {
     "name": "stdout",
     "output_type": "stream",
     "text": [
      "0.0 to 0.125\n",
      "0.125 to 0.25\n",
      "0.25 to 0.375\n",
      "0.375 to 0.5\n",
      "0.5 to 0.625\n",
      "0.625 to 0.75\n",
      "0.75 to 0.875\n",
      "0.875 to 1.0\n",
      "[121, 117, 129, 113, 123, 139, 108, 124]\n"
     ]
    }
   ],
   "source": [
    "numBuckets=8\n",
    "buckets=[0]*numBuckets\n",
    "bucketWidth=1.0/numBuckets#.125\n",
    "for i in range(numBuckets):\n",
    "    low=i*bucketWidth\n",
    "    high=low+bucketWidth\n",
    "    buckets[i]=inRange(randomList(1000),low,high)\n",
    "    print(low,\"to\",high)\n",
    "print(buckets)\n",
    "'''0.0 to 0.125\n",
    "0.125 to 0.25\n",
    "0.25 to 0.375\n",
    "0.375 to 0.5\n",
    "0.5 to 0.625\n",
    "0.625 to 0.75\n",
    "0.75 to 0.875\n",
    "0.875 to 1.0\n",
    "[121, 117, 129, 113, 123, 139, 108, 124]'''\n",
    "#All number are near to 125"
   ]
  },
  {
   "cell_type": "code",
   "execution_count": 24,
   "id": "81420eb1",
   "metadata": {},
   "outputs": [
    {
     "name": "stdout",
     "output_type": "stream",
     "text": [
      "0.0 to 0.25\n",
      "0.25 to 0.5\n",
      "0.5 to 0.75\n",
      "0.75 to 1.0\n",
      "[252, 257, 260, 225]\n"
     ]
    }
   ],
   "source": [
    "numBuckets=4\n",
    "buckets=[0]*numBuckets\n",
    "bucketWidth=1.0/numBuckets#.25\n",
    "for i in range(numBuckets):\n",
    "    low=i*bucketWidth\n",
    "    high=low+bucketWidth\n",
    "    buckets[i]=inRange(randomList(1000),low,high)\n",
    "    print(low,\"to\",high)\n",
    "print(buckets)\n",
    "'''0.0 to 0.25\n",
    "0.25 to 0.5\n",
    "0.5 to 0.75\n",
    "0.75 to 1.0\n",
    "[252, 257, 260, 225]'''"
   ]
  },
  {
   "cell_type": "code",
   "execution_count": 27,
   "id": "77b02e4c",
   "metadata": {},
   "outputs": [
    {
     "data": {
      "text/plain": [
       "tuple"
      ]
     },
     "execution_count": 27,
     "metadata": {},
     "output_type": "execute_result"
    }
   ],
   "source": [
    "t1=()\n",
    "type(t1)#tuple\n",
    "t2=(12,13,14)\n",
    "type(t2)#tuple"
   ]
  },
  {
   "cell_type": "code",
   "execution_count": 28,
   "id": "0fe6fc39",
   "metadata": {},
   "outputs": [
    {
     "data": {
      "text/plain": [
       "1"
      ]
     },
     "execution_count": 28,
     "metadata": {},
     "output_type": "execute_result"
    }
   ],
   "source": [
    "#Operation\n",
    "t4=(\"apple\",)#tuple\n",
    "len(t4)#1\n",
    "#if\n",
    "t4=(\"apple\")#string\n",
    "len(t4)#5"
   ]
  },
  {
   "cell_type": "code",
   "execution_count": 31,
   "id": "5201c702",
   "metadata": {},
   "outputs": [
    {
     "data": {
      "text/plain": [
       "'G'"
      ]
     },
     "execution_count": 31,
     "metadata": {},
     "output_type": "execute_result"
    }
   ],
   "source": [
    "t4=('a','b','c','e')\n",
    "max(t4)#'e'\n",
    "t5=(\"Grapes\")\n",
    "max(t4)#'s'\n",
    "min(t5)#'G'"
   ]
  },
  {
   "cell_type": "code",
   "execution_count": 34,
   "id": "f87ed3cb",
   "metadata": {},
   "outputs": [
    {
     "data": {
      "text/plain": [
       "60"
      ]
     },
     "execution_count": 34,
     "metadata": {},
     "output_type": "execute_result"
    }
   ],
   "source": [
    "t1=10,20,30\n",
    "sum(t1)#60"
   ]
  },
  {
   "cell_type": "code",
   "execution_count": null,
   "id": "7c406d00",
   "metadata": {},
   "outputs": [],
   "source": []
  }
 ],
 "metadata": {
  "kernelspec": {
   "display_name": "Python 3",
   "language": "python",
   "name": "python3"
  },
  "language_info": {
   "codemirror_mode": {
    "name": "ipython",
    "version": 3
   },
   "file_extension": ".py",
   "mimetype": "text/x-python",
   "name": "python",
   "nbconvert_exporter": "python",
   "pygments_lexer": "ipython3",
   "version": "3.8.8"
  }
 },
 "nbformat": 4,
 "nbformat_minor": 5
}
