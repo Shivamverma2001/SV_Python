{
 "cells": [
  {
   "cell_type": "code",
   "execution_count": 2,
   "id": "30926467",
   "metadata": {},
   "outputs": [
    {
     "name": "stdout",
     "output_type": "stream",
     "text": [
      "Rodger is a Mammal\n",
      "Tommy is a Mammal\n",
      "My name is Rodger\n",
      "My name is Tommy\n"
     ]
    }
   ],
   "source": [
    "class Dog:\n",
    "    #Class Attribue\n",
    "    attr1=\"Mammal\"\n",
    "    #instance attribute\n",
    "    def __init__(self,name):\n",
    "        self.name=name\n",
    "#Drive Code\n",
    "#Object installation\n",
    "Rodger=Dog(\"Rodger\")\n",
    "Tommy=Dog(\"Tommy\")\n",
    "#Accessing class attributes\n",
    "print(\"Rodger is a {}\".format(Rodger.__class__.attr1))#Rodger is a Mammal\n",
    "print(\"Tommy is a {}\".format(Tommy.attr1))#Tommy is a Mammal\n",
    "#Accessing class attributes\n",
    "print(\"My name is {}\".format(Rodger.name))#My name is Rodger\n",
    "print(\"My name is {}\".format(Tommy.name))#My name is Tommy"
   ]
  },
  {
   "cell_type": "code",
   "execution_count": 4,
   "id": "a36a142a",
   "metadata": {},
   "outputs": [
    {
     "name": "stdout",
     "output_type": "stream",
     "text": [
      "Rodger Details\n",
      "Rodger is a  Dog\n",
      " Breed  Pug\n",
      " Color  Brown\n",
      "\n",
      " Buzo Details\n",
      "Rodger is a  Dog\n",
      " Breed  Bulldog\n",
      " Color  Black\n",
      "\n",
      "Accessing class varible using class name \n",
      "Dog\n"
     ]
    }
   ],
   "source": [
    "class Dog:\n",
    "    #class variavle\n",
    "    animal=\"Dog\"\n",
    "    #init method or constructor\n",
    "    def __init__(self,breed,color):\n",
    "        #instance variable\n",
    "        self.breed=breed\n",
    "        self.color=color\n",
    "        #objects of dog class\n",
    "Rodger=Dog(\"Pug\",\"Brown\")\n",
    "Buzo=Dog(\"Bulldog\",\"Black\")\n",
    "print(\"Rodger Details\")\n",
    "print(\"Rodger is a \",Rodger.animal)\n",
    "print(\" Breed \",Rodger.breed)\n",
    "print(\" Color \",Rodger.color)\n",
    "print(\"\\n Buzo Details\")\n",
    "print(\"Rodger is a \",Buzo.animal)\n",
    "print(\" Breed \",Buzo.breed)\n",
    "print(\" Color \",Buzo.color)\n",
    "#class varible can be accessed using class\n",
    "#name also\n",
    "print(\"\\nAccessing class varible using class name \")\n",
    "print(Dog.animal)"
   ]
  },
  {
   "cell_type": "code",
   "execution_count": 5,
   "id": "52880156",
   "metadata": {},
   "outputs": [
    {
     "name": "stdout",
     "output_type": "stream",
     "text": [
      "Name Shivam Salary 10000000\n",
      "Shivam\n"
     ]
    }
   ],
   "source": [
    "class Employee:\n",
    "    'Optional Class documentation string'#class name documentation   it is optional\n",
    "    def __init__(self):\n",
    "        self.name=\"Shivam\"\n",
    "        self.salary=10000000\n",
    "    def displayEmployee(self):\n",
    "        print(\"Name\",self.name,\"Salary\",self.salary)\n",
    "emp1=Employee()\n",
    "emp1.displayEmployee()\n",
    "print(emp1.name)"
   ]
  },
  {
   "cell_type": "code",
   "execution_count": 9,
   "id": "bcbd1d61",
   "metadata": {},
   "outputs": [
    {
     "name": "stdout",
     "output_type": "stream",
     "text": [
      "Name  Zara  Salary  50000\n",
      "Name  Manni  Salary  100000\n",
      "Total Employee 2\n"
     ]
    }
   ],
   "source": [
    "class Employee:\n",
    "    'Common base class for all employees'\n",
    "    empCount=0\n",
    "    def __init__(self,name,salary):\n",
    "        self.name=name\n",
    "        self.salary=salary\n",
    "        Employee.empCount+=1\n",
    "    def displayCount(self):\n",
    "        print(\"Total Employee %d\",Employee.empCount)\n",
    "    def displayEmployee(self):\n",
    "        print(\"Name \",self.name,\" Salary \",self.salary)\n",
    "emp1=Employee(\"Zara\",\"50000\")\n",
    "emp2=Employee(\"Manni\",\"100000\")\n",
    "emp1.displayEmployee()\n",
    "emp2.displayEmployee()\n",
    "print(\"Total Employee %d\"%Employee.empCount)"
   ]
  },
  {
   "cell_type": "code",
   "execution_count": 19,
   "id": "29630ffd",
   "metadata": {},
   "outputs": [],
   "source": [
    "emp1.age=7\n",
    "hasattr(emp2,'age')#False\n",
    "#getattr(emp2,'age')#bcz it cant have any age attribute\n",
    "getattr(emp1,'age')#7\n",
    "setattr(emp1,'age',8)#set value as 8\n",
    "getattr(emp1,'age')#8\n",
    "delattr(emp1,'age')#delete emp1 age attribute"
   ]
  },
  {
   "cell_type": "code",
   "execution_count": 8,
   "id": "6c67dbb3",
   "metadata": {},
   "outputs": [
    {
     "name": "stdout",
     "output_type": "stream",
     "text": [
      "Name abc Salary 10 Age 10\n",
      "abc\n",
      "10\n"
     ]
    }
   ],
   "source": [
    "#Data Hiding\n",
    "#Public and Private member of a class\n",
    "class Employee:\n",
    "    'Common class for all employees'\n",
    "    def __init__(self):\n",
    "        self.name=\"abc\"#public member or like global variable\n",
    "        self.salary=10\n",
    "        self.__age=10#private member or like local variable\n",
    "    def displayEmployee(self):\n",
    "        print(\"Name\",self.name,\"Salary\",self.salary,\"Age\",self.__age)\n",
    "emp1=Employee()\n",
    "emp1.displayEmployee()\n",
    "print(emp1.name)\n",
    "#print(emp1.__age)#not accessible\n",
    "#it is visible by\n",
    "print(emp1._Employee__age)"
   ]
  },
  {
   "cell_type": "code",
   "execution_count": 23,
   "id": "54366b5b",
   "metadata": {},
   "outputs": [
    {
     "name": "stdout",
     "output_type": "stream",
     "text": [
      "Employee.__dict__ {'__module__': '__main__', '__doc__': 'Common class for all employees', '__init__': <function Employee.__init__ at 0x000002A6DE604D30>, 'displayEmployee': <function Employee.displayEmployee at 0x000002A6DE604B80>, '__dict__': <attribute '__dict__' of 'Employee' objects>, '__weakref__': <attribute '__weakref__' of 'Employee' objects>}\n",
      "Employee.__doc__ Common class for all employees\n",
      "Employee.__name__ Employee\n",
      "Employee.__module__ __main__\n",
      "Employee.__bases__ (<class 'object'>,)\n"
     ]
    }
   ],
   "source": [
    "print(\"Employee.__dict__\",Employee.__dict__)\n",
    "print(\"Employee.__doc__\",Employee.__doc__)\n",
    "print(\"Employee.__name__\",Employee.__name__)\n",
    "print(\"Employee.__module__\",Employee.__module__)\n",
    "print(\"Employee.__bases__\",Employee.__bases__)"
   ]
  },
  {
   "cell_type": "code",
   "execution_count": 24,
   "id": "fea003f2",
   "metadata": {},
   "outputs": [
    {
     "name": "stdout",
     "output_type": "stream",
     "text": [
      "2915718780864 2915718780864 2915718780864\n",
      "Point Destroyed\n"
     ]
    }
   ],
   "source": [
    "#Destructor\n",
    "class Point:\n",
    "    def __init__(self,x=0,y=0):\n",
    "        self.x=x\n",
    "        self.y=y\n",
    "    def __del__(self):\n",
    "        class_name=self.__class__.__name__\n",
    "        print(class_name,\"Destroyed\")\n",
    "pt1=Point()\n",
    "pt2=pt1#alias\n",
    "pt3=pt1#alias\n",
    "print(id(pt1),id(pt2),id(pt3))\n",
    "del pt1\n",
    "del pt2\n",
    "del pt3"
   ]
  },
  {
   "cell_type": "code",
   "execution_count": 27,
   "id": "288b1802",
   "metadata": {},
   "outputs": [
    {
     "name": "stdout",
     "output_type": "stream",
     "text": [
      "AJAY KUMAR\n",
      "AJAY KUMAR , A1020\n"
     ]
    }
   ],
   "source": [
    "class Person:\n",
    "    def __init__(self,first,last):\n",
    "        self.firstname=first\n",
    "        self.lastname=last\n",
    "    def FullName(self):\n",
    "        return self.firstname+\" \"+self.lastname\n",
    "class Emp(Person):\n",
    "    def __init__(self,first,last,staffnum):\n",
    "        Person.__init__(self,first,last)\n",
    "        self.staffno=staffnum\n",
    "    def GetEmp(self):\n",
    "        return self.FullName()+\" , \"+self.staffno\n",
    "a=Person(\"AJAY\",\"KUMAR\")\n",
    "b=Emp(\"AJAY\",\"KUMAR\",\"A1020\")\n",
    "print(b.FullName())\n",
    "print(b.GetEmp())"
   ]
  },
  {
   "cell_type": "code",
   "execution_count": 1,
   "id": "4051202e",
   "metadata": {},
   "outputs": [
    {
     "name": "stdout",
     "output_type": "stream",
     "text": [
      "Base1\n",
      "Base2\n",
      "Derived\n",
      "Hello python\n"
     ]
    }
   ],
   "source": [
    "#Multiple Inheritance\n",
    "class Base1():\n",
    "    def __init__(self):\n",
    "        self.str1=\"Hello\"\n",
    "        print(\"Base1\")\n",
    "class Base2():\n",
    "    def __init__(self):\n",
    "        self.str2=\"python\"\n",
    "        print(\"Base2\")\n",
    "class Derived(Base1,Base2):\n",
    "    def __init__(self):\n",
    "        #Calling Constructor of Base1 And Base2\n",
    "        Base1.__init__(self)\n",
    "        Base2.__init__(self)\n",
    "        print(\"Derived\")\n",
    "    def printString(self):\n",
    "        print(self.str1,self.str2)\n",
    "ob=Derived()\n",
    "ob.printString()"
   ]
  },
  {
   "cell_type": "code",
   "execution_count": 2,
   "id": "5c475475",
   "metadata": {},
   "outputs": [
    {
     "name": "stdout",
     "output_type": "stream",
     "text": [
      "Python 2019\n"
     ]
    }
   ],
   "source": [
    "#Multilevel\n",
    "class a:\n",
    "    def __init__(self):\n",
    "        self.n=\"Python\"\n",
    "class b(a):\n",
    "    def __init__(self):\n",
    "        self.a=2019\n",
    "class d(b):\n",
    "    def __init__(self):\n",
    "        a.__init__(self)\n",
    "        b.__init__(self)\n",
    "        print(self.n,self.a)\n",
    "obj=d()"
   ]
  },
  {
   "cell_type": "code",
   "execution_count": 3,
   "id": "7f2cc877",
   "metadata": {},
   "outputs": [
    {
     "name": "stdout",
     "output_type": "stream",
     "text": [
      "This is a child class\n"
     ]
    }
   ],
   "source": [
    "#Overriding Methods\n",
    "class Parent:\n",
    "    def myMethod(self):\n",
    "        print(\"This is a parent class\")\n",
    "class child(Parent):\n",
    "    def myMethod(self):\n",
    "        print(\"This is a child class\")\n",
    "c=child()\n",
    "c.myMethod()"
   ]
  },
  {
   "cell_type": "code",
   "execution_count": 7,
   "id": "006ed7ac",
   "metadata": {},
   "outputs": [
    {
     "name": "stdout",
     "output_type": "stream",
     "text": [
      "Next Week\n",
      "Class\n",
      "Second CA\n",
      "Python\n"
     ]
    }
   ],
   "source": [
    "class A():\n",
    "    def foo(self):\n",
    "        print(\"Python\")\n",
    "class B(A):\n",
    "    def foo(self):\n",
    "        print(\"Class\")\n",
    "        super(B,self).foo()\n",
    "class C(A):\n",
    "    def foo(self):\n",
    "        print(\"Second CA\")\n",
    "        super(C,self).foo()\n",
    "class D(B,C):\n",
    "    def foo(self):\n",
    "        print(\"Next Week\")\n",
    "        super(D,self).foo()\n",
    "d=D()\n",
    "d.foo()"
   ]
  },
  {
   "cell_type": "code",
   "execution_count": 10,
   "id": "411d51f4",
   "metadata": {},
   "outputs": [],
   "source": [
    "#Method Overloading//Function Overloading\n",
    "def product(a,b):\n",
    "    p=a*b\n",
    "    print(p)\n",
    "def product(a,b,c):\n",
    "    p=a*b*c\n",
    "    print(p)"
   ]
  },
  {
   "cell_type": "code",
   "execution_count": 12,
   "id": "c66a1f16",
   "metadata": {},
   "outputs": [
    {
     "name": "stdout",
     "output_type": "stream",
     "text": [
      "252\n"
     ]
    }
   ],
   "source": [
    "product(6,7,6)"
   ]
  },
  {
   "cell_type": "code",
   "execution_count": null,
   "id": "21f5bb6f",
   "metadata": {},
   "outputs": [],
   "source": []
  }
 ],
 "metadata": {
  "kernelspec": {
   "display_name": "Python 3",
   "language": "python",
   "name": "python3"
  },
  "language_info": {
   "codemirror_mode": {
    "name": "ipython",
    "version": 3
   },
   "file_extension": ".py",
   "mimetype": "text/x-python",
   "name": "python",
   "nbconvert_exporter": "python",
   "pygments_lexer": "ipython3",
   "version": "3.8.8"
  }
 },
 "nbformat": 4,
 "nbformat_minor": 5
}
