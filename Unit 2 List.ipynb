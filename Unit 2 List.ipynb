{
 "cells": [
  {
   "cell_type": "code",
   "execution_count": 12,
   "id": "11befd2e",
   "metadata": {},
   "outputs": [
    {
     "name": "stdout",
     "output_type": "stream",
     "text": [
      "hello\n",
      "20.5\n",
      "[10, 20]\n",
      "10\n",
      "20\n",
      "5\n"
     ]
    }
   ],
   "source": [
    "a=[\"hello\",20.5,5,[10,20]]\n",
    "print(a[0])#hello\n",
    "print(a[1])#20.5\n",
    "print(a[3])#[10, 20]\n",
    "print(a[3][0])#10\n",
    "print(a[3][1])#20\n",
    "print(a[3-1])#5"
   ]
  },
  {
   "cell_type": "code",
   "execution_count": 7,
   "id": "166941b7",
   "metadata": {},
   "outputs": [
    {
     "data": {
      "text/plain": [
       "[1, 3, 5, 7, 9]"
      ]
     },
     "execution_count": 7,
     "metadata": {},
     "output_type": "execute_result"
    }
   ],
   "source": [
    "list(range(1,5))#[1, 2, 3, 4]\n",
    "range(10)#range(0, 10)\n",
    "list(range(10))#[0, 1, 2, 3, 4, 5, 6, 7, 8, 9]\n",
    "list(range(1,10,2))#[1, 3, 5, 7, 9]"
   ]
  },
  {
   "cell_type": "code",
   "execution_count": 8,
   "id": "18df5727",
   "metadata": {},
   "outputs": [],
   "source": [
    "#Empty List\n",
    "a=[]"
   ]
  },
  {
   "cell_type": "code",
   "execution_count": 14,
   "id": "d5897425",
   "metadata": {},
   "outputs": [
    {
     "name": "stdout",
     "output_type": "stream",
     "text": [
      "[5, 23]\n"
     ]
    }
   ],
   "source": [
    "#List are mutable\n",
    "number=[17,23]\n",
    "number[0]=5\n",
    "print(number)"
   ]
  },
  {
   "cell_type": "code",
   "execution_count": 18,
   "id": "458447c8",
   "metadata": {},
   "outputs": [
    {
     "data": {
      "text/plain": [
       "70.8"
      ]
     },
     "execution_count": 18,
     "metadata": {},
     "output_type": "execute_result"
    }
   ],
   "source": [
    "a=[10,20,30.4,70.8]\n",
    "a[2]=8\n",
    "a#[10, 20, 8, 70.8]\n",
    "a[2:4]#[8, 70.8]\n",
    "a[-1]#70.8"
   ]
  },
  {
   "cell_type": "code",
   "execution_count": 19,
   "id": "95b63d10",
   "metadata": {},
   "outputs": [
    {
     "name": "stdout",
     "output_type": "stream",
     "text": [
      "war\n",
      "famine\n",
      "pestilence\n",
      "death\n"
     ]
    }
   ],
   "source": [
    "#List Traversal\n",
    "horseman=[\"war\",\"famine\",\"pestilence\",\"death\"]\n",
    "i=0\n",
    "while i<len(horseman):\n",
    "    print(horseman[i])\n",
    "    i+=1\n",
    "'''war\n",
    "famine\n",
    "pestilence\n",
    "death'''"
   ]
  },
  {
   "cell_type": "code",
   "execution_count": 22,
   "id": "491631d7",
   "metadata": {},
   "outputs": [
    {
     "data": {
      "text/plain": [
       "True"
      ]
     },
     "execution_count": 22,
     "metadata": {},
     "output_type": "execute_result"
    }
   ],
   "source": [
    "#List Membership\n",
    "#in\n",
    "\"pestilence\" in horseman#true\n",
    "#not in\n",
    "\"abc\" not in horseman#true\n",
    "\"war\" not in horseman#false"
   ]
  },
  {
   "cell_type": "code",
   "execution_count": 23,
   "id": "5b42de87",
   "metadata": {},
   "outputs": [
    {
     "name": "stdout",
     "output_type": "stream",
     "text": [
      "war\n",
      "famine\n",
      "pestilence\n",
      "death\n"
     ]
    }
   ],
   "source": [
    "horseman=[\"war\",\"famine\",\"pestilence\",\"death\"]\n",
    "for i in horseman:\n",
    "    print(i)\n",
    "    '''war\n",
    "famine\n",
    "pestilence\n",
    "death'''"
   ]
  },
  {
   "cell_type": "code",
   "execution_count": 25,
   "id": "d531d601",
   "metadata": {},
   "outputs": [
    {
     "name": "stdout",
     "output_type": "stream",
     "text": [
      "0\n",
      "2\n",
      "4\n",
      "6\n",
      "8\n"
     ]
    }
   ],
   "source": [
    "for number in range(10):\n",
    "    if(number%2==0):\n",
    "        print(number)"
   ]
  },
  {
   "cell_type": "code",
   "execution_count": 26,
   "id": "dc266c0e",
   "metadata": {},
   "outputs": [
    {
     "name": "stdout",
     "output_type": "stream",
     "text": [
      "[1, 2, 3, 4, 5, 6] [4, 5, 6, 1, 2, 3]\n"
     ]
    }
   ],
   "source": [
    "#List Operations\n",
    "a=[1,2,3]\n",
    "b=[4,5,6]\n",
    "c=a+b\n",
    "d=b+a\n",
    "print(c,d)"
   ]
  },
  {
   "cell_type": "code",
   "execution_count": 27,
   "id": "f900ec01",
   "metadata": {},
   "outputs": [
    {
     "data": {
      "text/plain": [
       "[0, 0, 0, 0]"
      ]
     },
     "execution_count": 27,
     "metadata": {},
     "output_type": "execute_result"
    }
   ],
   "source": [
    "[0]*4#[0, 0, 0, 0]"
   ]
  },
  {
   "cell_type": "code",
   "execution_count": 31,
   "id": "fcd1c490",
   "metadata": {},
   "outputs": [
    {
     "data": {
      "text/plain": [
       "['d', 'e', 'f']"
      ]
     },
     "execution_count": 31,
     "metadata": {},
     "output_type": "execute_result"
    }
   ],
   "source": [
    "#List Slices\n",
    "list=['a','b','c','d','e','f']\n",
    "list[1:3]#['b', 'c']\n",
    "list[:4]#['a', 'b', 'c', 'd']\n",
    "list[:]#['a','b','c','d','e','f']\n",
    "list[3:]#['d', 'e', 'f']"
   ]
  },
  {
   "cell_type": "code",
   "execution_count": 34,
   "id": "8e24f8fa",
   "metadata": {},
   "outputs": [
    {
     "data": {
      "text/plain": [
       "[10, 50, 40, 50, 60]"
      ]
     },
     "execution_count": 34,
     "metadata": {},
     "output_type": "execute_result"
    }
   ],
   "source": [
    "#Updation\n",
    "d=[10,20,100,40,50,60]\n",
    "d[1:3]=[39,49,50]\n",
    "d#[10, 39, 49, 50, 40, 50, 60]\n",
    "#Remove\n",
    "d[1:3]=[]\n",
    "d#[10, 50, 40, 50, 60]"
   ]
  },
  {
   "cell_type": "code",
   "execution_count": 36,
   "id": "e620b2e8",
   "metadata": {},
   "outputs": [
    {
     "data": {
      "text/plain": [
       "[10, 60, 80, 90, 20, 30, 100]"
      ]
     },
     "execution_count": 36,
     "metadata": {},
     "output_type": "execute_result"
    }
   ],
   "source": [
    "#Addition\n",
    "d=[10,20,30]\n",
    "d[1:1]=[60,80,90]\n",
    "d#[10, 60, 80, 90, 20, 30]\n",
    "d[6:6]=[100]\n",
    "d#[10, 60, 80, 90, 20, 30, 100]"
   ]
  },
  {
   "cell_type": "code",
   "execution_count": 39,
   "id": "a19333ea",
   "metadata": {},
   "outputs": [
    {
     "data": {
      "text/plain": [
       "[1, 0, 6, 8, 2, 3, 7, 8, 4, 5]"
      ]
     },
     "execution_count": 39,
     "metadata": {},
     "output_type": "execute_result"
    }
   ],
   "source": [
    "d=[1,2,3,4,5]\n",
    "d[1:3]=[12,13]\n",
    "d#[1, 12, 13, 4, 5]\n",
    "d[1:3]=[]\n",
    "d#[1, 4, 5]\n",
    "d=[1,2,3,4,5]\n",
    "d[1:1]=[0,6,8]\n",
    "d[6:6]=[7,8]\n",
    "d#[1, 0, 6, 8, 2, 3, 7, 8, 4, 5]"
   ]
  },
  {
   "cell_type": "code",
   "execution_count": 41,
   "id": "a5f4a683",
   "metadata": {},
   "outputs": [
    {
     "data": {
      "text/plain": [
       "['one']"
      ]
     },
     "execution_count": 41,
     "metadata": {},
     "output_type": "execute_result"
    }
   ],
   "source": [
    "#Deletion\n",
    "a=[\"one\",\"two\",\"three\"]\n",
    "del a[1]\n",
    "a#['one', 'three']\n",
    "del a[-1]\n",
    "a#['one']"
   ]
  },
  {
   "cell_type": "code",
   "execution_count": 42,
   "id": "19dc9acb",
   "metadata": {},
   "outputs": [
    {
     "data": {
      "text/plain": [
       "[1]"
      ]
     },
     "execution_count": 42,
     "metadata": {},
     "output_type": "execute_result"
    }
   ],
   "source": [
    "d=[1,2,3,4]\n",
    "del d[1:4]\n",
    "d"
   ]
  },
  {
   "cell_type": "code",
   "execution_count": 43,
   "id": "5e537498",
   "metadata": {},
   "outputs": [
    {
     "data": {
      "text/plain": [
       "True"
      ]
     },
     "execution_count": 43,
     "metadata": {},
     "output_type": "execute_result"
    }
   ],
   "source": [
    "#Objects and values\n",
    "a=\"banana\"\n",
    "b=\"banana\"\n",
    "a==b#true\n",
    "a is b#True bcz id(a)==id(b)"
   ]
  },
  {
   "cell_type": "code",
   "execution_count": 44,
   "id": "f745daa3",
   "metadata": {},
   "outputs": [
    {
     "data": {
      "text/plain": [
       "False"
      ]
     },
     "execution_count": 44,
     "metadata": {},
     "output_type": "execute_result"
    }
   ],
   "source": [
    "a=[1,2,3]\n",
    "b=[1,2,3]\n",
    "a==b#true\n",
    "a is b#False bcz id(a)!=id(b)"
   ]
  },
  {
   "cell_type": "code",
   "execution_count": 46,
   "id": "9520c100",
   "metadata": {},
   "outputs": [
    {
     "data": {
      "text/plain": [
       "True"
      ]
     },
     "execution_count": 46,
     "metadata": {},
     "output_type": "execute_result"
    }
   ],
   "source": [
    "a=[1,2,3,4]\n",
    "b=a\n",
    "a==b#true\n",
    "a is b#True bcz id(a)==id(b)"
   ]
  },
  {
   "cell_type": "code",
   "execution_count": 48,
   "id": "a4238b55",
   "metadata": {},
   "outputs": [
    {
     "name": "stdout",
     "output_type": "stream",
     "text": [
      "[5, 2, 3]\n",
      "[5, 2, 3]\n"
     ]
    }
   ],
   "source": [
    "#Aliasing\n",
    "a=[1,2,3]\n",
    "b=a#aliasing\n",
    "b[0]=5\n",
    "print(b)#[5, 2, 3]\n",
    "print(a)#[5, 2, 3]"
   ]
  },
  {
   "cell_type": "code",
   "execution_count": 50,
   "id": "dbf66c06",
   "metadata": {},
   "outputs": [
    {
     "name": "stdout",
     "output_type": "stream",
     "text": [
      "[5, 2, 3]\n",
      "[1, 2, 3]\n"
     ]
    }
   ],
   "source": [
    "#Cloning List\n",
    "a=[1,2,3]\n",
    "b=a[:]#cloning list\n",
    "b[0]=5\n",
    "print(b)#[5, 2, 3]\n",
    "print(a)#[1, 2, 3]"
   ]
  },
  {
   "cell_type": "code",
   "execution_count": 51,
   "id": "94d7cfa0",
   "metadata": {},
   "outputs": [
    {
     "data": {
      "text/plain": [
       "1"
      ]
     },
     "execution_count": 51,
     "metadata": {},
     "output_type": "execute_result"
    }
   ],
   "source": [
    "#List Parameter\n",
    "def head(list):\n",
    "    return list[0]\n",
    "a=[1,2,3]\n",
    "head(a)#1"
   ]
  },
  {
   "cell_type": "code",
   "execution_count": 53,
   "id": "9d3bdaf0",
   "metadata": {},
   "outputs": [
    {
     "data": {
      "text/plain": [
       "[2, 3]"
      ]
     },
     "execution_count": 53,
     "metadata": {},
     "output_type": "execute_result"
    }
   ],
   "source": [
    "def dltHead(list):\n",
    "    del list[0]\n",
    "a=[1,2,3]\n",
    "dltHead(a)\n",
    "a#[2, 3]"
   ]
  },
  {
   "cell_type": "code",
   "execution_count": 54,
   "id": "199802ae",
   "metadata": {},
   "outputs": [
    {
     "data": {
      "text/plain": [
       "[2, 3, 4]"
      ]
     },
     "execution_count": 54,
     "metadata": {},
     "output_type": "execute_result"
    }
   ],
   "source": [
    "def tail(list):\n",
    "    return list[1:]\n",
    "a=[1,2,3,4]\n",
    "tail(a)#[2, 3, 4]"
   ]
  },
  {
   "cell_type": "code",
   "execution_count": 57,
   "id": "00156346",
   "metadata": {},
   "outputs": [
    {
     "data": {
      "text/plain": [
       "5"
      ]
     },
     "execution_count": 57,
     "metadata": {},
     "output_type": "execute_result"
    }
   ],
   "source": [
    "#Matrix\n",
    "matrix=[[1,2,3],[4,5,6],[7,8,9]]\n",
    "matrix#[[1, 2, 3], [4, 5, 6], [7, 8, 9]]\n",
    "matrix[1][1]#5"
   ]
  },
  {
   "cell_type": "code",
   "execution_count": 58,
   "id": "d18af534",
   "metadata": {},
   "outputs": [],
   "source": [
    "#String and List"
   ]
  },
  {
   "cell_type": "code",
   "execution_count": 61,
   "id": "a2c1b289",
   "metadata": {},
   "outputs": [
    {
     "data": {
      "text/plain": [
       "['The r', 'n in Sp', 'n.......']"
      ]
     },
     "execution_count": 61,
     "metadata": {},
     "output_type": "execute_result"
    }
   ],
   "source": [
    "import string\n",
    "song=\"The rain in Spain.......\"\n",
    "song.split()#['The', 'rain', 'in', 'Spain.......']\n",
    "song.split(\"ai\")#['The r', 'n in Sp', 'n.......']"
   ]
  },
  {
   "cell_type": "code",
   "execution_count": 63,
   "id": "a9b340e6",
   "metadata": {},
   "outputs": [
    {
     "data": {
      "text/plain": [
       "'The_rain_in_Spain.......'"
      ]
     },
     "execution_count": 63,
     "metadata": {},
     "output_type": "execute_result"
    }
   ],
   "source": [
    "#Join Function\n",
    "list=song.split()\n",
    "\" \".join(list)#'The rain in Spain.......'\n",
    "\"_\".join(list)#'The_rain_in_Spain.......'"
   ]
  },
  {
   "cell_type": "code",
   "execution_count": 78,
   "id": "4bb1c626",
   "metadata": {},
   "outputs": [
    {
     "data": {
      "text/plain": [
       "40"
      ]
     },
     "execution_count": 78,
     "metadata": {},
     "output_type": "execute_result"
    }
   ],
   "source": [
    "#List of Operations\n",
    "a=[10,20,30]\n",
    "a.append(40)#[10, 20, 30, 40]\n",
    "a\n",
    "#a.extend(50,60,70)#[10, 20, 30, 40,50,60,70]\n",
    "a=[10,20,10,20]\n",
    "a.count(20)#2\n",
    "a=[10,20,30,40]\n",
    "a.index(30)#2\n",
    "a.remove(30)#[10, 20, 40]\n",
    "a\n",
    "a=[10,30,20,40]\n",
    "a.sort()\n",
    "a#[10, 20, 30, 40]\n",
    "a.reverse()\n",
    "a#[40, 30, 20, 10]\n",
    "min(a)#10\n",
    "max(a)#40\n"
   ]
  },
  {
   "cell_type": "code",
   "execution_count": null,
   "id": "12654726",
   "metadata": {},
   "outputs": [],
   "source": []
  }
 ],
 "metadata": {
  "kernelspec": {
   "display_name": "Python 3",
   "language": "python",
   "name": "python3"
  },
  "language_info": {
   "codemirror_mode": {
    "name": "ipython",
    "version": 3
   },
   "file_extension": ".py",
   "mimetype": "text/x-python",
   "name": "python",
   "nbconvert_exporter": "python",
   "pygments_lexer": "ipython3",
   "version": "3.8.8"
  }
 },
 "nbformat": 4,
 "nbformat_minor": 5
}
