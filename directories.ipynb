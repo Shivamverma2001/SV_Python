{
 "cells": [
  {
   "cell_type": "code",
   "execution_count": 5,
   "id": "6be5c232",
   "metadata": {},
   "outputs": [
    {
     "name": "stdout",
     "output_type": "stream",
     "text": [
      "['shivam \\n', 'himanshu\\n', 'vikram']\n"
     ]
    }
   ],
   "source": [
    "f=open(\"C:/Users/intel/Desktop/abc.txt\",\"r\")#convert frontslash(\\) into backslash(/)\n",
    "f=open(\"C:/Users/intel/Desktop/abc.txt\",\"r\")#by click on file then shift+riht click\n",
    "t1=f.readlines()\n",
    "print(t1)"
   ]
  },
  {
   "cell_type": "code",
   "execution_count": 6,
   "id": "c871ac6d",
   "metadata": {},
   "outputs": [],
   "source": [
    "#pickling"
   ]
  },
  {
   "cell_type": "code",
   "execution_count": 8,
   "id": "8e792601",
   "metadata": {},
   "outputs": [
    {
     "name": "stdout",
     "output_type": "stream",
     "text": [
      "12.3[1, 2, 3]\n"
     ]
    }
   ],
   "source": [
    "f=open(\"abc50.txt\",\"w\")\n",
    "f.write(str(12.3))\n",
    "f.write(str([1,2,3]))\n",
    "f.close()\n",
    "f=open(\"abc50.txt\",\"r\")\n",
    "t1=f.readline()\n",
    "print(t1)"
   ]
  },
  {
   "cell_type": "code",
   "execution_count": 16,
   "id": "5cf52224",
   "metadata": {},
   "outputs": [
    {
     "name": "stdout",
     "output_type": "stream",
     "text": [
      "12.3 [1, 2, 3]\n"
     ]
    }
   ],
   "source": [
    "import pickle\n",
    "f=open(\"abc100.txt\",\"wb\")#write byte wb instead of w\n",
    "pickle.dump(12.3,f)\n",
    "pickle.dump([1,2,3],f)\n",
    "f.close()\n",
    "f=open(\"abc100.txt\",\"rb\")\n",
    "x=pickle.load(f)\n",
    "x\n",
    "type(x)\n",
    "y=pickle.load(f)\n",
    "y\n",
    "type(y)\n",
    "print(x,y)"
   ]
  },
  {
   "cell_type": "code",
   "execution_count": null,
   "id": "d07b4665",
   "metadata": {},
   "outputs": [],
   "source": []
  }
 ],
 "metadata": {
  "kernelspec": {
   "display_name": "Python 3",
   "language": "python",
   "name": "python3"
  },
  "language_info": {
   "codemirror_mode": {
    "name": "ipython",
    "version": 3
   },
   "file_extension": ".py",
   "mimetype": "text/x-python",
   "name": "python",
   "nbconvert_exporter": "python",
   "pygments_lexer": "ipython3",
   "version": "3.8.8"
  }
 },
 "nbformat": 4,
 "nbformat_minor": 5
}
