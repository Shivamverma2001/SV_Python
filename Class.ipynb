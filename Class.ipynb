{
 "cells": [
  {
   "cell_type": "code",
   "execution_count": 3,
   "id": "89f0a9ca",
   "metadata": {},
   "outputs": [
    {
     "name": "stdout",
     "output_type": "stream",
     "text": [
      "Roder is a {} mammal\n",
      "Tommy is a {} mammal\n",
      "My name is{} Rodger\n",
      "My name is{} Tommy\n"
     ]
    }
   ],
   "source": [
    "class Dog:\n",
    "    #class attribute/variable\n",
    "    attr1=\"mammal\"\n",
    "    \n",
    "    #instance attribute or constructor \n",
    "    def __init__(self,name):\n",
    "        self.name=name\n",
    "        \n",
    "#driver code\n",
    "#object instantiation\n",
    "Rodger=Dog(\"Rodger\")\n",
    "Tommy=Dog(\"Tommy\")\n",
    "\n",
    "#Accessing class attribute\n",
    "print(\"Roder is a {}\",format(Rodger.__class__.attr1))\n",
    "print(\"Tommy is a {}\",format(Tommy.__class__.attr1))\n",
    "\n",
    "#Accessing instance attributes\n",
    "print(\"My name is{}\",format(Rodger.name))\n",
    "print(\"My name is{}\",format(Tommy.name))"
   ]
  },
  {
   "cell_type": "code",
   "execution_count": 1,
   "id": "bcdba0e5",
   "metadata": {},
   "outputs": [
    {
     "name": "stdout",
     "output_type": "stream",
     "text": [
      "Rodger details:\n",
      "Rodger is a dog\n",
      "Breed:  Pug\n",
      "Color:  brown\n",
      "\n",
      "Buzo details:\n",
      "Buzo is a dog\n",
      "Breed:  Bulldog\n",
      "Color:  black\n"
     ]
    }
   ],
   "source": [
    "class Dog:\n",
    "   \n",
    "    # Class Variable\n",
    "    animal = 'dog'            \n",
    "   \n",
    "    # The init method or constructor\n",
    "    def __init__(self, breed, color):\n",
    "     \n",
    "        # Instance Variable    \n",
    "        self.breed = breed\n",
    "        self.color = color       \n",
    "    \n",
    "# Objects of Dog class\n",
    "Rodger = Dog(\"Pug\", \"brown\")\n",
    "Buzo = Dog(\"Bulldog\", \"black\")\n",
    "print('Rodger details:')  \n",
    "print('Rodger is a', Rodger.animal)\n",
    "print('Breed: ', Rodger.breed)\n",
    "print('Color: ', Rodger.color)\n",
    " \n",
    "print('\\nBuzo details:')  \n",
    "print('Buzo is a', Buzo.animal)\n",
    "print('Breed: ', Buzo.breed)\n",
    "print('Color: ', Buzo.color)"
   ]
  },
  {
   "cell_type": "code",
   "execution_count": 2,
   "id": "e4d8238a",
   "metadata": {},
   "outputs": [
    {
     "ename": "IndentationError",
     "evalue": "expected an indented block (<ipython-input-2-1914adebef49>, line 2)",
     "output_type": "error",
     "traceback": [
      "\u001b[1;36m  File \u001b[1;32m\"<ipython-input-2-1914adebef49>\"\u001b[1;36m, line \u001b[1;32m2\u001b[0m\n\u001b[1;33m    'Common base class for all employees'\u001b[0m\n\u001b[1;37m    ^\u001b[0m\n\u001b[1;31mIndentationError\u001b[0m\u001b[1;31m:\u001b[0m expected an indented block\n"
     ]
    }
   ],
   "source": [
    "class Employee:\n",
    "'Common base class for all employees'\n",
    "empCount = 0\n",
    "\n",
    "def __init__(self, name, salary):\n",
    "self.name = name\n",
    "self.salary = salary\n",
    "Employee.empCount += 1\n",
    "\n",
    "def displayCount(self):\n",
    "print(\"Total Employee %d\" % Employee.empCount)\n",
    "\n",
    "def displayEmployee(self):\n",
    "print(\"Name : \", self.name, \", Salary: \", self.salary)"
   ]
  },
  {
   "cell_type": "code",
   "execution_count": null,
   "id": "c574412f",
   "metadata": {},
   "outputs": [],
   "source": []
  }
 ],
 "metadata": {
  "kernelspec": {
   "display_name": "Python 3",
   "language": "python",
   "name": "python3"
  },
  "language_info": {
   "codemirror_mode": {
    "name": "ipython",
    "version": 3
   },
   "file_extension": ".py",
   "mimetype": "text/x-python",
   "name": "python",
   "nbconvert_exporter": "python",
   "pygments_lexer": "ipython3",
   "version": "3.8.8"
  }
 },
 "nbformat": 4,
 "nbformat_minor": 5
}
