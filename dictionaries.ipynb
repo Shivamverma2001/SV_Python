{
 "cells": [
  {
   "cell_type": "code",
   "execution_count": 5,
   "id": "406092cc",
   "metadata": {},
   "outputs": [
    {
     "data": {
      "text/plain": [
       "{}"
      ]
     },
     "execution_count": 5,
     "metadata": {},
     "output_type": "execute_result"
    }
   ],
   "source": [
    "D1={ }    #creating empty dictionary\n",
    "D1"
   ]
  },
  {
   "cell_type": "code",
   "execution_count": 6,
   "id": "88c44358",
   "metadata": {},
   "outputs": [
    {
     "data": {
      "text/plain": [
       "dict"
      ]
     },
     "execution_count": 6,
     "metadata": {},
     "output_type": "execute_result"
    }
   ],
   "source": [
    "type(D1)   #type"
   ]
  },
  {
   "cell_type": "code",
   "execution_count": 7,
   "id": "56bf9b5d",
   "metadata": {},
   "outputs": [],
   "source": [
    "p={\"amit\":\"919897017702\",\"anmol\":\"919897017701\"}     # creating dictionary with 2 element"
   ]
  },
  {
   "cell_type": "code",
   "execution_count": 8,
   "id": "75b9d936",
   "metadata": {},
   "outputs": [
    {
     "data": {
      "text/plain": [
       "{'amit': '919897017702', 'anmol': '919897017701'}"
      ]
     },
     "execution_count": 8,
     "metadata": {},
     "output_type": "execute_result"
    }
   ],
   "source": [
    "p"
   ]
  },
  {
   "cell_type": "code",
   "execution_count": 11,
   "id": "b70ea3dd",
   "metadata": {},
   "outputs": [],
   "source": [
    "p[\"John\"]=\"913456789087\"   # add new element to dictonary"
   ]
  },
  {
   "cell_type": "code",
   "execution_count": 12,
   "id": "456b6fcd",
   "metadata": {},
   "outputs": [
    {
     "data": {
      "text/plain": [
       "{'amit': '919897017702', 'anmol': '919897017701', 'John': '913456789087'}"
      ]
     },
     "execution_count": 12,
     "metadata": {},
     "output_type": "execute_result"
    }
   ],
   "source": [
    "p"
   ]
  },
  {
   "cell_type": "code",
   "execution_count": 13,
   "id": "7680641d",
   "metadata": {},
   "outputs": [],
   "source": [
    "p[\"amit\"]=\"929897017702\""
   ]
  },
  {
   "cell_type": "code",
   "execution_count": 14,
   "id": "017a7285",
   "metadata": {},
   "outputs": [
    {
     "data": {
      "text/plain": [
       "{'amit': '929897017702', 'anmol': '919897017701', 'John': '913456789087'}"
      ]
     },
     "execution_count": 14,
     "metadata": {},
     "output_type": "execute_result"
    }
   ],
   "source": [
    "p"
   ]
  },
  {
   "cell_type": "code",
   "execution_count": 15,
   "id": "7cb2d5ba",
   "metadata": {},
   "outputs": [
    {
     "ename": "KeyError",
     "evalue": "'jon'",
     "output_type": "error",
     "traceback": [
      "\u001b[1;31m---------------------------------------------------------------------------\u001b[0m",
      "\u001b[1;31mKeyError\u001b[0m                                  Traceback (most recent call last)",
      "\u001b[1;32m<ipython-input-15-a7f18f2109fa>\u001b[0m in \u001b[0;36m<module>\u001b[1;34m\u001b[0m\n\u001b[1;32m----> 1\u001b[1;33m \u001b[0mp\u001b[0m\u001b[1;33m[\u001b[0m\u001b[1;34m\"jon\"\u001b[0m\u001b[1;33m]\u001b[0m\u001b[1;33m\u001b[0m\u001b[1;33m\u001b[0m\u001b[0m\n\u001b[0m",
      "\u001b[1;31mKeyError\u001b[0m: 'jon'"
     ]
    }
   ],
   "source": [
    "p[\"jon\"]   # not a key    Key error"
   ]
  },
  {
   "cell_type": "code",
   "execution_count": 17,
   "id": "d6e88f35",
   "metadata": {},
   "outputs": [
    {
     "data": {
      "text/plain": [
       "'913456789087'"
      ]
     },
     "execution_count": 17,
     "metadata": {},
     "output_type": "execute_result"
    }
   ],
   "source": [
    "p[\"John\"]"
   ]
  },
  {
   "cell_type": "code",
   "execution_count": 18,
   "id": "b9f958e3",
   "metadata": {},
   "outputs": [
    {
     "data": {
      "text/plain": [
       "{'anmol': '919897017701', 'John': '913456789087'}"
      ]
     },
     "execution_count": 18,
     "metadata": {},
     "output_type": "execute_result"
    }
   ],
   "source": [
    "# delete item\n",
    "del p[\"amit\"]\n",
    "p"
   ]
  },
  {
   "cell_type": "code",
   "execution_count": 19,
   "id": "3c0b8eb1",
   "metadata": {},
   "outputs": [
    {
     "name": "stdout",
     "output_type": "stream",
     "text": [
      "{'I': 'India', 'A': 'America'}\n",
      "{'I': 'Italy', 'A': 'America'}\n"
     ]
    },
    {
     "data": {
      "text/plain": [
       "False"
      ]
     },
     "execution_count": 19,
     "metadata": {},
     "output_type": "execute_result"
    }
   ],
   "source": [
    "# comparing 2 dictionaries\n",
    "A={\"I\":\"India\",\"A\":\"America\"}\n",
    "print(A)\n",
    "B={\"I\":\"Italy\",\"A\":\"America\"}\n",
    "print(B)\n",
    "A==B"
   ]
  },
  {
   "cell_type": "code",
   "execution_count": 20,
   "id": "3c71796e",
   "metadata": {},
   "outputs": [
    {
     "data": {
      "text/plain": [
       "True"
      ]
     },
     "execution_count": 20,
     "metadata": {},
     "output_type": "execute_result"
    }
   ],
   "source": [
    "A!=B"
   ]
  },
  {
   "cell_type": "code",
   "execution_count": 21,
   "id": "00f4ca02",
   "metadata": {},
   "outputs": [
    {
     "name": "stdout",
     "output_type": "stream",
     "text": [
      "America\n"
     ]
    }
   ],
   "source": [
    "print(A[\"A\"])"
   ]
  },
  {
   "cell_type": "code",
   "execution_count": 22,
   "id": "590b5cf8",
   "metadata": {},
   "outputs": [
    {
     "data": {
      "text/plain": [
       "2"
      ]
     },
     "execution_count": 22,
     "metadata": {},
     "output_type": "execute_result"
    }
   ],
   "source": [
    "len(A)"
   ]
  },
  {
   "cell_type": "code",
   "execution_count": 23,
   "id": "7ff4d7e6",
   "metadata": {},
   "outputs": [
    {
     "data": {
      "text/plain": [
       "dict_keys(['I', 'A'])"
      ]
     },
     "execution_count": 23,
     "metadata": {},
     "output_type": "execute_result"
    }
   ],
   "source": [
    "A.keys()"
   ]
  },
  {
   "cell_type": "code",
   "execution_count": 24,
   "id": "96d12a22",
   "metadata": {},
   "outputs": [
    {
     "data": {
      "text/plain": [
       "dict_items([('I', 'India'), ('A', 'America')])"
      ]
     },
     "execution_count": 24,
     "metadata": {},
     "output_type": "execute_result"
    }
   ],
   "source": [
    "A.items()"
   ]
  },
  {
   "cell_type": "code",
   "execution_count": 25,
   "id": "ea24b88d",
   "metadata": {},
   "outputs": [
    {
     "data": {
      "text/plain": [
       "dict_values(['India', 'America'])"
      ]
     },
     "execution_count": 25,
     "metadata": {},
     "output_type": "execute_result"
    }
   ],
   "source": [
    "A.values()"
   ]
  },
  {
   "cell_type": "code",
   "execution_count": 26,
   "id": "40c0a8be",
   "metadata": {},
   "outputs": [
    {
     "ename": "AttributeError",
     "evalue": "'dict' object has no attribute 'has_key'",
     "output_type": "error",
     "traceback": [
      "\u001b[1;31m---------------------------------------------------------------------------\u001b[0m",
      "\u001b[1;31mAttributeError\u001b[0m                            Traceback (most recent call last)",
      "\u001b[1;32m<ipython-input-26-e720317a1652>\u001b[0m in \u001b[0;36m<module>\u001b[1;34m\u001b[0m\n\u001b[1;32m----> 1\u001b[1;33m \u001b[0mA\u001b[0m\u001b[1;33m.\u001b[0m\u001b[0mhas_key\u001b[0m\u001b[1;33m(\u001b[0m\u001b[1;34m'I'\u001b[0m\u001b[1;33m)\u001b[0m\u001b[1;33m\u001b[0m\u001b[1;33m\u001b[0m\u001b[0m\n\u001b[0m",
      "\u001b[1;31mAttributeError\u001b[0m: 'dict' object has no attribute 'has_key'"
     ]
    }
   ],
   "source": [
    "A.has_key('I')"
   ]
  },
  {
   "cell_type": "code",
   "execution_count": 28,
   "id": "ba420952",
   "metadata": {},
   "outputs": [
    {
     "name": "stdout",
     "output_type": "stream",
     "text": [
      "True\n"
     ]
    }
   ],
   "source": [
    "print ('I' in A)"
   ]
  },
  {
   "cell_type": "code",
   "execution_count": 31,
   "id": "485baf75",
   "metadata": {},
   "outputs": [
    {
     "data": {
      "text/plain": [
       "'left'"
      ]
     },
     "execution_count": 31,
     "metadata": {},
     "output_type": "execute_result"
    }
   ],
   "source": [
    "#Aliasing and Copying\n",
    "opposites={'up':'down','right':'left','true':'false'}\n",
    "alias=opposites\n",
    "copy=opposites.copy()\n",
    "alias['right']='left'\n",
    "opposites['right']"
   ]
  },
  {
   "cell_type": "code",
   "execution_count": 32,
   "id": "2e838ba5",
   "metadata": {},
   "outputs": [
    {
     "data": {
      "text/plain": [
       "'left'"
      ]
     },
     "execution_count": 32,
     "metadata": {},
     "output_type": "execute_result"
    }
   ],
   "source": [
    "copy['right']='privilage'\n",
    "opposites['right']"
   ]
  },
  {
   "cell_type": "code",
   "execution_count": 33,
   "id": "0b0e369e",
   "metadata": {},
   "outputs": [
    {
     "data": {
      "text/plain": [
       "{'up': 'down', 'right': 'privilage', 'true': 'false'}"
      ]
     },
     "execution_count": 33,
     "metadata": {},
     "output_type": "execute_result"
    }
   ],
   "source": [
    "copy"
   ]
  },
  {
   "cell_type": "code",
   "execution_count": 35,
   "id": "132af7f7",
   "metadata": {},
   "outputs": [
    {
     "data": {
      "text/plain": [
       "{(0, 3): 1, (2, 1): 2, (4, 3): 3}"
      ]
     },
     "execution_count": 35,
     "metadata": {},
     "output_type": "execute_result"
    }
   ],
   "source": [
    "#sparse matrix\n",
    "matrix={(0,3):1,(2,1):2,(4,3):3}\n",
    "matrix"
   ]
  },
  {
   "cell_type": "code",
   "execution_count": 38,
   "id": "b51b35c6",
   "metadata": {},
   "outputs": [
    {
     "data": {
      "text/plain": [
       "2"
      ]
     },
     "execution_count": 38,
     "metadata": {},
     "output_type": "execute_result"
    }
   ],
   "source": [
    "matrix[0,3]\n",
    "matrix[2,1]"
   ]
  },
  {
   "cell_type": "code",
   "execution_count": null,
   "id": "5b3c7cd7",
   "metadata": {},
   "outputs": [],
   "source": []
  }
 ],
 "metadata": {
  "kernelspec": {
   "display_name": "Python 3",
   "language": "python",
   "name": "python3"
  },
  "language_info": {
   "codemirror_mode": {
    "name": "ipython",
    "version": 3
   },
   "file_extension": ".py",
   "mimetype": "text/x-python",
   "name": "python",
   "nbconvert_exporter": "python",
   "pygments_lexer": "ipython3",
   "version": "3.8.8"
  }
 },
 "nbformat": 4,
 "nbformat_minor": 5
}
