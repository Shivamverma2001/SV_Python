{
 "cells": [
  {
   "cell_type": "code",
   "execution_count": 2,
   "id": "56d281e2",
   "metadata": {},
   "outputs": [
    {
     "name": "stdout",
     "output_type": "stream",
     "text": [
      "<_io.TextIOWrapper name='a.txt' mode='w' encoding='cp1252'>\n"
     ]
    }
   ],
   "source": [
    "f=open(\"a.txt\",\"w\")#for open and create and writein a file\n",
    "print(f)"
   ]
  },
  {
   "cell_type": "code",
   "execution_count": 3,
   "id": "73bb7944",
   "metadata": {},
   "outputs": [],
   "source": [
    "f=open(\"a.txt\",\"r\")"
   ]
  },
  {
   "cell_type": "code",
   "execution_count": 4,
   "id": "75ea8c2f",
   "metadata": {},
   "outputs": [],
   "source": [
    "#Writing the data in the file\n",
    "f=open(\"a.txt\",\"w\")\n",
    "f.write(\"Now is the time \")#act like print statement\n",
    "f.write(\"to close the file\")\n",
    "#for closing the file\n",
    "f.close()"
   ]
  },
  {
   "cell_type": "code",
   "execution_count": 7,
   "id": "b96a443f",
   "metadata": {},
   "outputs": [
    {
     "name": "stdout",
     "output_type": "stream",
     "text": [
      "Now is the time to close the file\n"
     ]
    }
   ],
   "source": [
    "#reading the data in the file\n",
    "f=open(\"a.txt\",\"r\")\n",
    "txt=f.read()\n",
    "print(txt)#Now is the time to close the file\n",
    "f.close()"
   ]
  },
  {
   "cell_type": "code",
   "execution_count": 9,
   "id": "357200b0",
   "metadata": {},
   "outputs": [
    {
     "name": "stdout",
     "output_type": "stream",
     "text": [
      "Now i\n",
      "s the time to close the file\n"
     ]
    }
   ],
   "source": [
    "#for print few word\n",
    "f=open(\"a.txt\",\"r\")\n",
    "t1=f.read(5)\n",
    "print(t1)#Now i\n",
    "t2=f.read()\n",
    "print(t2)#s the time to close the file"
   ]
  },
  {
   "cell_type": "code",
   "execution_count": 13,
   "id": "4d0983cd",
   "metadata": {},
   "outputs": [
    {
     "name": "stdout",
     "output_type": "stream",
     "text": [
      "Hello, How are you ?\n",
      "\n",
      "Welcome to the file handling and exceptions\n"
     ]
    }
   ],
   "source": [
    "f=open(\"abc.txt\",\"w\")\n",
    "f.write(\"Hello, How are you ?\")\n",
    "f.write(\"\\nWelcome to the file handling and exceptions\")\n",
    "f.close()\n",
    "f=open(\"abc.txt\",\"r\")\n",
    "t1=f.read(20)\n",
    "print(t1)\n",
    "t2=f.read()\n",
    "print(t2)\n",
    "f.close()"
   ]
  },
  {
   "cell_type": "code",
   "execution_count": 14,
   "id": "f3d670fe",
   "metadata": {},
   "outputs": [],
   "source": [
    "from random import*\n"
   ]
  },
  {
   "cell_type": "code",
   "execution_count": 19,
   "id": "9bd91e85",
   "metadata": {},
   "outputs": [
    {
     "name": "stdout",
     "output_type": "stream",
     "text": [
      "0.7087127605018472 0.1982934464002667 0.8918751750381839 0.8594056287378075 0.9179222100917788 0.7291546541716021 0.960095681489191 0.778027288765216 0.27438201081600355 0.5384709666227702 0.13809471170500676 0.7295155888264491 0.306635732138827 0.4836780572860262 0.08891387130790152 0.021511938058687563 0.8772207591417712 0.3009315757697054 0.725846918643302 0.21329602841729722 \n"
     ]
    }
   ],
   "source": [
    "f=open(\"random.txt\",\"w\")\n",
    "for x in range(20):\n",
    "    i=str(random())\n",
    "    f.write(i)\n",
    "    f.write(\" \")\n",
    "f.close()\n",
    "f=open(\"random.txt\",\"r\")\n",
    "t1=f.read()\n",
    "print(t1)"
   ]
  },
  {
   "cell_type": "code",
   "execution_count": 20,
   "id": "1099b87f",
   "metadata": {},
   "outputs": [],
   "source": [
    "def main():\n",
    "    f=open(\"numbers.txt\",\"w\")\n",
    "    for x in range(1,21):\n",
    "        x=str(x)\n",
    "        f.write(x)\n",
    "        f.write(\" \")\n",
    "    f.close()\n",
    "main()"
   ]
  },
  {
   "cell_type": "code",
   "execution_count": 26,
   "id": "599b15a7",
   "metadata": {},
   "outputs": [],
   "source": [
    "def main():\n",
    "    f=open(\"oldF1.txt\",\"w\")\n",
    "    for x in range(1,21):\n",
    "        x=str(x)\n",
    "        f.write(x)\n",
    "        f.write(\" \")\n",
    "    f.close()\n",
    "main()"
   ]
  },
  {
   "cell_type": "code",
   "execution_count": 28,
   "id": "2d43f50c",
   "metadata": {},
   "outputs": [],
   "source": [
    "def copyFile():\n",
    "    f1=open(\"oldF1.txt\",\"r\")\n",
    "    f2=open(\"newF1.txt\",\"w\")\n",
    "    while True:\n",
    "        txt=f1.read(20)\n",
    "        if txt==\"\":\n",
    "            break\n",
    "        f2.write(txt)\n",
    "    f1.close()\n",
    "    f2.close()\n",
    "    return\n",
    "copyFile()"
   ]
  },
  {
   "cell_type": "code",
   "execution_count": 31,
   "id": "74f59d2a",
   "metadata": {},
   "outputs": [],
   "source": [
    "#Text Files\n",
    "f=open(\"test.txt\",\"w\")\n",
    "f.write(\"line one\\nline two\\nline three\\n\")\n",
    "f.close()"
   ]
  },
  {
   "cell_type": "code",
   "execution_count": 35,
   "id": "936b0faf",
   "metadata": {},
   "outputs": [
    {
     "name": "stdout",
     "output_type": "stream",
     "text": [
      "line one\n",
      "\n",
      "['line two\\n', 'line three\\n']\n"
     ]
    }
   ],
   "source": [
    "#Readline     print 1 line at a time\n",
    "f=open(\"test.txt\",\"r\")\n",
    "print(f.readline())#line one\n",
    "print(f.readlines())#['line two\\n', 'line three\\n']\n",
    "f.close()"
   ]
  },
  {
   "cell_type": "code",
   "execution_count": 38,
   "id": "595d2923",
   "metadata": {},
   "outputs": [
    {
     "data": {
      "text/plain": [
       "'52'"
      ]
     },
     "execution_count": 38,
     "metadata": {},
     "output_type": "execute_result"
    }
   ],
   "source": [
    "#Writing Variables\n",
    "x=52\n",
    "\"%d\"%x"
   ]
  },
  {
   "cell_type": "code",
   "execution_count": 39,
   "id": "cf14b09f",
   "metadata": {},
   "outputs": [
    {
     "data": {
      "text/plain": [
       "'In 34 days we make 6.100000 million is dollars'"
      ]
     },
     "execution_count": 39,
     "metadata": {},
     "output_type": "execute_result"
    }
   ],
   "source": [
    "#%s is for string %f is for float\n",
    "\"In %d days we make %f million is %s\"%(34,6.1,'dollars')"
   ]
  },
  {
   "cell_type": "code",
   "execution_count": 40,
   "id": "0eda4d53",
   "metadata": {},
   "outputs": [
    {
     "data": {
      "text/plain": [
       "'    62'"
      ]
     },
     "execution_count": 40,
     "metadata": {},
     "output_type": "execute_result"
    }
   ],
   "source": [
    "\"%6d\"%62"
   ]
  },
  {
   "cell_type": "code",
   "execution_count": 41,
   "id": "862ecc2d",
   "metadata": {},
   "outputs": [
    {
     "data": {
      "text/plain": [
       "'    6.100000'"
      ]
     },
     "execution_count": 41,
     "metadata": {},
     "output_type": "execute_result"
    }
   ],
   "source": [
    "\"%12f\"%6.1"
   ]
  },
  {
   "cell_type": "code",
   "execution_count": 51,
   "id": "b3d62690",
   "metadata": {},
   "outputs": [
    {
     "name": "stdout",
     "output_type": "stream",
     "text": [
      "['Shivam\\n', 'Himanshu\\n', 'Sushil']\n"
     ]
    }
   ],
   "source": [
    "#Directories\n",
    "f=open(\"C:/Users/intel/Desktop/abc.txt\",\"r\")\n",
    "print(f.readlines())"
   ]
  },
  {
   "cell_type": "code",
   "execution_count": 52,
   "id": "3982224a",
   "metadata": {},
   "outputs": [
    {
     "name": "stdout",
     "output_type": "stream",
     "text": [
      "12.3[1, 2, 3]\n"
     ]
    }
   ],
   "source": [
    "#Pickling\n",
    "f=open(\"abc100.txt\",\"w\")\n",
    "f.write(str(12.3))\n",
    "f.write(str([1,2,3]))\n",
    "f.close()\n",
    "f=open(\"abc100.txt\",\"r\")\n",
    "t1=f.readline()\n",
    "print(t1)\n",
    "#we cant tell where the 1value end and 2nd value start it is solve by pickling"
   ]
  },
  {
   "cell_type": "code",
   "execution_count": 54,
   "id": "be29703d",
   "metadata": {},
   "outputs": [
    {
     "name": "stdout",
     "output_type": "stream",
     "text": [
      "12.3\n",
      "[1, 2, 3]\n"
     ]
    }
   ],
   "source": [
    "import pickle\n",
    "f=open(\"abc200.txt\",\"wb\")\n",
    "pickle.dump(12.3,f)\n",
    "pickle.dump([1,2,3],f)\n",
    "f.close()\n",
    "f=open(\"abc200.txt\",\"rb\")\n",
    "x=pickle.load(f)\n",
    "print(x)\n",
    "y=pickle.load(f)\n",
    "print(y)"
   ]
  },
  {
   "cell_type": "code",
   "execution_count": 55,
   "id": "088e9962",
   "metadata": {},
   "outputs": [
    {
     "ename": "ZeroDivisionError",
     "evalue": "division by zero",
     "output_type": "error",
     "traceback": [
      "\u001b[1;31m---------------------------------------------------------------------------\u001b[0m",
      "\u001b[1;31mZeroDivisionError\u001b[0m                         Traceback (most recent call last)",
      "\u001b[1;32m<ipython-input-55-ec48f660def7>\u001b[0m in \u001b[0;36m<module>\u001b[1;34m\u001b[0m\n\u001b[0;32m      1\u001b[0m \u001b[1;31m#Exceptions\u001b[0m\u001b[1;33m\u001b[0m\u001b[1;33m\u001b[0m\u001b[1;33m\u001b[0m\u001b[0m\n\u001b[1;32m----> 2\u001b[1;33m \u001b[0mprint\u001b[0m\u001b[1;33m(\u001b[0m\u001b[1;36m55\u001b[0m\u001b[1;33m/\u001b[0m\u001b[1;36m0\u001b[0m\u001b[1;33m)\u001b[0m\u001b[1;31m#\u001b[0m\u001b[1;33m\u001b[0m\u001b[1;33m\u001b[0m\u001b[0m\n\u001b[0m",
      "\u001b[1;31mZeroDivisionError\u001b[0m: division by zero"
     ]
    }
   ],
   "source": [
    "#Exceptions\n",
    "print(55/0)\n",
    "#ZeroDivisionError                         Traceback (most recent call last)\n",
    "<ipython-input-55-ec48f660def7> in <module>\n",
    "      1 #Exceptions\n",
    "----> 2 print(55/0)#\n",
    "\n",
    "ZeroDivisionError: division by zero"
   ]
  },
  {
   "cell_type": "code",
   "execution_count": 56,
   "id": "89182807",
   "metadata": {},
   "outputs": [
    {
     "ename": "IndexError",
     "evalue": "list index out of range",
     "output_type": "error",
     "traceback": [
      "\u001b[1;31m---------------------------------------------------------------------------\u001b[0m",
      "\u001b[1;31mIndexError\u001b[0m                                Traceback (most recent call last)",
      "\u001b[1;32m<ipython-input-56-5f218d49c6e6>\u001b[0m in \u001b[0;36m<module>\u001b[1;34m\u001b[0m\n\u001b[0;32m      1\u001b[0m \u001b[0ma\u001b[0m\u001b[1;33m=\u001b[0m\u001b[1;33m[\u001b[0m\u001b[1;33m]\u001b[0m\u001b[1;33m\u001b[0m\u001b[1;33m\u001b[0m\u001b[0m\n\u001b[1;32m----> 2\u001b[1;33m \u001b[0mprint\u001b[0m\u001b[1;33m(\u001b[0m\u001b[0ma\u001b[0m\u001b[1;33m[\u001b[0m\u001b[1;36m5\u001b[0m\u001b[1;33m]\u001b[0m\u001b[1;33m)\u001b[0m\u001b[1;33m\u001b[0m\u001b[1;33m\u001b[0m\u001b[0m\n\u001b[0m\u001b[0;32m      3\u001b[0m \u001b[1;31m#\u001b[0m\u001b[1;33m\u001b[0m\u001b[1;33m\u001b[0m\u001b[1;33m\u001b[0m\u001b[0m\n",
      "\u001b[1;31mIndexError\u001b[0m: list index out of range"
     ]
    }
   ],
   "source": [
    "a=[]\n",
    "print(a[5])\n",
    "#---------------------------------------------------------------------------\n",
    "IndexError                                Traceback (most recent call last)\n",
    "<ipython-input-56-5f218d49c6e6> in <module>\n",
    "      1 a=[]\n",
    "----> 2 print(a[5])\n",
    "      3 #\n",
    "\n",
    "IndexError: list index out of range"
   ]
  },
  {
   "cell_type": "code",
   "execution_count": 57,
   "id": "5f6e1983",
   "metadata": {},
   "outputs": [
    {
     "ename": "KeyError",
     "evalue": "'what'",
     "output_type": "error",
     "traceback": [
      "\u001b[1;31m---------------------------------------------------------------------------\u001b[0m",
      "\u001b[1;31mKeyError\u001b[0m                                  Traceback (most recent call last)",
      "\u001b[1;32m<ipython-input-57-5a3d15e629c7>\u001b[0m in \u001b[0;36m<module>\u001b[1;34m\u001b[0m\n\u001b[0;32m      1\u001b[0m \u001b[0mb\u001b[0m\u001b[1;33m=\u001b[0m\u001b[1;33m{\u001b[0m\u001b[1;33m}\u001b[0m\u001b[1;33m\u001b[0m\u001b[1;33m\u001b[0m\u001b[0m\n\u001b[1;32m----> 2\u001b[1;33m \u001b[0mprint\u001b[0m\u001b[1;33m(\u001b[0m\u001b[0mb\u001b[0m\u001b[1;33m[\u001b[0m\u001b[1;34m'what'\u001b[0m\u001b[1;33m]\u001b[0m\u001b[1;33m)\u001b[0m\u001b[1;33m\u001b[0m\u001b[1;33m\u001b[0m\u001b[0m\n\u001b[0m\u001b[0;32m      3\u001b[0m \u001b[1;31m#\u001b[0m\u001b[1;33m\u001b[0m\u001b[1;33m\u001b[0m\u001b[1;33m\u001b[0m\u001b[0m\n",
      "\u001b[1;31mKeyError\u001b[0m: 'what'"
     ]
    }
   ],
   "source": [
    "b={}\n",
    "print(b['what'])\n",
    "#---------------------------------------------------------------------------\n",
    "KeyError                                  Traceback (most recent call last)\n",
    "<ipython-input-57-5a3d15e629c7> in <module>\n",
    "      1 b={}\n",
    "----> 2 print(b['what'])\n",
    "      3 #\n",
    "\n",
    "KeyError: 'what'"
   ]
  },
  {
   "cell_type": "code",
   "execution_count": 58,
   "id": "28a094d0",
   "metadata": {},
   "outputs": [
    {
     "ename": "FileNotFoundError",
     "evalue": "[Errno 2] No such file or directory: 'Idontexist'",
     "output_type": "error",
     "traceback": [
      "\u001b[1;31m---------------------------------------------------------------------------\u001b[0m",
      "\u001b[1;31mFileNotFoundError\u001b[0m                         Traceback (most recent call last)",
      "\u001b[1;32m<ipython-input-58-047c3aca4f32>\u001b[0m in \u001b[0;36m<module>\u001b[1;34m\u001b[0m\n\u001b[1;32m----> 1\u001b[1;33m \u001b[0mf\u001b[0m\u001b[1;33m=\u001b[0m\u001b[0mopen\u001b[0m\u001b[1;33m(\u001b[0m\u001b[1;34m\"Idontexist\"\u001b[0m\u001b[1;33m,\u001b[0m\u001b[1;34m\"r\"\u001b[0m\u001b[1;33m)\u001b[0m\u001b[1;33m\u001b[0m\u001b[1;33m\u001b[0m\u001b[0m\n\u001b[0m\u001b[0;32m      2\u001b[0m \u001b[1;31m#\u001b[0m\u001b[1;33m\u001b[0m\u001b[1;33m\u001b[0m\u001b[1;33m\u001b[0m\u001b[0m\n",
      "\u001b[1;31mFileNotFoundError\u001b[0m: [Errno 2] No such file or directory: 'Idontexist'"
     ]
    }
   ],
   "source": [
    "f=open(\"Idontexist\",\"r\")\n",
    "#---------------------------------------------------------------------------\n",
    "FileNotFoundError                         Traceback (most recent call last)\n",
    "<ipython-input-58-047c3aca4f32> in <module>\n",
    "----> 1 f=open(\"Idontexist\",\"r\")\n",
    "      2 #\n",
    "\n",
    "FileNotFoundError: [Errno 2] No such file or directory: 'Idontexist'\n"
   ]
  },
  {
   "cell_type": "code",
   "execution_count": 63,
   "id": "d5195b33",
   "metadata": {},
   "outputs": [
    {
     "name": "stdout",
     "output_type": "stream",
     "text": [
      "Enter a file nameabc.txt\n",
      "['Hello, How are you ?\\n', 'Welcome to the file handling and exceptions']\n"
     ]
    }
   ],
   "source": [
    "#Exception Handling\n",
    "filename=input(\"Enter a file name\")\n",
    "try:\n",
    "    f=open(filename,\"r\")\n",
    "    print(f.readlines())\n",
    "except IOError:\n",
    "    print(\"There is no file name \",filename)"
   ]
  },
  {
   "cell_type": "code",
   "execution_count": 66,
   "id": "faed3ff5",
   "metadata": {},
   "outputs": [
    {
     "ename": "TypeError",
     "evalue": "Only Integers are allowed",
     "output_type": "error",
     "traceback": [
      "\u001b[1;31m---------------------------------------------------------------------------\u001b[0m",
      "\u001b[1;31mTypeError\u001b[0m                                 Traceback (most recent call last)",
      "\u001b[1;32m<ipython-input-66-c879f0945650>\u001b[0m in \u001b[0;36m<module>\u001b[1;34m\u001b[0m\n\u001b[0;32m      2\u001b[0m \u001b[0mx\u001b[0m\u001b[1;33m=\u001b[0m\u001b[1;34m\"hello\"\u001b[0m\u001b[1;33m\u001b[0m\u001b[1;33m\u001b[0m\u001b[0m\n\u001b[0;32m      3\u001b[0m \u001b[1;32mif\u001b[0m \u001b[1;32mnot\u001b[0m \u001b[0mtype\u001b[0m\u001b[1;33m(\u001b[0m\u001b[0mx\u001b[0m\u001b[1;33m)\u001b[0m \u001b[1;32mis\u001b[0m \u001b[0mint\u001b[0m\u001b[1;33m:\u001b[0m\u001b[1;33m\u001b[0m\u001b[1;33m\u001b[0m\u001b[0m\n\u001b[1;32m----> 4\u001b[1;33m     \u001b[1;32mraise\u001b[0m \u001b[0mTypeError\u001b[0m\u001b[1;33m(\u001b[0m\u001b[1;34m\"Only Integers are allowed\"\u001b[0m\u001b[1;33m)\u001b[0m\u001b[1;33m\u001b[0m\u001b[1;33m\u001b[0m\u001b[0m\n\u001b[0m",
      "\u001b[1;31mTypeError\u001b[0m: Only Integers are allowed"
     ]
    }
   ],
   "source": [
    "#Raise\n",
    "x=\"hello\"\n",
    "if not type(x) is int:\n",
    "    raise TypeError(\"Only Integers are allowed\")"
   ]
  },
  {
   "cell_type": "code",
   "execution_count": 70,
   "id": "def707ab",
   "metadata": {},
   "outputs": [
    {
     "name": "stdout",
     "output_type": "stream",
     "text": [
      "Enter a number17\n"
     ]
    },
    {
     "ename": "ValueError",
     "evalue": "17 is a bad number",
     "output_type": "error",
     "traceback": [
      "\u001b[1;31m---------------------------------------------------------------------------\u001b[0m",
      "\u001b[1;31mValueError\u001b[0m                                Traceback (most recent call last)",
      "\u001b[1;32m<ipython-input-70-a76cfd3447ca>\u001b[0m in \u001b[0;36m<module>\u001b[1;34m\u001b[0m\n\u001b[0;32m      4\u001b[0m         \u001b[1;32mraise\u001b[0m \u001b[0mValueError\u001b[0m\u001b[1;33m(\u001b[0m\u001b[1;34m\"17 is a bad number\"\u001b[0m\u001b[1;33m)\u001b[0m\u001b[1;33m\u001b[0m\u001b[1;33m\u001b[0m\u001b[0m\n\u001b[0;32m      5\u001b[0m     \u001b[1;32mreturn\u001b[0m \u001b[0mx\u001b[0m\u001b[1;33m\u001b[0m\u001b[1;33m\u001b[0m\u001b[0m\n\u001b[1;32m----> 6\u001b[1;33m \u001b[0minputNumber\u001b[0m\u001b[1;33m(\u001b[0m\u001b[1;33m)\u001b[0m\u001b[1;33m\u001b[0m\u001b[1;33m\u001b[0m\u001b[0m\n\u001b[0m",
      "\u001b[1;32m<ipython-input-70-a76cfd3447ca>\u001b[0m in \u001b[0;36minputNumber\u001b[1;34m()\u001b[0m\n\u001b[0;32m      2\u001b[0m     \u001b[0mx\u001b[0m\u001b[1;33m=\u001b[0m\u001b[0mint\u001b[0m\u001b[1;33m(\u001b[0m\u001b[0minput\u001b[0m\u001b[1;33m(\u001b[0m\u001b[1;34m\"Enter a number\"\u001b[0m\u001b[1;33m)\u001b[0m\u001b[1;33m)\u001b[0m\u001b[1;33m\u001b[0m\u001b[1;33m\u001b[0m\u001b[0m\n\u001b[0;32m      3\u001b[0m     \u001b[1;32mif\u001b[0m \u001b[0mx\u001b[0m\u001b[1;33m==\u001b[0m\u001b[1;36m17\u001b[0m\u001b[1;33m:\u001b[0m\u001b[1;33m\u001b[0m\u001b[1;33m\u001b[0m\u001b[0m\n\u001b[1;32m----> 4\u001b[1;33m         \u001b[1;32mraise\u001b[0m \u001b[0mValueError\u001b[0m\u001b[1;33m(\u001b[0m\u001b[1;34m\"17 is a bad number\"\u001b[0m\u001b[1;33m)\u001b[0m\u001b[1;33m\u001b[0m\u001b[1;33m\u001b[0m\u001b[0m\n\u001b[0m\u001b[0;32m      5\u001b[0m     \u001b[1;32mreturn\u001b[0m \u001b[0mx\u001b[0m\u001b[1;33m\u001b[0m\u001b[1;33m\u001b[0m\u001b[0m\n\u001b[0;32m      6\u001b[0m \u001b[0minputNumber\u001b[0m\u001b[1;33m(\u001b[0m\u001b[1;33m)\u001b[0m\u001b[1;33m\u001b[0m\u001b[1;33m\u001b[0m\u001b[0m\n",
      "\u001b[1;31mValueError\u001b[0m: 17 is a bad number"
     ]
    }
   ],
   "source": [
    "def inputNumber():\n",
    "    x=int(input(\"Enter a number\"))\n",
    "    if x==17:\n",
    "        raise ValueError(\"17 is a bad number\")\n",
    "    return x\n",
    "inputNumber()"
   ]
  },
  {
   "cell_type": "code",
   "execution_count": null,
   "id": "0a7f161b",
   "metadata": {},
   "outputs": [],
   "source": []
  }
 ],
 "metadata": {
  "kernelspec": {
   "display_name": "Python 3",
   "language": "python",
   "name": "python3"
  },
  "language_info": {
   "codemirror_mode": {
    "name": "ipython",
    "version": 3
   },
   "file_extension": ".py",
   "mimetype": "text/x-python",
   "name": "python",
   "nbconvert_exporter": "python",
   "pygments_lexer": "ipython3",
   "version": "3.8.8"
  }
 },
 "nbformat": 4,
 "nbformat_minor": 5
}
