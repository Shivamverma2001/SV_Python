{
 "cells": [
  {
   "cell_type": "code",
   "execution_count": 1,
   "id": "2e931cdc",
   "metadata": {},
   "outputs": [
    {
     "data": {
      "text/plain": [
       "4"
      ]
     },
     "execution_count": 1,
     "metadata": {},
     "output_type": "execute_result"
    }
   ],
   "source": [
    "a=4\n",
    "a"
   ]
  },
  {
   "cell_type": "code",
   "execution_count": 3,
   "id": "27d3932c",
   "metadata": {},
   "outputs": [
    {
     "data": {
      "text/plain": [
       "5"
      ]
     },
     "execution_count": 3,
     "metadata": {},
     "output_type": "execute_result"
    }
   ],
   "source": [
    "a=4\n",
    "b=5\n",
    "a,b=b,a\n",
    "a"
   ]
  },
  {
   "cell_type": "code",
   "execution_count": 4,
   "id": "ecb61a01",
   "metadata": {},
   "outputs": [
    {
     "data": {
      "text/plain": [
       "1.25"
      ]
     },
     "execution_count": 4,
     "metadata": {},
     "output_type": "execute_result"
    }
   ],
   "source": [
    "5/4"
   ]
  },
  {
   "cell_type": "code",
   "execution_count": 5,
   "id": "4560bb2f",
   "metadata": {},
   "outputs": [
    {
     "data": {
      "text/plain": [
       "1"
      ]
     },
     "execution_count": 5,
     "metadata": {},
     "output_type": "execute_result"
    }
   ],
   "source": [
    "5//4"
   ]
  },
  {
   "cell_type": "code",
   "execution_count": 8,
   "id": "bd49bc36",
   "metadata": {},
   "outputs": [
    {
     "data": {
      "text/plain": [
       "'fun fun fun '"
      ]
     },
     "execution_count": 8,
     "metadata": {},
     "output_type": "execute_result"
    }
   ],
   "source": [
    "a=\"fun\"+\" \"\n",
    "a*3"
   ]
  },
  {
   "cell_type": "code",
   "execution_count": 19,
   "id": "09c33d49",
   "metadata": {},
   "outputs": [],
   "source": [
    "import numpy\n",
    "import keyword\n",
    "import math\n",
    "from math import pi"
   ]
  },
  {
   "cell_type": "code",
   "execution_count": 20,
   "id": "b1b38849",
   "metadata": {},
   "outputs": [
    {
     "name": "stdout",
     "output_type": "stream",
     "text": [
      "Enter the radius of a circle in inches8\n",
      "50.26548245743669\n"
     ]
    }
   ],
   "source": [
    "'''The circumference of a circle is 2pier where r is the radius of the circle. Write a Python statement that calculates and\n",
    "prints the circumference in inches of a circle whose radius is 8 inches. Assume that the constant pie=3.14'''\n",
    "r=int(input(\"Enter the radius of a circle in inches\"))\n",
    "cir=2*pi*r\n",
    "print(cir)"
   ]
  },
  {
   "cell_type": "code",
   "execution_count": 24,
   "id": "6de808d2",
   "metadata": {},
   "outputs": [
    {
     "name": "stdout",
     "output_type": "stream",
     "text": [
      "Enter the nameshivam\n",
      "Enter your age20\n",
      "shivam is 20\n"
     ]
    }
   ],
   "source": [
    "a=input(\"Enter the name\")\n",
    "b=input(\"Enter your age\")\n",
    "print(a+\" is \"+b)"
   ]
  },
  {
   "cell_type": "code",
   "execution_count": 26,
   "id": "09cce9a6",
   "metadata": {},
   "outputs": [
    {
     "name": "stdout",
     "output_type": "stream",
     "text": [
      "Enter x0 cordinate2\n",
      "Enter y0 cordinate2\n",
      "Enter x1 cordinate5\n",
      "Enter y1 cordinate6\n",
      "5.0\n"
     ]
    }
   ],
   "source": [
    "x0=int(input(\"Enter x0 cordinate\"))\n",
    "y0=int(input(\"Enter y0 cordinate\"))\n",
    "x1=int(input(\"Enter x1 cordinate\"))\n",
    "y1=int(input(\"Enter y1 cordinate\"))\n",
    "dis=((x1-x0)**2+(y1-y0)**2)**0.5\n",
    "print(dis)"
   ]
  },
  {
   "cell_type": "code",
   "execution_count": 29,
   "id": "a220bf80",
   "metadata": {},
   "outputs": [
    {
     "name": "stdout",
     "output_type": "stream",
     "text": [
      "Enter the time3663\n",
      "1 1 3\n"
     ]
    }
   ],
   "source": [
    "t=int(input(\"Enter the time\"))\n",
    "min=t//60\n",
    "sec=t%60\n",
    "h=min//60\n",
    "min=min%60\n",
    "print(h,min,sec)\n"
   ]
  },
  {
   "cell_type": "code",
   "execution_count": 31,
   "id": "0925078a",
   "metadata": {},
   "outputs": [
    {
     "name": "stdout",
     "output_type": "stream",
     "text": [
      "Enter the age19\n",
      "You are young\n"
     ]
    }
   ],
   "source": [
    "age=int(input(\"Enter the age\"))\n",
    "if(age<18):\n",
    "    print(\"You are a child\")\n",
    "elif(age>=18 & age<=50):\n",
    "    print(\"You are young\")\n",
    "else:\n",
    "    print(\"You are old\")"
   ]
  },
  {
   "cell_type": "code",
   "execution_count": 32,
   "id": "d1d29f02",
   "metadata": {},
   "outputs": [
    {
     "name": "stdout",
     "output_type": "stream",
     "text": [
      "20\n",
      "23\n",
      "26\n",
      "29\n",
      "32\n",
      "35\n",
      "38\n",
      "41\n",
      "44\n",
      "47\n"
     ]
    }
   ],
   "source": [
    "for x in range(20,50,3):\n",
    "    print(x)"
   ]
  },
  {
   "cell_type": "code",
   "execution_count": 36,
   "id": "e568443c",
   "metadata": {},
   "outputs": [
    {
     "name": "stdout",
     "output_type": "stream",
     "text": [
      "Enter the number where you want to stop the counting of a natural number20\n",
      "0\n",
      "1\n",
      "3\n",
      "6\n",
      "10\n",
      "15\n",
      "21\n",
      "28\n",
      "36\n",
      "45\n",
      "55\n",
      "66\n",
      "78\n",
      "91\n",
      "105\n",
      "120\n",
      "136\n",
      "153\n",
      "171\n",
      "190\n"
     ]
    }
   ],
   "source": [
    "i=0\n",
    "sum=0\n",
    "stop=int(input(\"Enter the number where you want to stop the counting of a natural number\"))\n",
    "while i<stop:\n",
    "    sum=sum+i\n",
    "    print(sum)\n",
    "    i+=1"
   ]
  },
  {
   "cell_type": "code",
   "execution_count": 37,
   "id": "5153a655",
   "metadata": {},
   "outputs": [
    {
     "name": "stdout",
     "output_type": "stream",
     "text": [
      "First Line\n",
      "\n",
      "\n",
      "Second line\n"
     ]
    }
   ],
   "source": [
    "def newline():\n",
    "    print(\"\\n\")\n",
    "print(\"First Line\")\n",
    "newline()\n",
    "print(\"Second line\")"
   ]
  },
  {
   "cell_type": "code",
   "execution_count": 38,
   "id": "eb88608b",
   "metadata": {},
   "outputs": [
    {
     "name": "stdout",
     "output_type": "stream",
     "text": [
      "22\n"
     ]
    }
   ],
   "source": [
    "def mammals(cats,dogs):\n",
    "    animals=cats+dogs\n",
    "    return animals\n",
    "mice=10\n",
    "rabbits=12\n",
    "totalAnimal=mammals(mice,rabbits)\n",
    "print(totalAnimal)"
   ]
  },
  {
   "cell_type": "code",
   "execution_count": 42,
   "id": "13e112b5",
   "metadata": {},
   "outputs": [
    {
     "name": "stdout",
     "output_type": "stream",
     "text": [
      "Spam Spam \n"
     ]
    }
   ],
   "source": [
    "def printTwice(twice):\n",
    "    print((twice+\" \")*2)\n",
    "printTwice('Spam')"
   ]
  },
  {
   "cell_type": "code",
   "execution_count": 44,
   "id": "29fa50ba",
   "metadata": {},
   "outputs": [
    {
     "name": "stdout",
     "output_type": "stream",
     "text": [
      "Python Class\n"
     ]
    }
   ],
   "source": [
    "def catTwice(part1,part2):\n",
    "    cat=part1+\" \"+ part2\n",
    "    print(cat)\n",
    "a=\"Python\"\n",
    "b=\"Class\"\n",
    "catTwice(a,b)"
   ]
  },
  {
   "cell_type": "code",
   "execution_count": 45,
   "id": "1e85f32f",
   "metadata": {},
   "outputs": [
    {
     "name": "stdout",
     "output_type": "stream",
     "text": [
      "17\n"
     ]
    }
   ],
   "source": [
    "def sum(a,b):\n",
    "    return(a+b)\n",
    "c=sum(8,9)\n",
    "print(c)"
   ]
  },
  {
   "cell_type": "code",
   "execution_count": 47,
   "id": "ced3952c",
   "metadata": {},
   "outputs": [
    {
     "name": "stdout",
     "output_type": "stream",
     "text": [
      "4\n",
      "3\n",
      "2\n",
      "1\n",
      "Blastoff\n"
     ]
    }
   ],
   "source": [
    "def countdown(a):\n",
    "    if a==0:\n",
    "        print(\"Blastoff\")\n",
    "    else:\n",
    "        print(a)\n",
    "        countdown(a-1)\n",
    "countdown(4)"
   ]
  },
  {
   "cell_type": "code",
   "execution_count": 48,
   "id": "b7447077",
   "metadata": {},
   "outputs": [
    {
     "name": "stdout",
     "output_type": "stream",
     "text": [
      "120\n"
     ]
    }
   ],
   "source": [
    "def factorial(num):\n",
    "    if(num==0|num==1):\n",
    "        return 1\n",
    "    else:\n",
    "        fact=num*factorial(num-1)\n",
    "        return fact\n",
    "a=factorial(5)\n",
    "print(a)"
   ]
  },
  {
   "cell_type": "code",
   "execution_count": 49,
   "id": "bc1d5d1f",
   "metadata": {},
   "outputs": [
    {
     "name": "stdout",
     "output_type": "stream",
     "text": [
      "What is your name?Shivam Vermas\n"
     ]
    },
    {
     "data": {
      "text/plain": [
       "'Shivam Vermas'"
      ]
     },
     "execution_count": 49,
     "metadata": {},
     "output_type": "execute_result"
    }
   ],
   "source": [
    "input(\"What is your name?\")"
   ]
  },
  {
   "cell_type": "code",
   "execution_count": 50,
   "id": "5b2ae7d6",
   "metadata": {},
   "outputs": [
    {
     "name": "stdout",
     "output_type": "stream",
     "text": [
      "hello world\n"
     ]
    }
   ],
   "source": [
    "print(\"hello world\")"
   ]
  },
  {
   "cell_type": "code",
   "execution_count": 51,
   "id": "11eeaa49",
   "metadata": {},
   "outputs": [
    {
     "data": {
      "text/plain": [
       "98"
      ]
     },
     "execution_count": 51,
     "metadata": {},
     "output_type": "execute_result"
    }
   ],
   "source": [
    "x=int(98.6)\n",
    "x"
   ]
  },
  {
   "cell_type": "code",
   "execution_count": 53,
   "id": "f5a7fa6b",
   "metadata": {},
   "outputs": [
    {
     "data": {
      "text/plain": [
       "5.0"
      ]
     },
     "execution_count": 53,
     "metadata": {},
     "output_type": "execute_result"
    }
   ],
   "source": [
    "x=1+2*3-8/4\n",
    "x"
   ]
  },
  {
   "cell_type": "code",
   "execution_count": 54,
   "id": "47d67be0",
   "metadata": {},
   "outputs": [
    {
     "data": {
      "text/plain": [
       "2"
      ]
     },
     "execution_count": 54,
     "metadata": {},
     "output_type": "execute_result"
    }
   ],
   "source": [
    "42%10"
   ]
  },
  {
   "cell_type": "code",
   "execution_count": null,
   "id": "358d8e54",
   "metadata": {},
   "outputs": [],
   "source": []
  }
 ],
 "metadata": {
  "kernelspec": {
   "display_name": "Python 3",
   "language": "python",
   "name": "python3"
  },
  "language_info": {
   "codemirror_mode": {
    "name": "ipython",
    "version": 3
   },
   "file_extension": ".py",
   "mimetype": "text/x-python",
   "name": "python",
   "nbconvert_exporter": "python",
   "pygments_lexer": "ipython3",
   "version": "3.8.8"
  }
 },
 "nbformat": 4,
 "nbformat_minor": 5
}
