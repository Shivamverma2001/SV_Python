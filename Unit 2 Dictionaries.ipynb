{
 "cells": [
  {
   "cell_type": "code",
   "execution_count": 4,
   "id": "1a9bc953",
   "metadata": {},
   "outputs": [
    {
     "data": {
      "text/plain": [
       "{'Shivam': 7895020951, 'Sushil': '9897017702'}"
      ]
     },
     "execution_count": 4,
     "metadata": {},
     "output_type": "execute_result"
    }
   ],
   "source": [
    "P={\"Shivam\":7895020951,\"Sushil\":\"9897017702\"}#creating dictionary with 2 element\n",
    "P#{'Shivam': 7895020951, 'Sushil': '9897017702'}\n",
    "#Shivam is Key, 7895020951 is value\n",
    "#{key:value,key:value}"
   ]
  },
  {
   "cell_type": "code",
   "execution_count": 3,
   "id": "3daa9e40",
   "metadata": {},
   "outputs": [
    {
     "data": {
      "text/plain": [
       "{}"
      ]
     },
     "execution_count": 3,
     "metadata": {},
     "output_type": "execute_result"
    }
   ],
   "source": [
    "d1={}#Empty dictionary\n",
    "type(d1)#dict\n",
    "d1{}"
   ]
  },
  {
   "cell_type": "code",
   "execution_count": 5,
   "id": "3a5156e5",
   "metadata": {},
   "outputs": [],
   "source": [
    "#Adding Element in Dictionary\n",
    "P[\"Sangeeta\"]=9997770587"
   ]
  },
  {
   "cell_type": "code",
   "execution_count": 6,
   "id": "44b24e81",
   "metadata": {},
   "outputs": [
    {
     "data": {
      "text/plain": [
       "{'Shivam': 7895020951, 'Sushil': '9897017702', 'Sangeeta': 9997770587}"
      ]
     },
     "execution_count": 6,
     "metadata": {},
     "output_type": "execute_result"
    }
   ],
   "source": [
    "P#{'Shivam': 7895020951, 'Sushil': '9897017702', 'Sangeeta': 9997770587}"
   ]
  },
  {
   "cell_type": "code",
   "execution_count": 7,
   "id": "ab55e9f7",
   "metadata": {},
   "outputs": [],
   "source": [
    "#Dictionary is Mutable\n",
    "#Change Element\n",
    "P[\"Shivam\"]=7895020950"
   ]
  },
  {
   "cell_type": "code",
   "execution_count": 8,
   "id": "35918499",
   "metadata": {},
   "outputs": [
    {
     "data": {
      "text/plain": [
       "{'Shivam': 7895020950, 'Sushil': '9897017702', 'Sangeeta': 9997770587}"
      ]
     },
     "execution_count": 8,
     "metadata": {},
     "output_type": "execute_result"
    }
   ],
   "source": [
    "P#{'Shivam': 7895020950, 'Sushil': '9897017702', 'Sangeeta': 9997770587}"
   ]
  },
  {
   "cell_type": "code",
   "execution_count": 9,
   "id": "715919f4",
   "metadata": {},
   "outputs": [
    {
     "ename": "KeyError",
     "evalue": "'s'",
     "output_type": "error",
     "traceback": [
      "\u001b[1;31m---------------------------------------------------------------------------\u001b[0m",
      "\u001b[1;31mKeyError\u001b[0m                                  Traceback (most recent call last)",
      "\u001b[1;32m<ipython-input-9-7513be9223e9>\u001b[0m in \u001b[0;36m<module>\u001b[1;34m\u001b[0m\n\u001b[1;32m----> 1\u001b[1;33m \u001b[0mP\u001b[0m\u001b[1;33m[\u001b[0m\u001b[1;34m\"s\"\u001b[0m\u001b[1;33m]\u001b[0m\u001b[1;31m#KeyError\u001b[0m\u001b[1;33m\u001b[0m\u001b[1;33m\u001b[0m\u001b[0m\n\u001b[0m",
      "\u001b[1;31mKeyError\u001b[0m: 's'"
     ]
    }
   ],
   "source": [
    "P[\"s\"]#KeyError"
   ]
  },
  {
   "cell_type": "code",
   "execution_count": 10,
   "id": "a69e2d00",
   "metadata": {},
   "outputs": [
    {
     "data": {
      "text/plain": [
       "7895020950"
      ]
     },
     "execution_count": 10,
     "metadata": {},
     "output_type": "execute_result"
    }
   ],
   "source": [
    "P[\"Shivam\"]#7895020950"
   ]
  },
  {
   "cell_type": "code",
   "execution_count": 11,
   "id": "5440092a",
   "metadata": {},
   "outputs": [
    {
     "data": {
      "text/plain": [
       "{'Anmol': 9897017709}"
      ]
     },
     "execution_count": 11,
     "metadata": {},
     "output_type": "execute_result"
    }
   ],
   "source": [
    "#Dictionary Operation\n",
    "#Deleting Item\n",
    "P={\"Amrit\":9897017702,\"Anmol\":9897017709}\n",
    "del P[\"Amrit\"]\n",
    "P#{'Anmol': 9897017709}"
   ]
  },
  {
   "cell_type": "code",
   "execution_count": 12,
   "id": "72041f03",
   "metadata": {},
   "outputs": [
    {
     "data": {
      "text/plain": [
       "2"
      ]
     },
     "execution_count": 12,
     "metadata": {},
     "output_type": "execute_result"
    }
   ],
   "source": [
    "#Length of Dictionary\n",
    "P={\"Amrit\":9897017702,\"Anmol\":9897017709}\n",
    "len(P)#2"
   ]
  },
  {
   "cell_type": "code",
   "execution_count": 16,
   "id": "9e2476cb",
   "metadata": {},
   "outputs": [
    {
     "name": "stdout",
     "output_type": "stream",
     "text": [
      "{'I': 'India', 'A': 'America'}\n"
     ]
    },
    {
     "data": {
      "text/plain": [
       "True"
      ]
     },
     "execution_count": 16,
     "metadata": {},
     "output_type": "execute_result"
    }
   ],
   "source": [
    "#Comparing Dictionaries\n",
    "A={\"I\":\"India\",\"A\":\"America\"}\n",
    "print(A)\n",
    "B={\"I\":\"Italy\",\"A\":\"Amreica\"}\n",
    "A==B#False\n",
    "A!=B#True"
   ]
  },
  {
   "cell_type": "code",
   "execution_count": 18,
   "id": "dcd6b9a2",
   "metadata": {},
   "outputs": [
    {
     "data": {
      "text/plain": [
       "{'one': 'uno', 'two': 'dos'}"
      ]
     },
     "execution_count": 18,
     "metadata": {},
     "output_type": "execute_result"
    }
   ],
   "source": [
    "eng2sp={}\n",
    "eng2sp[\"one\"]=\"uno\"\n",
    "eng2sp[\"two\"]=\"dos\"\n",
    "eng2sp#\n",
    "{'one': 'uno', 'two': 'dos'}"
   ]
  },
  {
   "cell_type": "code",
   "execution_count": 26,
   "id": "58883d85",
   "metadata": {},
   "outputs": [
    {
     "data": {
      "text/plain": [
       "False"
      ]
     },
     "execution_count": 26,
     "metadata": {},
     "output_type": "execute_result"
    }
   ],
   "source": [
    "#Dictionay Method\n",
    "eng2sp.keys()#dict_keys(['one', 'two'])\n",
    "eng2sp.values()#dict_values(['uno', 'dos'])\n",
    "eng2sp.items()#dict_items([('one', 'uno'), ('two', 'dos')])   # it return list of tuples\n",
    "#eng2sp.has_key('one')      #AttributeError\n",
    "'one'in eng2sp#True\n",
    "'one' not in eng2sp#False\n",
    "'uno' in eng2sp#False bcz uno is not a key it is a value"
   ]
  },
  {
   "cell_type": "code",
   "execution_count": 30,
   "id": "743ad6bc",
   "metadata": {},
   "outputs": [
    {
     "data": {
      "text/plain": [
       "{'up': 'down', 'right': 'left', 'true': 'flase'}"
      ]
     },
     "execution_count": 30,
     "metadata": {},
     "output_type": "execute_result"
    }
   ],
   "source": [
    "#Aliasing and Copying\n",
    "opposites={\"up\":\"down\",\"right\":\"worng\",\"true\":\"flase\"}\n",
    "alias=opposites#Aliasing\n",
    "copy=opposites.copy()#Copying\n",
    "alias[\"right\"]=\"left\"\n",
    "alias#{'up': 'down', 'right': 'left', 'true': 'flase'}\n",
    "opposites#{'up': 'down', 'right': 'left', 'true': 'flase'}\n",
    "copy[\"right\"]=\"privelages\"\n",
    "copy#{'up': 'down', 'right': 'privelages', 'true': 'flase'}\n",
    "opposites#{'up': 'down', 'right': 'left', 'true': 'flase'}"
   ]
  },
  {
   "cell_type": "code",
   "execution_count": 31,
   "id": "ed56f0b2",
   "metadata": {},
   "outputs": [
    {
     "data": {
      "text/plain": [
       "{(0, 3): 1, (2, 1): 2, (4, 3): 3}"
      ]
     },
     "execution_count": 31,
     "metadata": {},
     "output_type": "execute_result"
    }
   ],
   "source": [
    "#Sparse Matrix\n",
    "matrix={(0,3):1,(2,1):2,(4,3):3}\n",
    "matrix#{(0, 3): 1, (2, 1): 2, (4, 3): 3}"
   ]
  },
  {
   "cell_type": "code",
   "execution_count": null,
   "id": "df0d2f61",
   "metadata": {},
   "outputs": [],
   "source": []
  }
 ],
 "metadata": {
  "kernelspec": {
   "display_name": "Python 3",
   "language": "python",
   "name": "python3"
  },
  "language_info": {
   "codemirror_mode": {
    "name": "ipython",
    "version": 3
   },
   "file_extension": ".py",
   "mimetype": "text/x-python",
   "name": "python",
   "nbconvert_exporter": "python",
   "pygments_lexer": "ipython3",
   "version": "3.8.8"
  }
 },
 "nbformat": 4,
 "nbformat_minor": 5
}
