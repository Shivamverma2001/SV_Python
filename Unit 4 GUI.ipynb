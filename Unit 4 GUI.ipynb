{
 "cells": [
  {
   "cell_type": "code",
   "execution_count": 1,
   "id": "62310e56",
   "metadata": {},
   "outputs": [],
   "source": [
    "import tkinter\n",
    "top=tkinter.Tk()\n",
    "\n",
    "\n",
    "top.mainloop()"
   ]
  },
  {
   "cell_type": "code",
   "execution_count": 2,
   "id": "63fcf5c5",
   "metadata": {},
   "outputs": [],
   "source": [
    "from tkinter import*\n",
    "top=Tk()\n",
    "\n",
    "\n",
    "top.mainloop()"
   ]
  },
  {
   "cell_type": "code",
   "execution_count": 3,
   "id": "577549d1",
   "metadata": {},
   "outputs": [],
   "source": [
    "#Tkinter widgets 19 types\n",
    "#Standard Attributes\n",
    "#dimensions colors fonts anchors relief_styles bitmaps  cursors\n",
    "#Geometry Managment\n",
    "#pack() grid()  place() method"
   ]
  },
  {
   "cell_type": "code",
   "execution_count": 11,
   "id": "0fe021ad",
   "metadata": {},
   "outputs": [],
   "source": [
    "#Buttons\n",
    "import tkinter\n",
    "import tkinter.messagebox\n",
    "top=tkinter.Tk()\n",
    "\n",
    "def helloCallBack():\n",
    "    tkinter.messagebox.showinfo(\"Hello Python\",\"Hello World\\n Hello World\")\n",
    "B=tkinter.Button(top,text=\"Hello\",bg=\"red\",fg=\"pink\",command=helloCallBack)\n",
    "B.pack()\n",
    "top.mainloop()"
   ]
  },
  {
   "cell_type": "code",
   "execution_count": 12,
   "id": "ba5a3d1b",
   "metadata": {},
   "outputs": [],
   "source": [
    "#Canvas\n",
    "#For arc\n",
    "import tkinter\n",
    "top=tkinter.Tk()\n",
    "C=tkinter.Canvas(top,bg=\"blue\",height=250,width=300)\n",
    "coord=10,50,240,210\n",
    "arc=C.create_arc(coord,start=0,extent=150,fill=\"red\")\n",
    "C.pack()\n",
    "top.mainloop()"
   ]
  },
  {
   "cell_type": "code",
   "execution_count": 33,
   "id": "2fd9bcf4",
   "metadata": {},
   "outputs": [
    {
     "ename": "TclError",
     "evalue": "image \"pyimage9\" doesn't exist",
     "output_type": "error",
     "traceback": [
      "\u001b[1;31m---------------------------------------------------------------------------\u001b[0m",
      "\u001b[1;31mTclError\u001b[0m                                  Traceback (most recent call last)",
      "\u001b[1;32m<ipython-input-33-43e8ec49f045>\u001b[0m in \u001b[0;36m<module>\u001b[1;34m\u001b[0m\n\u001b[0;32m      4\u001b[0m \u001b[0mC\u001b[0m\u001b[1;33m=\u001b[0m\u001b[0mtkinter\u001b[0m\u001b[1;33m.\u001b[0m\u001b[0mCanvas\u001b[0m\u001b[1;33m(\u001b[0m\u001b[0mtop\u001b[0m\u001b[1;33m,\u001b[0m\u001b[0mbg\u001b[0m\u001b[1;33m=\u001b[0m\u001b[1;34m\"blue\"\u001b[0m\u001b[1;33m,\u001b[0m\u001b[0mheight\u001b[0m\u001b[1;33m=\u001b[0m\u001b[1;36m250\u001b[0m\u001b[1;33m,\u001b[0m\u001b[0mwidth\u001b[0m\u001b[1;33m=\u001b[0m\u001b[1;36m300\u001b[0m\u001b[1;33m)\u001b[0m\u001b[1;33m\u001b[0m\u001b[1;33m\u001b[0m\u001b[0m\n\u001b[0;32m      5\u001b[0m \u001b[0mfilename\u001b[0m\u001b[1;33m=\u001b[0m\u001b[0mPhotoImage\u001b[0m\u001b[1;33m(\u001b[0m\u001b[0mfile\u001b[0m\u001b[1;33m=\u001b[0m\u001b[1;34m\"S.png\"\u001b[0m\u001b[1;33m)\u001b[0m\u001b[1;33m\u001b[0m\u001b[1;33m\u001b[0m\u001b[0m\n\u001b[1;32m----> 6\u001b[1;33m \u001b[0mphoto\u001b[0m\u001b[1;33m=\u001b[0m\u001b[0mC\u001b[0m\u001b[1;33m.\u001b[0m\u001b[0mcreate_image\u001b[0m\u001b[1;33m(\u001b[0m\u001b[1;36m0\u001b[0m\u001b[1;33m,\u001b[0m\u001b[1;36m50\u001b[0m\u001b[1;33m,\u001b[0m\u001b[0manchor\u001b[0m\u001b[1;33m=\u001b[0m\u001b[0mNE\u001b[0m\u001b[1;33m,\u001b[0m\u001b[0mimage\u001b[0m\u001b[1;33m=\u001b[0m\u001b[0mfilename\u001b[0m\u001b[1;33m)\u001b[0m\u001b[1;33m\u001b[0m\u001b[1;33m\u001b[0m\u001b[0m\n\u001b[0m\u001b[0;32m      7\u001b[0m \u001b[0mC\u001b[0m\u001b[1;33m.\u001b[0m\u001b[0mpack\u001b[0m\u001b[1;33m(\u001b[0m\u001b[1;33m)\u001b[0m\u001b[1;33m\u001b[0m\u001b[1;33m\u001b[0m\u001b[0m\n\u001b[0;32m      8\u001b[0m \u001b[0mtop\u001b[0m\u001b[1;33m.\u001b[0m\u001b[0mmainloop\u001b[0m\u001b[1;33m(\u001b[0m\u001b[1;33m)\u001b[0m\u001b[1;33m\u001b[0m\u001b[1;33m\u001b[0m\u001b[0m\n",
      "\u001b[1;32m~\\anaconda3\\lib\\tkinter\\__init__.py\u001b[0m in \u001b[0;36mcreate_image\u001b[1;34m(self, *args, **kw)\u001b[0m\n\u001b[0;32m   2788\u001b[0m     \u001b[1;32mdef\u001b[0m \u001b[0mcreate_image\u001b[0m\u001b[1;33m(\u001b[0m\u001b[0mself\u001b[0m\u001b[1;33m,\u001b[0m \u001b[1;33m*\u001b[0m\u001b[0margs\u001b[0m\u001b[1;33m,\u001b[0m \u001b[1;33m**\u001b[0m\u001b[0mkw\u001b[0m\u001b[1;33m)\u001b[0m\u001b[1;33m:\u001b[0m\u001b[1;33m\u001b[0m\u001b[1;33m\u001b[0m\u001b[0m\n\u001b[0;32m   2789\u001b[0m         \u001b[1;34m\"\"\"Create image item with coordinates x1,y1.\"\"\"\u001b[0m\u001b[1;33m\u001b[0m\u001b[1;33m\u001b[0m\u001b[0m\n\u001b[1;32m-> 2790\u001b[1;33m         \u001b[1;32mreturn\u001b[0m \u001b[0mself\u001b[0m\u001b[1;33m.\u001b[0m\u001b[0m_create\u001b[0m\u001b[1;33m(\u001b[0m\u001b[1;34m'image'\u001b[0m\u001b[1;33m,\u001b[0m \u001b[0margs\u001b[0m\u001b[1;33m,\u001b[0m \u001b[0mkw\u001b[0m\u001b[1;33m)\u001b[0m\u001b[1;33m\u001b[0m\u001b[1;33m\u001b[0m\u001b[0m\n\u001b[0m\u001b[0;32m   2791\u001b[0m \u001b[1;33m\u001b[0m\u001b[0m\n\u001b[0;32m   2792\u001b[0m     \u001b[1;32mdef\u001b[0m \u001b[0mcreate_line\u001b[0m\u001b[1;33m(\u001b[0m\u001b[0mself\u001b[0m\u001b[1;33m,\u001b[0m \u001b[1;33m*\u001b[0m\u001b[0margs\u001b[0m\u001b[1;33m,\u001b[0m \u001b[1;33m**\u001b[0m\u001b[0mkw\u001b[0m\u001b[1;33m)\u001b[0m\u001b[1;33m:\u001b[0m\u001b[1;33m\u001b[0m\u001b[1;33m\u001b[0m\u001b[0m\n",
      "\u001b[1;32m~\\anaconda3\\lib\\tkinter\\__init__.py\u001b[0m in \u001b[0;36m_create\u001b[1;34m(self, itemType, args, kw)\u001b[0m\n\u001b[0;32m   2774\u001b[0m         \u001b[1;32melse\u001b[0m\u001b[1;33m:\u001b[0m\u001b[1;33m\u001b[0m\u001b[1;33m\u001b[0m\u001b[0m\n\u001b[0;32m   2775\u001b[0m             \u001b[0mcnf\u001b[0m \u001b[1;33m=\u001b[0m \u001b[1;33m{\u001b[0m\u001b[1;33m}\u001b[0m\u001b[1;33m\u001b[0m\u001b[1;33m\u001b[0m\u001b[0m\n\u001b[1;32m-> 2776\u001b[1;33m         return self.tk.getint(self.tk.call(\n\u001b[0m\u001b[0;32m   2777\u001b[0m             \u001b[0mself\u001b[0m\u001b[1;33m.\u001b[0m\u001b[0m_w\u001b[0m\u001b[1;33m,\u001b[0m \u001b[1;34m'create'\u001b[0m\u001b[1;33m,\u001b[0m \u001b[0mitemType\u001b[0m\u001b[1;33m,\u001b[0m\u001b[1;33m\u001b[0m\u001b[1;33m\u001b[0m\u001b[0m\n\u001b[0;32m   2778\u001b[0m             *(args + self._options(cnf, kw))))\n",
      "\u001b[1;31mTclError\u001b[0m: image \"pyimage9\" doesn't exist"
     ]
    }
   ],
   "source": [
    "#For Image\n",
    "import tkinter\n",
    "top=tkinter.Tk()\n",
    "C=tkinter.Canvas(top,bg=\"blue\",height=250,width=300)\n",
    "filename=PhotoImage(file=\"S.png\")\n",
    "photo=C.create_image(0,50,anchor=NE,image=filename)\n",
    "C.pack()\n",
    "top.mainloop()"
   ]
  },
  {
   "cell_type": "code",
   "execution_count": 18,
   "id": "71fe1664",
   "metadata": {},
   "outputs": [],
   "source": [
    "#for line\n",
    "import tkinter\n",
    "top=tkinter.Tk()\n",
    "C=tkinter.Canvas(top,bg=\"blue\",height=250,width=300)\n",
    "line=C.create_line(10,20,300,340,width=15,fill=\"red\")\n",
    "C.pack()\n",
    "top.mainloop()"
   ]
  },
  {
   "cell_type": "code",
   "execution_count": 19,
   "id": "b4b8975e",
   "metadata": {},
   "outputs": [],
   "source": [
    "#for oval\n",
    "import tkinter \n",
    "top=tkinter.Tk()\n",
    "C=tkinter.Canvas(top,bg=\"blue\",height=250,width=300)\n",
    "oval=C.create_oval(10,20,250,260,fill=\"red\")\n",
    "C.pack()\n",
    "top.mainloop()"
   ]
  },
  {
   "cell_type": "code",
   "execution_count": 21,
   "id": "f3692bdf",
   "metadata": {},
   "outputs": [],
   "source": [
    "#For polygon\n",
    "import tkinter\n",
    "top=tkinter.Tk()\n",
    "C=tkinter.Canvas(top,bg=\"blue\",height=250,width=300)\n",
    "poly=C.create_polygon(10,20,30,40,200,250,300,350,fill=\"red\")\n",
    "C.pack()\n",
    "top.mainloop()"
   ]
  },
  {
   "cell_type": "code",
   "execution_count": 35,
   "id": "33294266",
   "metadata": {},
   "outputs": [],
   "source": [
    "#for polygon\n",
    "from tkinter import*\n",
    "top=Tk()\n",
    "C=Canvas(top,bg=\"blue\",height=250,width=300)\n",
    "poly=C.create_polygon(10,20,200,250,30,200,300,350,fill=\"red\")\n",
    "C.pack()\n",
    "top.mainloop()"
   ]
  },
  {
   "cell_type": "code",
   "execution_count": 36,
   "id": "b0f5e842",
   "metadata": {},
   "outputs": [],
   "source": [
    "#For Entry And Label\n",
    "from tkinter import*\n",
    "top=Tk()\n",
    "L1=Label(top,text=\"User Name\")\n",
    "L1.pack(side=LEFT)\n",
    "E1=Entry(top,bd=5)\n",
    "E1.pack(side=RIGHT)\n",
    "top.mainloop()"
   ]
  },
  {
   "cell_type": "code",
   "execution_count": 48,
   "id": "1cb08605",
   "metadata": {},
   "outputs": [],
   "source": [
    "#Frame\n",
    "from tkinter import*\n",
    "root=Tk()\n",
    "#top\n",
    "frame=Frame(root)\n",
    "frame.pack()#by defaublt it is top\n",
    "      \n",
    "#left\n",
    "leftframe=Frame(root)\n",
    "leftframe.pack(side=LEFT)\n",
    "       \n",
    "#right\n",
    "rightframe=Frame(root)\n",
    "rightframe.pack(side=RIGHT)\n",
    "     \n",
    "#bottom\n",
    "bottomframe=Frame(root)\n",
    "bottomframe.pack(side=BOTTOM)\n",
    "\n",
    "#top button     \n",
    "redButton=Button(frame,text=\"Red\",bg=\"red\")\n",
    "redButton.pack(side=LEFT)#if side = right,left,top,bottom if side=right then blue comes first then red come\n",
    "blueButton=Button(frame,text=\"Blue\",bg=\"blue\")\n",
    "blueButton.pack(side=LEFT)\n",
    "#left button\n",
    "orangeButton=Button(leftframe,text=\"Orange\",bg=\"orange\")\n",
    "orangeButton.pack(side=LEFT)\n",
    "pinkButton=Button(leftframe,text=\"Pink\",bg=\"pink\")\n",
    "pinkButton.pack(side=BOTTOM)\n",
    "#right button\n",
    "greenButton=Button(rightframe,text=\"Green\",bg=\"green\")\n",
    "greenButton.pack(side=LEFT)\n",
    "yellowButton=Button(rightframe,text=\"Yellow\",bg=\"yellow\")\n",
    "yellowButton.pack(side=BOTTOM)\n",
    "#bottom button\n",
    "blackButton=Button(bottomframe,text=\"Black\",bg=\"black\")\n",
    "blackButton.pack(side=LEFT)\n",
    "brownButton=Button(bottomframe,text=\"Brown\",bg=\"brown\")\n",
    "brownButton.pack(side=BOTTOM)\n",
    "           \n",
    "root.mainloop()"
   ]
  },
  {
   "cell_type": "code",
   "execution_count": 50,
   "id": "fa55bc45",
   "metadata": {},
   "outputs": [],
   "source": [
    "#List Box\n",
    "from tkinter import*\n",
    "top=Tk()\n",
    "Lb1=Listbox(top)\n",
    "Lb1.insert(1,\"Python\")\n",
    "Lb1.insert(2,\"Perl\")\n",
    "Lb1.insert(3,\"C\")\n",
    "Lb1.insert(4,\"PHP\")\n",
    "Lb1.insert(5,\"JSP\")\n",
    "Lb1.insert(6,\"Ruby\")\n",
    "Lb1.pack()\n",
    "top.mainloop()"
   ]
  },
  {
   "cell_type": "code",
   "execution_count": 53,
   "id": "cad945b3",
   "metadata": {},
   "outputs": [],
   "source": [
    "#Radio button\n",
    "def sel():\n",
    "    selection=\"You selected the option\"+str(var.get())\n",
    "    label.config(text=selection)\n",
    "top=Tk()\n",
    "var=IntVar()\n",
    "R1=Radiobutton(top,text=\"Option1\",variable=var,value=1,command=sel)\n",
    "R1.pack(anchor=W)\n",
    "R2=Radiobutton(top,text=\"Option2\",variable=var,value=2,command=sel)\n",
    "R2.pack(anchor=W)\n",
    "R3=Radiobutton(top,text=\"Option3\",variable=var,value=3,command=sel)\n",
    "R3.pack(anchor=W)\n",
    "label=Label(top)\n",
    "label.pack()\n",
    "top.mainloop()"
   ]
  },
  {
   "cell_type": "code",
   "execution_count": 7,
   "id": "a00e7400",
   "metadata": {},
   "outputs": [],
   "source": [
    "#Menu Button\n",
    "from tkinter import*\n",
    "import tkinter.messagebox\n",
    "import tkinter\n",
    "top=Tk()\n",
    "mb=Menubutton(top,text=\"Condiments\",relief=RAISED)\n",
    "mb.grid()\n",
    "mb.menu=Menu(mb,tearoff=0)\n",
    "mb[\"menu\"]=mb.menu\n",
    "mayoVar=IntVar()\n",
    "ketchVar=IntVar()\n",
    "mb.menu.add_checkbutton(label=\"mayo\",variable=mayoVar)\n",
    "mb.menu.add_checkbutton(label=\"ketchup\",variable=ketchVar)\n",
    "mb.pack()\n",
    "top.mainloop()"
   ]
  },
  {
   "cell_type": "code",
   "execution_count": 9,
   "id": "60d982fd",
   "metadata": {},
   "outputs": [],
   "source": [
    "#Check Button\n",
    "from tkinter import*\n",
    "top=Tk()\n",
    "checkVar1=IntVar()\n",
    "checkVar2=IntVar()\n",
    "c1=Checkbutton(top,text=\"Music\",variable=checkVar1,onvalue=1,offvalue=0,height=5,width=20)\n",
    "c2=Checkbutton(top,text=\"Video\",variable=checkVar2,onvalue=1,offvalue=0,height=15,width=50)\n",
    "c1.pack()\n",
    "c2.pack()\n",
    "top.mainloop()"
   ]
  },
  {
   "cell_type": "code",
   "execution_count": 11,
   "id": "156b48f0",
   "metadata": {},
   "outputs": [],
   "source": [
    "#Bring Image\n",
    "from tkinter import*\n",
    "root=Tk()\n",
    "canvas=Canvas(width=300,height=200,bg=\"yellow\")\n",
    "canvas.pack(expand=YES,fill=BOTH)\n",
    "gif1=PhotoImage(file=\"Screenshot (13).png\")\n",
    "canvas.create_image(50,10,image=gif1,anchor=NW)\n",
    "root.mainloop()"
   ]
  },
  {
   "cell_type": "code",
   "execution_count": 12,
   "id": "12cfe7e7",
   "metadata": {},
   "outputs": [],
   "source": [
    "#Label\n",
    "from tkinter import*\n",
    "root=Tk()\n",
    "var=StringVar()\n",
    "label=Label(root,textvariable=var,relief=RAISED)\n",
    "var.set(\"Hey!How are you doing?\")\n",
    "label.pack()\n",
    "root.mainloop()"
   ]
  },
  {
   "cell_type": "code",
   "execution_count": 13,
   "id": "0d165e8c",
   "metadata": {},
   "outputs": [],
   "source": [
    "#LabelFrame\n",
    "root=Tk()\n",
    "labelframe=LabelFrame(root,text=\"This is a labelFrame\")\n",
    "labelframe.pack(fill=\"both\",expand=\"yes\")\n",
    "left=Label(labelframe,text=\"Inside the labelframe\")\n",
    "left.pack()\n",
    "root.mainloop()"
   ]
  },
  {
   "cell_type": "code",
   "execution_count": 22,
   "id": "aa640d38",
   "metadata": {},
   "outputs": [],
   "source": [
    "#Menu\n",
    "def donothing():\n",
    "    filewin=Toplevel(root)\n",
    "    button=Button(filewin,text=\"Do nothing button\")\n",
    "    button.pack()\n",
    "    \n",
    "root=Tk()\n",
    "menubar=Menu(root)\n",
    "filemenu=Menu(menubar,tearoff=0)\n",
    "filemenu.add_command(label=\"New\",command=donothing)\n",
    "filemenu.add_command(label=\"open\",command=donothing)\n",
    "filemenu.add_command(label=\"save\",command=donothing)\n",
    "filemenu.add_command(label=\"Save as\",command=donothing)\n",
    "filemenu.add_command(label=\"Close\",command=donothing)\n",
    "\n",
    "filemenu.add_separator()\n",
    "filemenu.add_command(label=\"exit\",command=root.quit)\n",
    "menubar.add_cascade(label=\"file\",menu=filemenu)\n",
    "editmenu=Menu(menubar,tearoff=0)\n",
    "editmenu.add_command(label=\"undo\",command=donothing)\n",
    "editmenu.add_separator()\n",
    "\n",
    "editmenu.add_command(label=\"cut\",command=donothing)\n",
    "editmenu.add_command(label=\"copy\",command=donothing)\n",
    "editmenu.add_command(label=\"paste\",command=donothing)\n",
    "editmenu.add_command(label=\"delete\",command=donothing)\n",
    "editmenu.add_command(label=\"select all\",command=donothing)\n",
    "\n",
    "menubar.add_cascade(label=\"Exit\",command=editmenu)\n",
    "helpmenu=Menu(menubar,tearoff=0)\n",
    "helpmenu.add_command(label=\"Help Indix\",command=donothing)\n",
    "helpmenu.add_command(label=\"About...\",command=donothing)\n",
    "menubar.add_cascade(label=\"help\",menu=helpmenu)\n",
    "\n",
    "root.config(menu=menubar)\n",
    "root.mainloop()"
   ]
  },
  {
   "cell_type": "code",
   "execution_count": 15,
   "id": "2990ab9e",
   "metadata": {},
   "outputs": [],
   "source": [
    "#Message\n",
    "root=Tk()\n",
    "label=Message(root,text=\"How are you doing\",relief=RAISED)\n",
    "label.pack()\n",
    "root.mainloop()"
   ]
  },
  {
   "cell_type": "code",
   "execution_count": 16,
   "id": "be50ca3f",
   "metadata": {},
   "outputs": [],
   "source": [
    "#Scale\n",
    "def sel():\n",
    "    selection=\"Value\"+str(var.get())\n",
    "    label.config(text=selection)\n",
    "    \n",
    "root=Tk()\n",
    "var=DoubleVar()\n",
    "scale=Scale(root,variable=var)\n",
    "scale.pack(anchor=CENTER)\n",
    "button=Button(root,text=\"Get Scale Value\",command=sel)\n",
    "button.pack(anchor=CENTER)\n",
    "label=Label(root)\n",
    "label.pack()\n",
    "root.mainloop()"
   ]
  },
  {
   "cell_type": "code",
   "execution_count": 17,
   "id": "8fb9972e",
   "metadata": {},
   "outputs": [],
   "source": [
    "#Spinbox\n",
    "top=Tk()\n",
    "w=Spinbox(top,from_=0,to=10)\n",
    "w.pack()\n",
    "top.mainloop()"
   ]
  },
  {
   "cell_type": "code",
   "execution_count": 18,
   "id": "fb710737",
   "metadata": {},
   "outputs": [],
   "source": [
    "#Text\n",
    "root=Tk()\n",
    "text=Text(root)\n",
    "text.insert(INSERT,\"Hello...\")\n",
    "text.insert(END,\"Bye Bye....\\n\")\n",
    "text.pack()\n",
    "text.tag_add(\"a1\",\"1.0\",\"1.4\")\n",
    "text.tag_add(\"a2\",\"1.8\",\"1.13\")\n",
    "text.tag_config(\"a1\",background=\"yellow\",foreground=\"blue\")\n",
    "text.tag_config(\"a2\",background=\"black\",foreground=\"green\")\n",
    "root.mainloop()"
   ]
  },
  {
   "cell_type": "code",
   "execution_count": null,
   "id": "e19e7785",
   "metadata": {},
   "outputs": [],
   "source": []
  }
 ],
 "metadata": {
  "kernelspec": {
   "display_name": "Python 3",
   "language": "python",
   "name": "python3"
  },
  "language_info": {
   "codemirror_mode": {
    "name": "ipython",
    "version": 3
   },
   "file_extension": ".py",
   "mimetype": "text/x-python",
   "name": "python",
   "nbconvert_exporter": "python",
   "pygments_lexer": "ipython3",
   "version": "3.8.8"
  }
 },
 "nbformat": 4,
 "nbformat_minor": 5
}
