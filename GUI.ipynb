{
 "cells": [
  {
   "cell_type": "code",
   "execution_count": 1,
   "id": "51ac9e5c",
   "metadata": {},
   "outputs": [],
   "source": [
    "#1 way\n",
    "import tkinter#in py2 we use Tkinter in py3 we write tkinter\n",
    "top=tkinter.Tk()\n",
    "\n",
    "\n",
    "\n",
    "\n",
    "top.mainloop()"
   ]
  },
  {
   "cell_type": "code",
   "execution_count": 2,
   "id": "8c373cad",
   "metadata": {},
   "outputs": [],
   "source": [
    "#2nd way\n",
    "from tkinter import *# we import all library from tkinter\n",
    "top=Tk()\n",
    "\n",
    "top.mainloop()\n",
    "# provide many things like button,text boxes, labels approx 19 type widget\n",
    "#button, canvas, checkbutton, entry, frame, label, listbox, menubutton, menu, message, radiobutton, scale, scrollbar, text, toplevel, spinbox, panedwindow, labelframe, thMessageBox\n",
    "#Standard attributes dimensions, colors, fonts, anchors, relief styles, bitmaps, cursors\n",
    "#geometry Managment-> pack() method, grid() method, place() method"
   ]
  },
  {
   "cell_type": "code",
   "execution_count": 7,
   "id": "3d349e05",
   "metadata": {},
   "outputs": [],
   "source": [
    "#1 Button\n",
    "import tkinter\n",
    "import tkinter.messagebox\n",
    "top=tkinter.Tk()\n",
    "def hellocallback():\n",
    "    tkinter.messagebox.showinfo(\"Hello Python\",\"Hello World\\nHello World\\n\")#hello pyhton is title, hello world is message\n",
    "\n",
    "B=tkinter.Button(top,text=\"hello\",bg=\"red\",fg=\"yellow\",command=hellocallback)#hello is button \n",
    "B.pack()\n",
    "top.mainloop()\n",
    "    "
   ]
  },
  {
   "cell_type": "code",
   "execution_count": 10,
   "id": "41dd42c7",
   "metadata": {},
   "outputs": [],
   "source": [
    "#2nd Canvas\n",
    "import tkinter\n",
    "top=tkinter.Tk()\n",
    "C=tkinter.Canvas(top,bg=\"blue\",height=250,width=300)#for box\n",
    "coord=10,50,240,210#10 from up and 50 from left means lefttop point\n",
    "arc=C.create_arc(coord,start=0,extent=150,fill=\"red\")#extent 150 means 150 degree\n",
    "C.pack()\n",
    "top.mainloop()"
   ]
  },
  {
   "cell_type": "code",
   "execution_count": 15,
   "id": "644c56e3",
   "metadata": {},
   "outputs": [],
   "source": [
    "#3rd Entry\n",
    "from tkinter import *\n",
    "top=Tk()\n",
    "L1=Label(top,text=\"User Name\")\n",
    "L1.pack(side=LEFT)\n",
    "E1=Entry(top,bd=\"5\")#bydefault border=2\n",
    "E1.pack(side=RIGHT)\n",
    "top.mainloop()"
   ]
  },
  {
   "cell_type": "code",
   "execution_count": 21,
   "id": "695d0563",
   "metadata": {},
   "outputs": [],
   "source": [
    "#4th Frame\n",
    "from tkinter import *\n",
    "root=Tk()\n",
    "frame=Frame(root)\n",
    "frame.pack()#side=TOP\n",
    "\n",
    "leftframe=Frame(root)\n",
    "leftframe.pack(side=LEFT)\n",
    "\n",
    "rightframe=Frame(root)\n",
    "rightframe.pack(side=RIGHT)\n",
    "\n",
    "bottomframe=Frame(root)\n",
    "bottomframe.pack(side=BOTTOM)\n",
    "\n",
    "redbutton=Button(frame,text=\"Red\",bg=\"blue\",fg=\"red\")\n",
    "redbutton.pack(side=LEFT)\n",
    "\n",
    "bluebutton=Button(frame,text=\"Blue\",bg=\"red\",fg=\"blue\")\n",
    "bluebutton.pack(side=LEFT)\n",
    "\n",
    "orangebutton=Button(leftframe,text=\"Orange\",bg=\"pink\",fg=\"orange\")\n",
    "orangebutton.pack(side=LEFT)\n",
    "\n",
    "pinkbutton=Button(leftframe,text=\"Pink\",bg=\"orange\",fg=\"pink\")\n",
    "pinkbutton.pack(side=LEFT)#side=left/right/top/bottom\n",
    "\n",
    "greenbutton=Button(rightframe,text=\"Green\",bg=\"yellow\",fg=\"green\")\n",
    "greenbutton.pack(side=LEFT)\n",
    "\n",
    "yellowbutton=Button(rightframe,text=\"Yellow\",bg=\"green\",fg=\"yellow\")\n",
    "yellowbutton.pack(side=LEFT)\n",
    "\n",
    "blackbutton=Button(bottomframe,text=\"Black\",bg=\"brown\",fg=\"black\")\n",
    "blackbutton.pack(side=LEFT)\n",
    "\n",
    "brownbutton=Button(bottomframe,text=\"Brown\",bg=\"black\",fg=\"brown\")\n",
    "brownbutton.pack(side=LEFT)\n",
    "top.mainloop()"
   ]
  },
  {
   "cell_type": "code",
   "execution_count": 25,
   "id": "0c92b534",
   "metadata": {},
   "outputs": [],
   "source": [
    "#5th ListBox\n",
    "from tkinter import *\n",
    "top=Tk()\n",
    "Lb1=Listbox(top)\n",
    "Lb1.insert(1,\"Python\")\n",
    "Lb1.insert(2,\"Perl\")\n",
    "Lb1.insert(3,\"C\")\n",
    "Lb1.insert(4,\"PHP\")\n",
    "Lb1.insert(5,\"JSP\")\n",
    "Lb1.insert(6,\"Ruby\")\n",
    "Lb1.pack()\n",
    "top.mainloop()"
   ]
  },
  {
   "cell_type": "code",
   "execution_count": 4,
   "id": "74308c2f",
   "metadata": {},
   "outputs": [
    {
     "ename": "SyntaxError",
     "evalue": "EOL while scanning string literal (<ipython-input-4-281a979c9164>, line 1)",
     "output_type": "error",
     "traceback": [
      "\u001b[1;36m  File \u001b[1;32m\"<ipython-input-4-281a979c9164>\"\u001b[1;36m, line \u001b[1;32m1\u001b[0m\n\u001b[1;33m    print(\"\"%.2f\" %6.1)\u001b[0m\n\u001b[1;37m                       ^\u001b[0m\n\u001b[1;31mSyntaxError\u001b[0m\u001b[1;31m:\u001b[0m EOL while scanning string literal\n"
     ]
    }
   ],
   "source": [
    "print(\"\"%.2f\" %6.1)"
   ]
  },
  {
   "cell_type": "code",
   "execution_count": null,
   "id": "808c9672",
   "metadata": {},
   "outputs": [],
   "source": [
    "txt=\"\""
   ]
  }
 ],
 "metadata": {
  "kernelspec": {
   "display_name": "Python 3",
   "language": "python",
   "name": "python3"
  },
  "language_info": {
   "codemirror_mode": {
    "name": "ipython",
    "version": 3
   },
   "file_extension": ".py",
   "mimetype": "text/x-python",
   "name": "python",
   "nbconvert_exporter": "python",
   "pygments_lexer": "ipython3",
   "version": "3.8.8"
  }
 },
 "nbformat": 4,
 "nbformat_minor": 5
}
